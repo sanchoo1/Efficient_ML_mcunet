{
 "cells": [
  {
   "cell_type": "code",
   "execution_count": 2,
   "id": "f2444944",
   "metadata": {},
   "outputs": [
    {
     "name": "stderr",
     "output_type": "stream",
     "text": [
      "c:\\Users\\96156\\OneDrive - nyu.edu\\ce\\9483\\Efficient_ML_mcunet\\mcunet\\model_zoo.py:82: FutureWarning: You are using `torch.load` with `weights_only=False` (the current default value), which uses the default pickle module implicitly. It is possible to construct malicious pickle data which will execute arbitrary code during unpickling (See https://github.com/pytorch/pytorch/blob/main/SECURITY.md#untrusted-models for more details). In a future release, the default value for `weights_only` will be flipped to `True`. This limits the functions that could be executed during unpickling. Arbitrary objects will no longer be allowed to be loaded via this mode unless they are explicitly allowlisted by the user via `torch.serialization.add_safe_globals`. We recommend you start setting `weights_only=True` for any use case where you don't have full control of the loaded file. Please open an issue on GitHub for any issues related to this experimental feature.\n",
      "  sd = torch.load(download_url(sd_url), map_location='cpu')\n"
     ]
    },
    {
     "name": "stdout",
     "output_type": "stream",
     "text": [
      "\n",
      "===== mcunet-in2 (res：160×160) =====\n",
      "----------------------------------------------------------------\n",
      "        Layer (type)               Output Shape         Param #\n",
      "================================================================\n",
      "            Conv2d-1           [-1, 16, 80, 80]             432\n",
      "       BatchNorm2d-2           [-1, 16, 80, 80]              32\n",
      "             ReLU6-3           [-1, 16, 80, 80]               0\n",
      "         ConvLayer-4           [-1, 16, 80, 80]               0\n",
      "            Conv2d-5           [-1, 16, 80, 80]             144\n",
      "       BatchNorm2d-6           [-1, 16, 80, 80]              32\n",
      "             ReLU6-7           [-1, 16, 80, 80]               0\n",
      "            Conv2d-8            [-1, 8, 80, 80]             128\n",
      "       BatchNorm2d-9            [-1, 8, 80, 80]              16\n",
      "MBInvertedConvLayer-10            [-1, 8, 80, 80]               0\n",
      "MobileInvertedResidualBlock-11            [-1, 8, 80, 80]               0\n",
      "           Conv2d-12           [-1, 24, 80, 80]             192\n",
      "      BatchNorm2d-13           [-1, 24, 80, 80]              48\n",
      "            ReLU6-14           [-1, 24, 80, 80]               0\n",
      "           Conv2d-15           [-1, 24, 40, 40]             600\n",
      "      BatchNorm2d-16           [-1, 24, 40, 40]              48\n",
      "            ReLU6-17           [-1, 24, 40, 40]               0\n",
      "           Conv2d-18           [-1, 16, 40, 40]             384\n",
      "      BatchNorm2d-19           [-1, 16, 40, 40]              32\n",
      "MBInvertedConvLayer-20           [-1, 16, 40, 40]               0\n",
      "MobileInvertedResidualBlock-21           [-1, 16, 40, 40]               0\n",
      "           Conv2d-22           [-1, 96, 40, 40]           1,536\n",
      "      BatchNorm2d-23           [-1, 96, 40, 40]             192\n",
      "            ReLU6-24           [-1, 96, 40, 40]               0\n",
      "           Conv2d-25           [-1, 96, 40, 40]           4,704\n",
      "      BatchNorm2d-26           [-1, 96, 40, 40]             192\n",
      "            ReLU6-27           [-1, 96, 40, 40]               0\n",
      "           Conv2d-28           [-1, 16, 40, 40]           1,536\n",
      "      BatchNorm2d-29           [-1, 16, 40, 40]              32\n",
      "MBInvertedConvLayer-30           [-1, 16, 40, 40]               0\n",
      "    IdentityLayer-31           [-1, 16, 40, 40]               0\n",
      "MobileInvertedResidualBlock-32           [-1, 16, 40, 40]               0\n",
      "           Conv2d-33           [-1, 80, 40, 40]           1,280\n",
      "      BatchNorm2d-34           [-1, 80, 40, 40]             160\n",
      "            ReLU6-35           [-1, 80, 40, 40]               0\n",
      "           Conv2d-36           [-1, 80, 40, 40]             720\n",
      "      BatchNorm2d-37           [-1, 80, 40, 40]             160\n",
      "            ReLU6-38           [-1, 80, 40, 40]               0\n",
      "           Conv2d-39           [-1, 16, 40, 40]           1,280\n",
      "      BatchNorm2d-40           [-1, 16, 40, 40]              32\n",
      "MBInvertedConvLayer-41           [-1, 16, 40, 40]               0\n",
      "    IdentityLayer-42           [-1, 16, 40, 40]               0\n",
      "MobileInvertedResidualBlock-43           [-1, 16, 40, 40]               0\n",
      "           Conv2d-44           [-1, 80, 40, 40]           1,280\n",
      "      BatchNorm2d-45           [-1, 80, 40, 40]             160\n",
      "            ReLU6-46           [-1, 80, 40, 40]               0\n",
      "           Conv2d-47           [-1, 80, 40, 40]           2,000\n",
      "      BatchNorm2d-48           [-1, 80, 40, 40]             160\n",
      "            ReLU6-49           [-1, 80, 40, 40]               0\n",
      "           Conv2d-50           [-1, 16, 40, 40]           1,280\n",
      "      BatchNorm2d-51           [-1, 16, 40, 40]              32\n",
      "MBInvertedConvLayer-52           [-1, 16, 40, 40]               0\n",
      "    IdentityLayer-53           [-1, 16, 40, 40]               0\n",
      "MobileInvertedResidualBlock-54           [-1, 16, 40, 40]               0\n",
      "           Conv2d-55           [-1, 80, 40, 40]           1,280\n",
      "      BatchNorm2d-56           [-1, 80, 40, 40]             160\n",
      "            ReLU6-57           [-1, 80, 40, 40]               0\n",
      "           Conv2d-58           [-1, 80, 20, 20]             720\n",
      "      BatchNorm2d-59           [-1, 80, 20, 20]             160\n",
      "            ReLU6-60           [-1, 80, 20, 20]               0\n",
      "           Conv2d-61           [-1, 24, 20, 20]           1,920\n",
      "      BatchNorm2d-62           [-1, 24, 20, 20]              48\n",
      "MBInvertedConvLayer-63           [-1, 24, 20, 20]               0\n",
      "MobileInvertedResidualBlock-64           [-1, 24, 20, 20]               0\n",
      "           Conv2d-65          [-1, 144, 20, 20]           3,456\n",
      "      BatchNorm2d-66          [-1, 144, 20, 20]             288\n",
      "            ReLU6-67          [-1, 144, 20, 20]               0\n",
      "           Conv2d-68          [-1, 144, 20, 20]           7,056\n",
      "      BatchNorm2d-69          [-1, 144, 20, 20]             288\n",
      "            ReLU6-70          [-1, 144, 20, 20]               0\n",
      "           Conv2d-71           [-1, 24, 20, 20]           3,456\n",
      "      BatchNorm2d-72           [-1, 24, 20, 20]              48\n",
      "MBInvertedConvLayer-73           [-1, 24, 20, 20]               0\n",
      "    IdentityLayer-74           [-1, 24, 20, 20]               0\n",
      "MobileInvertedResidualBlock-75           [-1, 24, 20, 20]               0\n",
      "           Conv2d-76          [-1, 144, 20, 20]           3,456\n",
      "      BatchNorm2d-77          [-1, 144, 20, 20]             288\n",
      "            ReLU6-78          [-1, 144, 20, 20]               0\n",
      "           Conv2d-79          [-1, 144, 20, 20]           3,600\n",
      "      BatchNorm2d-80          [-1, 144, 20, 20]             288\n",
      "            ReLU6-81          [-1, 144, 20, 20]               0\n",
      "           Conv2d-82           [-1, 24, 20, 20]           3,456\n",
      "      BatchNorm2d-83           [-1, 24, 20, 20]              48\n",
      "MBInvertedConvLayer-84           [-1, 24, 20, 20]               0\n",
      "    IdentityLayer-85           [-1, 24, 20, 20]               0\n",
      "MobileInvertedResidualBlock-86           [-1, 24, 20, 20]               0\n",
      "           Conv2d-87           [-1, 96, 20, 20]           2,304\n",
      "      BatchNorm2d-88           [-1, 96, 20, 20]             192\n",
      "            ReLU6-89           [-1, 96, 20, 20]               0\n",
      "           Conv2d-90           [-1, 96, 10, 10]           4,704\n",
      "      BatchNorm2d-91           [-1, 96, 10, 10]             192\n",
      "            ReLU6-92           [-1, 96, 10, 10]               0\n",
      "           Conv2d-93           [-1, 40, 10, 10]           3,840\n",
      "      BatchNorm2d-94           [-1, 40, 10, 10]              80\n",
      "MBInvertedConvLayer-95           [-1, 40, 10, 10]               0\n",
      "MobileInvertedResidualBlock-96           [-1, 40, 10, 10]               0\n",
      "           Conv2d-97          [-1, 200, 10, 10]           8,000\n",
      "      BatchNorm2d-98          [-1, 200, 10, 10]             400\n",
      "            ReLU6-99          [-1, 200, 10, 10]               0\n",
      "          Conv2d-100          [-1, 200, 10, 10]           5,000\n",
      "     BatchNorm2d-101          [-1, 200, 10, 10]             400\n",
      "           ReLU6-102          [-1, 200, 10, 10]               0\n",
      "          Conv2d-103           [-1, 40, 10, 10]           8,000\n",
      "     BatchNorm2d-104           [-1, 40, 10, 10]              80\n",
      "MBInvertedConvLayer-105           [-1, 40, 10, 10]               0\n",
      "   IdentityLayer-106           [-1, 40, 10, 10]               0\n",
      "MobileInvertedResidualBlock-107           [-1, 40, 10, 10]               0\n",
      "          Conv2d-108          [-1, 200, 10, 10]           8,000\n",
      "     BatchNorm2d-109          [-1, 200, 10, 10]             400\n",
      "           ReLU6-110          [-1, 200, 10, 10]               0\n",
      "          Conv2d-111          [-1, 200, 10, 10]           1,800\n",
      "     BatchNorm2d-112          [-1, 200, 10, 10]             400\n",
      "           ReLU6-113          [-1, 200, 10, 10]               0\n",
      "          Conv2d-114           [-1, 48, 10, 10]           9,600\n",
      "     BatchNorm2d-115           [-1, 48, 10, 10]              96\n",
      "MBInvertedConvLayer-116           [-1, 48, 10, 10]               0\n",
      "MobileInvertedResidualBlock-117           [-1, 48, 10, 10]               0\n",
      "          Conv2d-118          [-1, 240, 10, 10]          11,520\n",
      "     BatchNorm2d-119          [-1, 240, 10, 10]             480\n",
      "           ReLU6-120          [-1, 240, 10, 10]               0\n",
      "          Conv2d-121          [-1, 240, 10, 10]           6,000\n",
      "     BatchNorm2d-122          [-1, 240, 10, 10]             480\n",
      "           ReLU6-123          [-1, 240, 10, 10]               0\n",
      "          Conv2d-124           [-1, 48, 10, 10]          11,520\n",
      "     BatchNorm2d-125           [-1, 48, 10, 10]              96\n",
      "MBInvertedConvLayer-126           [-1, 48, 10, 10]               0\n",
      "   IdentityLayer-127           [-1, 48, 10, 10]               0\n",
      "MobileInvertedResidualBlock-128           [-1, 48, 10, 10]               0\n",
      "          Conv2d-129          [-1, 192, 10, 10]           9,216\n",
      "     BatchNorm2d-130          [-1, 192, 10, 10]             384\n",
      "           ReLU6-131          [-1, 192, 10, 10]               0\n",
      "          Conv2d-132          [-1, 192, 10, 10]           1,728\n",
      "     BatchNorm2d-133          [-1, 192, 10, 10]             384\n",
      "           ReLU6-134          [-1, 192, 10, 10]               0\n",
      "          Conv2d-135           [-1, 48, 10, 10]           9,216\n",
      "     BatchNorm2d-136           [-1, 48, 10, 10]              96\n",
      "MBInvertedConvLayer-137           [-1, 48, 10, 10]               0\n",
      "   IdentityLayer-138           [-1, 48, 10, 10]               0\n",
      "MobileInvertedResidualBlock-139           [-1, 48, 10, 10]               0\n",
      "          Conv2d-140          [-1, 288, 10, 10]          13,824\n",
      "     BatchNorm2d-141          [-1, 288, 10, 10]             576\n",
      "           ReLU6-142          [-1, 288, 10, 10]               0\n",
      "          Conv2d-143            [-1, 288, 5, 5]           7,200\n",
      "     BatchNorm2d-144            [-1, 288, 5, 5]             576\n",
      "           ReLU6-145            [-1, 288, 5, 5]               0\n",
      "          Conv2d-146             [-1, 96, 5, 5]          27,648\n",
      "     BatchNorm2d-147             [-1, 96, 5, 5]             192\n",
      "MBInvertedConvLayer-148             [-1, 96, 5, 5]               0\n",
      "MobileInvertedResidualBlock-149             [-1, 96, 5, 5]               0\n",
      "          Conv2d-150            [-1, 384, 5, 5]          36,864\n",
      "     BatchNorm2d-151            [-1, 384, 5, 5]             768\n",
      "           ReLU6-152            [-1, 384, 5, 5]               0\n",
      "          Conv2d-153            [-1, 384, 5, 5]           9,600\n",
      "     BatchNorm2d-154            [-1, 384, 5, 5]             768\n",
      "           ReLU6-155            [-1, 384, 5, 5]               0\n",
      "          Conv2d-156             [-1, 96, 5, 5]          36,864\n",
      "     BatchNorm2d-157             [-1, 96, 5, 5]             192\n",
      "MBInvertedConvLayer-158             [-1, 96, 5, 5]               0\n",
      "   IdentityLayer-159             [-1, 96, 5, 5]               0\n",
      "MobileInvertedResidualBlock-160             [-1, 96, 5, 5]               0\n",
      "          Conv2d-161            [-1, 288, 5, 5]          27,648\n",
      "     BatchNorm2d-162            [-1, 288, 5, 5]             576\n",
      "           ReLU6-163            [-1, 288, 5, 5]               0\n",
      "          Conv2d-164            [-1, 288, 5, 5]           7,200\n",
      "     BatchNorm2d-165            [-1, 288, 5, 5]             576\n",
      "           ReLU6-166            [-1, 288, 5, 5]               0\n",
      "          Conv2d-167             [-1, 96, 5, 5]          27,648\n",
      "     BatchNorm2d-168             [-1, 96, 5, 5]             192\n",
      "MBInvertedConvLayer-169             [-1, 96, 5, 5]               0\n",
      "   IdentityLayer-170             [-1, 96, 5, 5]               0\n",
      "MobileInvertedResidualBlock-171             [-1, 96, 5, 5]               0\n",
      "          Conv2d-172            [-1, 384, 5, 5]          36,864\n",
      "     BatchNorm2d-173            [-1, 384, 5, 5]             768\n",
      "           ReLU6-174            [-1, 384, 5, 5]               0\n",
      "          Conv2d-175            [-1, 384, 5, 5]           3,456\n",
      "     BatchNorm2d-176            [-1, 384, 5, 5]             768\n",
      "           ReLU6-177            [-1, 384, 5, 5]               0\n",
      "          Conv2d-178             [-1, 96, 5, 5]          36,864\n",
      "     BatchNorm2d-179             [-1, 96, 5, 5]             192\n",
      "MBInvertedConvLayer-180             [-1, 96, 5, 5]               0\n",
      "   IdentityLayer-181             [-1, 96, 5, 5]               0\n",
      "MobileInvertedResidualBlock-182             [-1, 96, 5, 5]               0\n",
      "          Conv2d-183            [-1, 480, 5, 5]          46,080\n",
      "     BatchNorm2d-184            [-1, 480, 5, 5]             960\n",
      "           ReLU6-185            [-1, 480, 5, 5]               0\n",
      "          Conv2d-186            [-1, 480, 5, 5]          12,000\n",
      "     BatchNorm2d-187            [-1, 480, 5, 5]             960\n",
      "           ReLU6-188            [-1, 480, 5, 5]               0\n",
      "          Conv2d-189            [-1, 160, 5, 5]          76,800\n",
      "     BatchNorm2d-190            [-1, 160, 5, 5]             320\n",
      "MBInvertedConvLayer-191            [-1, 160, 5, 5]               0\n",
      "MobileInvertedResidualBlock-192            [-1, 160, 5, 5]               0\n",
      "          Linear-193                 [-1, 1000]         161,000\n",
      "     LinearLayer-194                 [-1, 1000]               0\n",
      "================================================================\n",
      "Total params: 729,392\n",
      "Trainable params: 729,392\n",
      "Non-trainable params: 0\n",
      "----------------------------------------------------------------\n",
      "Input size (MB): 0.29\n",
      "Forward/backward pass size (MB): 52.61\n",
      "Params size (MB): 2.78\n",
      "Estimated Total Size (MB): 55.68\n",
      "----------------------------------------------------------------\n",
      "\n",
      "===== mcunet-in4 (res：160×160) =====\n",
      "----------------------------------------------------------------\n",
      "        Layer (type)               Output Shape         Param #\n",
      "================================================================\n",
      "            Conv2d-1           [-1, 32, 80, 80]             864\n",
      "       BatchNorm2d-2           [-1, 32, 80, 80]              64\n",
      "             ReLU6-3           [-1, 32, 80, 80]               0\n",
      "         ConvLayer-4           [-1, 32, 80, 80]               0\n",
      "            Conv2d-5           [-1, 32, 80, 80]             288\n",
      "       BatchNorm2d-6           [-1, 32, 80, 80]              64\n",
      "             ReLU6-7           [-1, 32, 80, 80]               0\n",
      "            Conv2d-8           [-1, 16, 80, 80]             512\n",
      "       BatchNorm2d-9           [-1, 16, 80, 80]              32\n",
      "MBInvertedConvLayer-10           [-1, 16, 80, 80]               0\n",
      "MobileInvertedResidualBlock-11           [-1, 16, 80, 80]               0\n",
      "           Conv2d-12           [-1, 48, 80, 80]             768\n",
      "      BatchNorm2d-13           [-1, 48, 80, 80]              96\n",
      "            ReLU6-14           [-1, 48, 80, 80]               0\n",
      "           Conv2d-15           [-1, 48, 40, 40]           2,352\n",
      "      BatchNorm2d-16           [-1, 48, 40, 40]              96\n",
      "            ReLU6-17           [-1, 48, 40, 40]               0\n",
      "           Conv2d-18           [-1, 24, 40, 40]           1,152\n",
      "      BatchNorm2d-19           [-1, 24, 40, 40]              48\n",
      "MBInvertedConvLayer-20           [-1, 24, 40, 40]               0\n",
      "MobileInvertedResidualBlock-21           [-1, 24, 40, 40]               0\n",
      "           Conv2d-22          [-1, 120, 40, 40]           2,880\n",
      "      BatchNorm2d-23          [-1, 120, 40, 40]             240\n",
      "            ReLU6-24          [-1, 120, 40, 40]               0\n",
      "           Conv2d-25          [-1, 120, 40, 40]           1,080\n",
      "      BatchNorm2d-26          [-1, 120, 40, 40]             240\n",
      "            ReLU6-27          [-1, 120, 40, 40]               0\n",
      "           Conv2d-28           [-1, 24, 40, 40]           2,880\n",
      "      BatchNorm2d-29           [-1, 24, 40, 40]              48\n",
      "MBInvertedConvLayer-30           [-1, 24, 40, 40]               0\n",
      "    IdentityLayer-31           [-1, 24, 40, 40]               0\n",
      "MobileInvertedResidualBlock-32           [-1, 24, 40, 40]               0\n",
      "           Conv2d-33           [-1, 96, 40, 40]           2,304\n",
      "      BatchNorm2d-34           [-1, 96, 40, 40]             192\n",
      "            ReLU6-35           [-1, 96, 40, 40]               0\n",
      "           Conv2d-36           [-1, 96, 40, 40]           2,400\n",
      "      BatchNorm2d-37           [-1, 96, 40, 40]             192\n",
      "            ReLU6-38           [-1, 96, 40, 40]               0\n",
      "           Conv2d-39           [-1, 24, 40, 40]           2,304\n",
      "      BatchNorm2d-40           [-1, 24, 40, 40]              48\n",
      "MBInvertedConvLayer-41           [-1, 24, 40, 40]               0\n",
      "    IdentityLayer-42           [-1, 24, 40, 40]               0\n",
      "MobileInvertedResidualBlock-43           [-1, 24, 40, 40]               0\n",
      "           Conv2d-44          [-1, 120, 40, 40]           2,880\n",
      "      BatchNorm2d-45          [-1, 120, 40, 40]             240\n",
      "            ReLU6-46          [-1, 120, 40, 40]               0\n",
      "           Conv2d-47          [-1, 120, 20, 20]           5,880\n",
      "      BatchNorm2d-48          [-1, 120, 20, 20]             240\n",
      "            ReLU6-49          [-1, 120, 20, 20]               0\n",
      "           Conv2d-50           [-1, 40, 20, 20]           4,800\n",
      "      BatchNorm2d-51           [-1, 40, 20, 20]              80\n",
      "MBInvertedConvLayer-52           [-1, 40, 20, 20]               0\n",
      "MobileInvertedResidualBlock-53           [-1, 40, 20, 20]               0\n",
      "           Conv2d-54          [-1, 160, 20, 20]           6,400\n",
      "      BatchNorm2d-55          [-1, 160, 20, 20]             320\n",
      "            ReLU6-56          [-1, 160, 20, 20]               0\n",
      "           Conv2d-57          [-1, 160, 20, 20]           1,440\n",
      "      BatchNorm2d-58          [-1, 160, 20, 20]             320\n",
      "            ReLU6-59          [-1, 160, 20, 20]               0\n",
      "           Conv2d-60           [-1, 40, 20, 20]           6,400\n",
      "      BatchNorm2d-61           [-1, 40, 20, 20]              80\n",
      "MBInvertedConvLayer-62           [-1, 40, 20, 20]               0\n",
      "    IdentityLayer-63           [-1, 40, 20, 20]               0\n",
      "MobileInvertedResidualBlock-64           [-1, 40, 20, 20]               0\n",
      "           Conv2d-65          [-1, 160, 20, 20]           6,400\n",
      "      BatchNorm2d-66          [-1, 160, 20, 20]             320\n",
      "            ReLU6-67          [-1, 160, 20, 20]               0\n",
      "           Conv2d-68          [-1, 160, 20, 20]           7,840\n",
      "      BatchNorm2d-69          [-1, 160, 20, 20]             320\n",
      "            ReLU6-70          [-1, 160, 20, 20]               0\n",
      "           Conv2d-71           [-1, 40, 20, 20]           6,400\n",
      "      BatchNorm2d-72           [-1, 40, 20, 20]              80\n",
      "MBInvertedConvLayer-73           [-1, 40, 20, 20]               0\n",
      "    IdentityLayer-74           [-1, 40, 20, 20]               0\n",
      "MobileInvertedResidualBlock-75           [-1, 40, 20, 20]               0\n",
      "           Conv2d-76          [-1, 120, 20, 20]           4,800\n",
      "      BatchNorm2d-77          [-1, 120, 20, 20]             240\n",
      "            ReLU6-78          [-1, 120, 20, 20]               0\n",
      "           Conv2d-79          [-1, 120, 10, 10]           5,880\n",
      "      BatchNorm2d-80          [-1, 120, 10, 10]             240\n",
      "            ReLU6-81          [-1, 120, 10, 10]               0\n",
      "           Conv2d-82           [-1, 80, 10, 10]           9,600\n",
      "      BatchNorm2d-83           [-1, 80, 10, 10]             160\n",
      "MBInvertedConvLayer-84           [-1, 80, 10, 10]               0\n",
      "MobileInvertedResidualBlock-85           [-1, 80, 10, 10]               0\n",
      "           Conv2d-86          [-1, 240, 10, 10]          19,200\n",
      "      BatchNorm2d-87          [-1, 240, 10, 10]             480\n",
      "            ReLU6-88          [-1, 240, 10, 10]               0\n",
      "           Conv2d-89          [-1, 240, 10, 10]           2,160\n",
      "      BatchNorm2d-90          [-1, 240, 10, 10]             480\n",
      "            ReLU6-91          [-1, 240, 10, 10]               0\n",
      "           Conv2d-92           [-1, 80, 10, 10]          19,200\n",
      "      BatchNorm2d-93           [-1, 80, 10, 10]             160\n",
      "MBInvertedConvLayer-94           [-1, 80, 10, 10]               0\n",
      "    IdentityLayer-95           [-1, 80, 10, 10]               0\n",
      "MobileInvertedResidualBlock-96           [-1, 80, 10, 10]               0\n",
      "           Conv2d-97          [-1, 240, 10, 10]          19,200\n",
      "      BatchNorm2d-98          [-1, 240, 10, 10]             480\n",
      "            ReLU6-99          [-1, 240, 10, 10]               0\n",
      "          Conv2d-100          [-1, 240, 10, 10]          11,760\n",
      "     BatchNorm2d-101          [-1, 240, 10, 10]             480\n",
      "           ReLU6-102          [-1, 240, 10, 10]               0\n",
      "          Conv2d-103           [-1, 80, 10, 10]          19,200\n",
      "     BatchNorm2d-104           [-1, 80, 10, 10]             160\n",
      "MBInvertedConvLayer-105           [-1, 80, 10, 10]               0\n",
      "   IdentityLayer-106           [-1, 80, 10, 10]               0\n",
      "MobileInvertedResidualBlock-107           [-1, 80, 10, 10]               0\n",
      "          Conv2d-108          [-1, 320, 10, 10]          25,600\n",
      "     BatchNorm2d-109          [-1, 320, 10, 10]             640\n",
      "           ReLU6-110          [-1, 320, 10, 10]               0\n",
      "          Conv2d-111          [-1, 320, 10, 10]           2,880\n",
      "     BatchNorm2d-112          [-1, 320, 10, 10]             640\n",
      "           ReLU6-113          [-1, 320, 10, 10]               0\n",
      "          Conv2d-114           [-1, 96, 10, 10]          30,720\n",
      "     BatchNorm2d-115           [-1, 96, 10, 10]             192\n",
      "MBInvertedConvLayer-116           [-1, 96, 10, 10]               0\n",
      "MobileInvertedResidualBlock-117           [-1, 96, 10, 10]               0\n",
      "          Conv2d-118          [-1, 288, 10, 10]          27,648\n",
      "     BatchNorm2d-119          [-1, 288, 10, 10]             576\n",
      "           ReLU6-120          [-1, 288, 10, 10]               0\n",
      "          Conv2d-121          [-1, 288, 10, 10]           7,200\n",
      "     BatchNorm2d-122          [-1, 288, 10, 10]             576\n",
      "           ReLU6-123          [-1, 288, 10, 10]               0\n",
      "          Conv2d-124           [-1, 96, 10, 10]          27,648\n",
      "     BatchNorm2d-125           [-1, 96, 10, 10]             192\n",
      "MBInvertedConvLayer-126           [-1, 96, 10, 10]               0\n",
      "   IdentityLayer-127           [-1, 96, 10, 10]               0\n",
      "MobileInvertedResidualBlock-128           [-1, 96, 10, 10]               0\n",
      "          Conv2d-129          [-1, 288, 10, 10]          27,648\n",
      "     BatchNorm2d-130          [-1, 288, 10, 10]             576\n",
      "           ReLU6-131          [-1, 288, 10, 10]               0\n",
      "          Conv2d-132          [-1, 288, 10, 10]           7,200\n",
      "     BatchNorm2d-133          [-1, 288, 10, 10]             576\n",
      "           ReLU6-134          [-1, 288, 10, 10]               0\n",
      "          Conv2d-135           [-1, 96, 10, 10]          27,648\n",
      "     BatchNorm2d-136           [-1, 96, 10, 10]             192\n",
      "MBInvertedConvLayer-137           [-1, 96, 10, 10]               0\n",
      "   IdentityLayer-138           [-1, 96, 10, 10]               0\n",
      "MobileInvertedResidualBlock-139           [-1, 96, 10, 10]               0\n",
      "          Conv2d-140          [-1, 384, 10, 10]          36,864\n",
      "     BatchNorm2d-141          [-1, 384, 10, 10]             768\n",
      "           ReLU6-142          [-1, 384, 10, 10]               0\n",
      "          Conv2d-143            [-1, 384, 5, 5]          18,816\n",
      "     BatchNorm2d-144            [-1, 384, 5, 5]             768\n",
      "           ReLU6-145            [-1, 384, 5, 5]               0\n",
      "          Conv2d-146            [-1, 192, 5, 5]          73,728\n",
      "     BatchNorm2d-147            [-1, 192, 5, 5]             384\n",
      "MBInvertedConvLayer-148            [-1, 192, 5, 5]               0\n",
      "MobileInvertedResidualBlock-149            [-1, 192, 5, 5]               0\n",
      "          Conv2d-150            [-1, 576, 5, 5]         110,592\n",
      "     BatchNorm2d-151            [-1, 576, 5, 5]           1,152\n",
      "           ReLU6-152            [-1, 576, 5, 5]               0\n",
      "          Conv2d-153            [-1, 576, 5, 5]          28,224\n",
      "     BatchNorm2d-154            [-1, 576, 5, 5]           1,152\n",
      "           ReLU6-155            [-1, 576, 5, 5]               0\n",
      "          Conv2d-156            [-1, 192, 5, 5]         110,592\n",
      "     BatchNorm2d-157            [-1, 192, 5, 5]             384\n",
      "MBInvertedConvLayer-158            [-1, 192, 5, 5]               0\n",
      "   IdentityLayer-159            [-1, 192, 5, 5]               0\n",
      "MobileInvertedResidualBlock-160            [-1, 192, 5, 5]               0\n",
      "          Conv2d-161            [-1, 576, 5, 5]         110,592\n",
      "     BatchNorm2d-162            [-1, 576, 5, 5]           1,152\n",
      "           ReLU6-163            [-1, 576, 5, 5]               0\n",
      "          Conv2d-164            [-1, 576, 5, 5]          14,400\n",
      "     BatchNorm2d-165            [-1, 576, 5, 5]           1,152\n",
      "           ReLU6-166            [-1, 576, 5, 5]               0\n",
      "          Conv2d-167            [-1, 192, 5, 5]         110,592\n",
      "     BatchNorm2d-168            [-1, 192, 5, 5]             384\n",
      "MBInvertedConvLayer-169            [-1, 192, 5, 5]               0\n",
      "   IdentityLayer-170            [-1, 192, 5, 5]               0\n",
      "MobileInvertedResidualBlock-171            [-1, 192, 5, 5]               0\n",
      "          Conv2d-172            [-1, 768, 5, 5]         147,456\n",
      "     BatchNorm2d-173            [-1, 768, 5, 5]           1,536\n",
      "           ReLU6-174            [-1, 768, 5, 5]               0\n",
      "          Conv2d-175            [-1, 768, 5, 5]          19,200\n",
      "     BatchNorm2d-176            [-1, 768, 5, 5]           1,536\n",
      "           ReLU6-177            [-1, 768, 5, 5]               0\n",
      "          Conv2d-178            [-1, 320, 5, 5]         245,760\n",
      "     BatchNorm2d-179            [-1, 320, 5, 5]             640\n",
      "MBInvertedConvLayer-180            [-1, 320, 5, 5]               0\n",
      "MobileInvertedResidualBlock-181            [-1, 320, 5, 5]               0\n",
      "          Linear-182                 [-1, 1000]         321,000\n",
      "     LinearLayer-183                 [-1, 1000]               0\n",
      "================================================================\n",
      "Total params: 1,732,640\n",
      "Trainable params: 1,732,640\n",
      "Non-trainable params: 0\n",
      "----------------------------------------------------------------\n",
      "Input size (MB): 0.29\n",
      "Forward/backward pass size (MB): 69.45\n",
      "Params size (MB): 6.61\n",
      "Estimated Total Size (MB): 76.36\n",
      "----------------------------------------------------------------\n"
     ]
    }
   ],
   "source": [
    "import torch\n",
    "from torchsummary import summary\n",
    "from mcunet.model_zoo import build_model\n",
    "\n",
    "device = torch.device(\"cuda\" if torch.cuda.is_available() else \"cpu\")\n",
    "\n",
    "for model_id in (\"mcunet-in2\", \"mcunet-in4\"):\n",
    "    model, resolution, _ = build_model(model_id, pretrained=True)\n",
    "    model = model.to(device)\n",
    "    print(f\"\\n===== {model_id} (res：{resolution}×{resolution}) =====\")\n",
    "\n",
    "    summary(model, input_size=(3, resolution, resolution), device=str(device))"
   ]
  },
  {
   "cell_type": "code",
   "execution_count": 3,
   "id": "2ccf83bc",
   "metadata": {},
   "outputs": [],
   "source": [
    "import torch\n",
    "import time\n",
    "import math\n",
    "import copy\n",
    "import random\n",
    "import logging\n",
    "import requests\n",
    "import torchvision\n",
    "import numpy as np\n",
    "import matplotlib.pyplot as plt\n",
    "import torch.optim as optim\n",
    "import torch.nn as nn\n",
    "import torch.nn.functional as F\n",
    "import torchvision.transforms as transforms\n",
    "from tqdm import tqdm\n",
    "from torch.utils.data import DataLoader\n",
    "from thop import profile\n",
    "from thop import clever_format\n",
    "from torchsummary import summary\n",
    "from mcunet.model_zoo import build_model"
   ]
  },
  {
   "cell_type": "code",
   "execution_count": null,
   "id": "1c8c6c86",
   "metadata": {},
   "outputs": [],
   "source": [
    "class CIFAR:\n",
    "    \"\"\"\n",
    "    CIFAR-10 DataLoader wrapper for MCUNet (160×160 input, finetune on ImageNet-pretrained weights).\n",
    "    \"\"\"\n",
    "    def __init__(self, batch_size=128, num_workers=2):\n",
    "        self.batch_size = batch_size\n",
    "        self.num_workers = num_workers\n",
    "        self.train_loader, self.test_loader = self.prepare_data()\n",
    "\n",
    "    def prepare_data(self):\n",
    "        # 1) 训练集 transforms\n",
    "        transform_train = transforms.Compose([\n",
    "            transforms.Resize((160, 160)),              \n",
    "            transforms.RandomCrop(160, padding=16),     \n",
    "            transforms.RandomHorizontalFlip(),\n",
    "            transforms.ToTensor(),\n",
    "            transforms.Normalize(              \n",
    "                [0.485, 0.456, 0.406],\n",
    "                [0.229, 0.224, 0.225],\n",
    "            ),\n",
    "        ])\n",
    "\n",
    "        # 2) 测试集 transforms\n",
    "        transform_test = transforms.Compose([\n",
    "            transforms.Resize((160, 160)),      \n",
    "            transforms.ToTensor(),\n",
    "            transforms.Normalize( \n",
    "                [0.485, 0.456, 0.406],\n",
    "                [0.229, 0.224, 0.225],\n",
    "            ),\n",
    "        ])\n",
    "\n",
    "        trainset = torchvision.datasets.CIFAR10(\n",
    "            root=\"./data\", train=True, download=True, transform=transform_train\n",
    "        )\n",
    "        trainloader = torch.utils.data.DataLoader(\n",
    "            trainset,\n",
    "            batch_size=self.batch_size,\n",
    "            shuffle=True,\n",
    "            num_workers=self.num_workers,\n",
    "        )\n",
    "\n",
    "        testset = torchvision.datasets.CIFAR10(\n",
    "            root=\"./data\", train=False, download=True, transform=transform_test\n",
    "        )\n",
    "        testloader = torch.utils.data.DataLoader(\n",
    "            testset,\n",
    "            batch_size=self.batch_size,   \n",
    "            shuffle=False,\n",
    "            num_workers=self.num_workers,\n",
    "        )\n",
    "\n",
    "        return trainloader, testloader\n"
   ]
  },
  {
   "cell_type": "code",
   "execution_count": 6,
   "id": "071c403d",
   "metadata": {},
   "outputs": [
    {
     "name": "stdout",
     "output_type": "stream",
     "text": [
      "Files already downloaded and verified\n",
      "Files already downloaded and verified\n",
      "Files already downloaded and verified\n",
      "Files already downloaded and verified\n"
     ]
    }
   ],
   "source": [
    "dataloader = {}\n",
    "dataloader['train'], dataloader['test'] = CIFAR().train_loader, CIFAR().test_loader"
   ]
  },
  {
   "cell_type": "code",
   "execution_count": 30,
   "id": "225e59eb",
   "metadata": {},
   "outputs": [
    {
     "name": "stdout",
     "output_type": "stream",
     "text": [
      "Executable: c:\\Users\\96156\\anaconda3\\python.exe\n",
      "Torch location: c:\\Users\\96156\\anaconda3\\Lib\\site-packages\\torch\\__init__.py\n",
      "CUDA version in torch: 12.1\n",
      "CUDA available?: True\n"
     ]
    }
   ],
   "source": [
    "import sys, torch\n",
    "print(\"Executable:\", sys.executable)\n",
    "print(\"Torch location:\", torch.__file__)\n",
    "print(\"CUDA version in torch:\", torch.version.cuda)\n",
    "print(\"CUDA available?:\", torch.cuda.is_available())"
   ]
  },
  {
   "cell_type": "code",
   "execution_count": 39,
   "id": "fd51d716",
   "metadata": {},
   "outputs": [
    {
     "name": "stdout",
     "output_type": "stream",
     "text": [
      "----------------------------------------------------------------\n",
      "        Layer (type)               Output Shape         Param #\n",
      "================================================================\n",
      "            Conv2d-1           [-1, 16, 80, 80]             432\n",
      "       BatchNorm2d-2           [-1, 16, 80, 80]              32\n",
      "             ReLU6-3           [-1, 16, 80, 80]               0\n",
      "         ConvLayer-4           [-1, 16, 80, 80]               0\n",
      "            Conv2d-5           [-1, 16, 80, 80]             144\n",
      "       BatchNorm2d-6           [-1, 16, 80, 80]              32\n",
      "             ReLU6-7           [-1, 16, 80, 80]               0\n",
      "            Conv2d-8            [-1, 8, 80, 80]             128\n",
      "       BatchNorm2d-9            [-1, 8, 80, 80]              16\n",
      "MBInvertedConvLayer-10            [-1, 8, 80, 80]               0\n",
      "MobileInvertedResidualBlock-11            [-1, 8, 80, 80]               0\n",
      "           Conv2d-12           [-1, 24, 80, 80]             192\n",
      "      BatchNorm2d-13           [-1, 24, 80, 80]              48\n",
      "            ReLU6-14           [-1, 24, 80, 80]               0\n",
      "           Conv2d-15           [-1, 24, 40, 40]             600\n",
      "      BatchNorm2d-16           [-1, 24, 40, 40]              48\n",
      "            ReLU6-17           [-1, 24, 40, 40]               0\n",
      "           Conv2d-18           [-1, 16, 40, 40]             384\n",
      "      BatchNorm2d-19           [-1, 16, 40, 40]              32\n",
      "MBInvertedConvLayer-20           [-1, 16, 40, 40]               0\n",
      "MobileInvertedResidualBlock-21           [-1, 16, 40, 40]               0\n",
      "           Conv2d-22           [-1, 96, 40, 40]           1,536\n",
      "      BatchNorm2d-23           [-1, 96, 40, 40]             192\n",
      "            ReLU6-24           [-1, 96, 40, 40]               0\n",
      "           Conv2d-25           [-1, 96, 40, 40]           4,704\n",
      "      BatchNorm2d-26           [-1, 96, 40, 40]             192\n",
      "            ReLU6-27           [-1, 96, 40, 40]               0\n",
      "           Conv2d-28           [-1, 16, 40, 40]           1,536\n",
      "      BatchNorm2d-29           [-1, 16, 40, 40]              32\n",
      "MBInvertedConvLayer-30           [-1, 16, 40, 40]               0\n",
      "    IdentityLayer-31           [-1, 16, 40, 40]               0\n",
      "MobileInvertedResidualBlock-32           [-1, 16, 40, 40]               0\n",
      "           Conv2d-33           [-1, 80, 40, 40]           1,280\n",
      "      BatchNorm2d-34           [-1, 80, 40, 40]             160\n",
      "            ReLU6-35           [-1, 80, 40, 40]               0\n",
      "           Conv2d-36           [-1, 80, 40, 40]             720\n",
      "      BatchNorm2d-37           [-1, 80, 40, 40]             160\n",
      "            ReLU6-38           [-1, 80, 40, 40]               0\n",
      "           Conv2d-39           [-1, 16, 40, 40]           1,280\n",
      "      BatchNorm2d-40           [-1, 16, 40, 40]              32\n",
      "MBInvertedConvLayer-41           [-1, 16, 40, 40]               0\n",
      "    IdentityLayer-42           [-1, 16, 40, 40]               0\n",
      "MobileInvertedResidualBlock-43           [-1, 16, 40, 40]               0\n",
      "           Conv2d-44           [-1, 80, 40, 40]           1,280\n",
      "      BatchNorm2d-45           [-1, 80, 40, 40]             160\n",
      "            ReLU6-46           [-1, 80, 40, 40]               0\n",
      "           Conv2d-47           [-1, 80, 40, 40]           2,000\n",
      "      BatchNorm2d-48           [-1, 80, 40, 40]             160\n",
      "            ReLU6-49           [-1, 80, 40, 40]               0\n",
      "           Conv2d-50           [-1, 16, 40, 40]           1,280\n",
      "      BatchNorm2d-51           [-1, 16, 40, 40]              32\n",
      "MBInvertedConvLayer-52           [-1, 16, 40, 40]               0\n",
      "    IdentityLayer-53           [-1, 16, 40, 40]               0\n",
      "MobileInvertedResidualBlock-54           [-1, 16, 40, 40]               0\n",
      "           Conv2d-55           [-1, 80, 40, 40]           1,280\n",
      "      BatchNorm2d-56           [-1, 80, 40, 40]             160\n",
      "            ReLU6-57           [-1, 80, 40, 40]               0\n",
      "           Conv2d-58           [-1, 80, 20, 20]             720\n",
      "      BatchNorm2d-59           [-1, 80, 20, 20]             160\n",
      "            ReLU6-60           [-1, 80, 20, 20]               0\n",
      "           Conv2d-61           [-1, 24, 20, 20]           1,920\n",
      "      BatchNorm2d-62           [-1, 24, 20, 20]              48\n",
      "MBInvertedConvLayer-63           [-1, 24, 20, 20]               0\n",
      "MobileInvertedResidualBlock-64           [-1, 24, 20, 20]               0\n",
      "           Conv2d-65          [-1, 144, 20, 20]           3,456\n",
      "      BatchNorm2d-66          [-1, 144, 20, 20]             288\n",
      "            ReLU6-67          [-1, 144, 20, 20]               0\n",
      "           Conv2d-68          [-1, 144, 20, 20]           7,056\n",
      "      BatchNorm2d-69          [-1, 144, 20, 20]             288\n",
      "            ReLU6-70          [-1, 144, 20, 20]               0\n",
      "           Conv2d-71           [-1, 24, 20, 20]           3,456\n",
      "      BatchNorm2d-72           [-1, 24, 20, 20]              48\n",
      "MBInvertedConvLayer-73           [-1, 24, 20, 20]               0\n",
      "    IdentityLayer-74           [-1, 24, 20, 20]               0\n",
      "MobileInvertedResidualBlock-75           [-1, 24, 20, 20]               0\n",
      "           Conv2d-76          [-1, 144, 20, 20]           3,456\n",
      "      BatchNorm2d-77          [-1, 144, 20, 20]             288\n",
      "            ReLU6-78          [-1, 144, 20, 20]               0\n",
      "           Conv2d-79          [-1, 144, 20, 20]           3,600\n",
      "      BatchNorm2d-80          [-1, 144, 20, 20]             288\n",
      "            ReLU6-81          [-1, 144, 20, 20]               0\n",
      "           Conv2d-82           [-1, 24, 20, 20]           3,456\n",
      "      BatchNorm2d-83           [-1, 24, 20, 20]              48\n",
      "MBInvertedConvLayer-84           [-1, 24, 20, 20]               0\n",
      "    IdentityLayer-85           [-1, 24, 20, 20]               0\n",
      "MobileInvertedResidualBlock-86           [-1, 24, 20, 20]               0\n",
      "           Conv2d-87           [-1, 96, 20, 20]           2,304\n",
      "      BatchNorm2d-88           [-1, 96, 20, 20]             192\n",
      "            ReLU6-89           [-1, 96, 20, 20]               0\n",
      "           Conv2d-90           [-1, 96, 10, 10]           4,704\n",
      "      BatchNorm2d-91           [-1, 96, 10, 10]             192\n",
      "            ReLU6-92           [-1, 96, 10, 10]               0\n",
      "           Conv2d-93           [-1, 40, 10, 10]           3,840\n",
      "      BatchNorm2d-94           [-1, 40, 10, 10]              80\n",
      "MBInvertedConvLayer-95           [-1, 40, 10, 10]               0\n",
      "MobileInvertedResidualBlock-96           [-1, 40, 10, 10]               0\n",
      "           Conv2d-97          [-1, 200, 10, 10]           8,000\n",
      "      BatchNorm2d-98          [-1, 200, 10, 10]             400\n",
      "            ReLU6-99          [-1, 200, 10, 10]               0\n",
      "          Conv2d-100          [-1, 200, 10, 10]           5,000\n",
      "     BatchNorm2d-101          [-1, 200, 10, 10]             400\n",
      "           ReLU6-102          [-1, 200, 10, 10]               0\n",
      "          Conv2d-103           [-1, 40, 10, 10]           8,000\n",
      "     BatchNorm2d-104           [-1, 40, 10, 10]              80\n",
      "MBInvertedConvLayer-105           [-1, 40, 10, 10]               0\n",
      "   IdentityLayer-106           [-1, 40, 10, 10]               0\n",
      "MobileInvertedResidualBlock-107           [-1, 40, 10, 10]               0\n",
      "          Conv2d-108          [-1, 200, 10, 10]           8,000\n",
      "     BatchNorm2d-109          [-1, 200, 10, 10]             400\n",
      "           ReLU6-110          [-1, 200, 10, 10]               0\n",
      "          Conv2d-111          [-1, 200, 10, 10]           1,800\n",
      "     BatchNorm2d-112          [-1, 200, 10, 10]             400\n",
      "           ReLU6-113          [-1, 200, 10, 10]               0\n",
      "          Conv2d-114           [-1, 48, 10, 10]           9,600\n",
      "     BatchNorm2d-115           [-1, 48, 10, 10]              96\n",
      "MBInvertedConvLayer-116           [-1, 48, 10, 10]               0\n",
      "MobileInvertedResidualBlock-117           [-1, 48, 10, 10]               0\n",
      "          Conv2d-118          [-1, 240, 10, 10]          11,520\n",
      "     BatchNorm2d-119          [-1, 240, 10, 10]             480\n",
      "           ReLU6-120          [-1, 240, 10, 10]               0\n",
      "          Conv2d-121          [-1, 240, 10, 10]           6,000\n",
      "     BatchNorm2d-122          [-1, 240, 10, 10]             480\n",
      "           ReLU6-123          [-1, 240, 10, 10]               0\n",
      "          Conv2d-124           [-1, 48, 10, 10]          11,520\n",
      "     BatchNorm2d-125           [-1, 48, 10, 10]              96\n",
      "MBInvertedConvLayer-126           [-1, 48, 10, 10]               0\n",
      "   IdentityLayer-127           [-1, 48, 10, 10]               0\n",
      "MobileInvertedResidualBlock-128           [-1, 48, 10, 10]               0\n",
      "          Conv2d-129          [-1, 192, 10, 10]           9,216\n",
      "     BatchNorm2d-130          [-1, 192, 10, 10]             384\n",
      "           ReLU6-131          [-1, 192, 10, 10]               0\n",
      "          Conv2d-132          [-1, 192, 10, 10]           1,728\n",
      "     BatchNorm2d-133          [-1, 192, 10, 10]             384\n",
      "           ReLU6-134          [-1, 192, 10, 10]               0\n",
      "          Conv2d-135           [-1, 48, 10, 10]           9,216\n",
      "     BatchNorm2d-136           [-1, 48, 10, 10]              96\n",
      "MBInvertedConvLayer-137           [-1, 48, 10, 10]               0\n",
      "   IdentityLayer-138           [-1, 48, 10, 10]               0\n",
      "MobileInvertedResidualBlock-139           [-1, 48, 10, 10]               0\n",
      "          Conv2d-140          [-1, 288, 10, 10]          13,824\n",
      "     BatchNorm2d-141          [-1, 288, 10, 10]             576\n",
      "           ReLU6-142          [-1, 288, 10, 10]               0\n",
      "          Conv2d-143            [-1, 288, 5, 5]           7,200\n",
      "     BatchNorm2d-144            [-1, 288, 5, 5]             576\n",
      "           ReLU6-145            [-1, 288, 5, 5]               0\n",
      "          Conv2d-146             [-1, 96, 5, 5]          27,648\n",
      "     BatchNorm2d-147             [-1, 96, 5, 5]             192\n",
      "MBInvertedConvLayer-148             [-1, 96, 5, 5]               0\n",
      "MobileInvertedResidualBlock-149             [-1, 96, 5, 5]               0\n",
      "          Conv2d-150            [-1, 384, 5, 5]          36,864\n",
      "     BatchNorm2d-151            [-1, 384, 5, 5]             768\n",
      "           ReLU6-152            [-1, 384, 5, 5]               0\n",
      "          Conv2d-153            [-1, 384, 5, 5]           9,600\n",
      "     BatchNorm2d-154            [-1, 384, 5, 5]             768\n",
      "           ReLU6-155            [-1, 384, 5, 5]               0\n",
      "          Conv2d-156             [-1, 96, 5, 5]          36,864\n",
      "     BatchNorm2d-157             [-1, 96, 5, 5]             192\n",
      "MBInvertedConvLayer-158             [-1, 96, 5, 5]               0\n",
      "   IdentityLayer-159             [-1, 96, 5, 5]               0\n",
      "MobileInvertedResidualBlock-160             [-1, 96, 5, 5]               0\n",
      "          Conv2d-161            [-1, 288, 5, 5]          27,648\n",
      "     BatchNorm2d-162            [-1, 288, 5, 5]             576\n",
      "           ReLU6-163            [-1, 288, 5, 5]               0\n",
      "          Conv2d-164            [-1, 288, 5, 5]           7,200\n",
      "     BatchNorm2d-165            [-1, 288, 5, 5]             576\n",
      "           ReLU6-166            [-1, 288, 5, 5]               0\n",
      "          Conv2d-167             [-1, 96, 5, 5]          27,648\n",
      "     BatchNorm2d-168             [-1, 96, 5, 5]             192\n",
      "MBInvertedConvLayer-169             [-1, 96, 5, 5]               0\n",
      "   IdentityLayer-170             [-1, 96, 5, 5]               0\n",
      "MobileInvertedResidualBlock-171             [-1, 96, 5, 5]               0\n",
      "          Conv2d-172            [-1, 384, 5, 5]          36,864\n",
      "     BatchNorm2d-173            [-1, 384, 5, 5]             768\n",
      "           ReLU6-174            [-1, 384, 5, 5]               0\n",
      "          Conv2d-175            [-1, 384, 5, 5]           3,456\n",
      "     BatchNorm2d-176            [-1, 384, 5, 5]             768\n",
      "           ReLU6-177            [-1, 384, 5, 5]               0\n",
      "          Conv2d-178             [-1, 96, 5, 5]          36,864\n",
      "     BatchNorm2d-179             [-1, 96, 5, 5]             192\n",
      "MBInvertedConvLayer-180             [-1, 96, 5, 5]               0\n",
      "   IdentityLayer-181             [-1, 96, 5, 5]               0\n",
      "MobileInvertedResidualBlock-182             [-1, 96, 5, 5]               0\n",
      "          Conv2d-183            [-1, 480, 5, 5]          46,080\n",
      "     BatchNorm2d-184            [-1, 480, 5, 5]             960\n",
      "           ReLU6-185            [-1, 480, 5, 5]               0\n",
      "          Conv2d-186            [-1, 480, 5, 5]          12,000\n",
      "     BatchNorm2d-187            [-1, 480, 5, 5]             960\n",
      "           ReLU6-188            [-1, 480, 5, 5]               0\n",
      "          Conv2d-189            [-1, 160, 5, 5]          76,800\n",
      "     BatchNorm2d-190            [-1, 160, 5, 5]             320\n",
      "MBInvertedConvLayer-191            [-1, 160, 5, 5]               0\n",
      "MobileInvertedResidualBlock-192            [-1, 160, 5, 5]               0\n",
      "          Linear-193                   [-1, 10]           1,610\n",
      "================================================================\n",
      "Total params: 570,002\n",
      "Trainable params: 570,002\n",
      "Non-trainable params: 0\n",
      "----------------------------------------------------------------\n",
      "Input size (MB): 0.29\n",
      "Forward/backward pass size (MB): 52.59\n",
      "Params size (MB): 2.17\n",
      "Estimated Total Size (MB): 55.06\n",
      "----------------------------------------------------------------\n"
     ]
    }
   ],
   "source": [
    "device='cuda'\n",
    "model_name=\"mcunet-in2\"\n",
    "model_save_path=f\"/content/{model_name}_cifar10.pth\"\n",
    "model,resolution,desc=build_model(model_name)\n",
    "in_features=model.classifier.in_features\n",
    "model.classifier=nn.Linear(in_features,10)\n",
    "model=model.to(device)\n",
    "summary(model, input_size=(3, 160, 160))"
   ]
  },
  {
   "cell_type": "code",
   "execution_count": 8,
   "id": "2f80425f",
   "metadata": {},
   "outputs": [],
   "source": [
    "def train(model: nn.Module, train_dataloader: DataLoader, lr=0.1, epochs=10, device=\"cuda\"):\n",
    "    \"\"\"\n",
    "    Training function for training the model using the given dataloader, optimizer, and loss function.\n",
    "\n",
    "    Args:\n",
    "        model: The neural network model to be trained.\n",
    "        train_dataloader: The DataLoader for the training data.\n",
    "        lr: The learning rate for the optimizer.\n",
    "        epochs: Number of epochs to train the model.\n",
    "        device: Device to run the training on ('cuda' or 'cpu').\n",
    "\n",
    "    Returns:\n",
    "        None. Prints training progress for each epoch.\n",
    "    \"\"\"\n",
    "    model = model.to(device)\n",
    "    criterion = nn.CrossEntropyLoss()\n",
    "    optimizer = optim.SGD(\n",
    "        model.parameters(), lr=lr, momentum=0.9, weight_decay=5e-4\n",
    "    )\n",
    "    scheduler = torch.optim.lr_scheduler.CosineAnnealingLR(\n",
    "        optimizer, T_max=epochs\n",
    "    )\n",
    "\n",
    "    for epoch in range(epochs):\n",
    "        print(f\"\\nEpoch: {epoch+1}/{epochs}\")\n",
    "        model.train()\n",
    "        train_loss = 0\n",
    "        correct = 0\n",
    "        total = 0\n",
    "\n",
    "        with tqdm(total=len(train_dataloader), desc=f\"Train Epoch {epoch+1}\") as pbar:\n",
    "            for batch_idx, (inputs, targets) in enumerate(train_dataloader):\n",
    "                inputs, targets = inputs.to(device), targets.to(device)\n",
    "\n",
    "                optimizer.zero_grad()\n",
    "                outputs = model(inputs)\n",
    "\n",
    "                # Compute the loss\n",
    "                loss = criterion(outputs, targets)\n",
    "\n",
    "                # Backward pass (backpropagation)\n",
    "                loss.backward()\n",
    "\n",
    "                # Optimizer step (update model parameters)\n",
    "                optimizer.step()\n",
    "\n",
    "                # Update the running loss and accuracy\n",
    "                train_loss += loss.item()\n",
    "                _, predicted = outputs.max(1)\n",
    "                total += targets.size(0)\n",
    "                correct += predicted.eq(targets).sum().item()\n",
    "\n",
    "                pbar.set_postfix(\n",
    "                    {\n",
    "                        \"Loss\": f\"{train_loss/(batch_idx+1):.3f}\",\n",
    "                        \"Acc\": f\"{100.0 * correct / total:.3f}%\",\n",
    "                    }\n",
    "                )\n",
    "                pbar.update(1)\n",
    "        scheduler.step()\n",
    "\n",
    "        epoch_loss = train_loss / len(train_dataloader)\n",
    "        epoch_acc = 100.0 * correct / total\n",
    "        print(\n",
    "            f\"Epoch [{epoch+1}/{epochs}] - Loss: {epoch_loss:.4f}, Accuracy: {epoch_acc:.2f}%\"\n",
    "        )"
   ]
  },
  {
   "cell_type": "code",
   "execution_count": 40,
   "id": "933584f8",
   "metadata": {},
   "outputs": [
    {
     "name": "stdout",
     "output_type": "stream",
     "text": [
      "\n",
      "Epoch: 1/6\n"
     ]
    },
    {
     "name": "stderr",
     "output_type": "stream",
     "text": [
      "Train Epoch 1: 100%|██████████| 391/391 [01:03<00:00,  6.13it/s, Loss=0.456, Acc=84.026%]\n"
     ]
    },
    {
     "name": "stdout",
     "output_type": "stream",
     "text": [
      "Epoch [1/6] - Loss: 0.4561, Accuracy: 84.03%\n",
      "\n",
      "Epoch: 2/6\n"
     ]
    },
    {
     "name": "stderr",
     "output_type": "stream",
     "text": [
      "Train Epoch 2: 100%|██████████| 391/391 [01:04<00:00,  6.06it/s, Loss=0.239, Acc=91.690%]\n"
     ]
    },
    {
     "name": "stdout",
     "output_type": "stream",
     "text": [
      "Epoch [2/6] - Loss: 0.2391, Accuracy: 91.69%\n",
      "\n",
      "Epoch: 3/6\n"
     ]
    },
    {
     "name": "stderr",
     "output_type": "stream",
     "text": [
      "Train Epoch 3: 100%|██████████| 391/391 [01:04<00:00,  6.09it/s, Loss=0.173, Acc=94.084%]\n"
     ]
    },
    {
     "name": "stdout",
     "output_type": "stream",
     "text": [
      "Epoch [3/6] - Loss: 0.1731, Accuracy: 94.08%\n",
      "\n",
      "Epoch: 4/6\n"
     ]
    },
    {
     "name": "stderr",
     "output_type": "stream",
     "text": [
      "Train Epoch 4: 100%|██████████| 391/391 [01:04<00:00,  6.09it/s, Loss=0.132, Acc=95.352%]\n"
     ]
    },
    {
     "name": "stdout",
     "output_type": "stream",
     "text": [
      "Epoch [4/6] - Loss: 0.1324, Accuracy: 95.35%\n",
      "\n",
      "Epoch: 5/6\n"
     ]
    },
    {
     "name": "stderr",
     "output_type": "stream",
     "text": [
      "Train Epoch 5: 100%|██████████| 391/391 [01:04<00:00,  6.08it/s, Loss=0.097, Acc=96.716%]\n"
     ]
    },
    {
     "name": "stdout",
     "output_type": "stream",
     "text": [
      "Epoch [5/6] - Loss: 0.0966, Accuracy: 96.72%\n",
      "\n",
      "Epoch: 6/6\n"
     ]
    },
    {
     "name": "stderr",
     "output_type": "stream",
     "text": [
      "Train Epoch 6: 100%|██████████| 391/391 [01:04<00:00,  6.08it/s, Loss=0.081, Acc=97.254%]"
     ]
    },
    {
     "name": "stdout",
     "output_type": "stream",
     "text": [
      "Epoch [6/6] - Loss: 0.0810, Accuracy: 97.25%\n"
     ]
    },
    {
     "name": "stderr",
     "output_type": "stream",
     "text": [
      "\n"
     ]
    }
   ],
   "source": [
    "device = \"cuda\" \n",
    "train(model, dataloader['train'], lr=0.01, epochs=6, device=device)"
   ]
  },
  {
   "cell_type": "code",
   "execution_count": 9,
   "id": "64c20cfd",
   "metadata": {},
   "outputs": [],
   "source": [
    "def evaluate(model: nn.Module, test_dataloader: DataLoader, device=device) -> float:\n",
    "    \"\"\"\n",
    "    Inference function to evaluate the model on a test dataset using the provided dataloader,\n",
    "    with tqdm progress bar for visualization.\n",
    "\n",
    "    Args:\n",
    "        model: The neural network model to be used for inference.\n",
    "        test_dataloader: The dataloader for the test data.\n",
    "        device: Device to use ('cuda' or 'cpu').\n",
    "\n",
    "    Returns:\n",
    "        None: Prints the accuracy on the test set.\n",
    "    \"\"\"\n",
    "    model = model.to(device)\n",
    "    model.eval()\n",
    "\n",
    "    correct = 0\n",
    "    total = 0\n",
    "\n",
    "    # Disable gradient computation during inference\n",
    "    with torch.no_grad():\n",
    "        for inputs, targets in tqdm(test_dataloader, desc=\"Evaluating\", leave=False):\n",
    "            inputs, targets = inputs.to(device), targets.to(device)\n",
    "\n",
    "            outputs = model(inputs)\n",
    "            _, predicted = outputs.max(1)\n",
    "\n",
    "            total += targets.size(0)\n",
    "            correct += predicted.eq(targets).sum().item()\n",
    "    accuracy = 100.0 * correct / total\n",
    "    # print(f\"Accuracy on the test set: {accuracy:.2f}%\")\n",
    "    return accuracy"
   ]
  },
  {
   "cell_type": "code",
   "execution_count": 41,
   "id": "3b70670a",
   "metadata": {},
   "outputs": [
    {
     "name": "stderr",
     "output_type": "stream",
     "text": [
      "                                                           "
     ]
    },
    {
     "name": "stdout",
     "output_type": "stream",
     "text": [
      "\n",
      " Accuracy: 94.1%\n"
     ]
    },
    {
     "name": "stderr",
     "output_type": "stream",
     "text": [
      "\r"
     ]
    }
   ],
   "source": [
    "accuracy = evaluate(model, dataloader['test'])\n",
    "print(f'\\n Accuracy: {accuracy}%')"
   ]
  },
  {
   "cell_type": "code",
   "execution_count": 42,
   "id": "4a98cd42",
   "metadata": {},
   "outputs": [
    {
     "name": "stdout",
     "output_type": "stream",
     "text": [
      "Saved to: C:/Users/96156/OneDrive - nyu.edu/ce/9483/Efficient_ML_mcunet/content/mcunet-in2_2_cifar10.pth\n"
     ]
    }
   ],
   "source": [
    "import os\n",
    "\n",
    "model_save_path = f\"C:/Users/96156/OneDrive - nyu.edu/ce/9483/Efficient_ML_mcunet/content/{model_name}_2_cifar10.pth\"\n",
    "os.makedirs(os.path.dirname(model_save_path), exist_ok=True)\n",
    "torch.save(model.state_dict(), model_save_path)\n",
    "print(\"Saved to:\", model_save_path)"
   ]
  },
  {
   "cell_type": "code",
   "execution_count": null,
   "id": "e2b789f4",
   "metadata": {},
   "outputs": [
    {
     "name": "stdout",
     "output_type": "stream",
     "text": [
      "\n",
      "Epoch: 1/6\n"
     ]
    },
    {
     "name": "stderr",
     "output_type": "stream",
     "text": [
      "Train Epoch 1: 100%|██████████| 391/391 [01:23<00:00,  4.69it/s, Loss=0.401, Acc=86.080%]\n"
     ]
    },
    {
     "name": "stdout",
     "output_type": "stream",
     "text": [
      "Epoch [1/6] - Loss: 0.4009, Accuracy: 86.08%\n",
      "\n",
      "Epoch: 2/6\n"
     ]
    },
    {
     "name": "stderr",
     "output_type": "stream",
     "text": [
      "Train Epoch 2: 100%|██████████| 391/391 [01:25<00:00,  4.57it/s, Loss=0.172, Acc=94.074%]\n"
     ]
    },
    {
     "name": "stdout",
     "output_type": "stream",
     "text": [
      "Epoch [2/6] - Loss: 0.1720, Accuracy: 94.07%\n",
      "\n",
      "Epoch: 3/6\n"
     ]
    },
    {
     "name": "stderr",
     "output_type": "stream",
     "text": [
      "Train Epoch 3: 100%|██████████| 391/391 [01:24<00:00,  4.64it/s, Loss=0.113, Acc=96.126%]\n"
     ]
    },
    {
     "name": "stdout",
     "output_type": "stream",
     "text": [
      "Epoch [3/6] - Loss: 0.1134, Accuracy: 96.13%\n",
      "\n",
      "Epoch: 4/6\n"
     ]
    },
    {
     "name": "stderr",
     "output_type": "stream",
     "text": [
      "Train Epoch 4: 100%|██████████| 391/391 [01:23<00:00,  4.68it/s, Loss=0.074, Acc=97.412%]\n"
     ]
    },
    {
     "name": "stdout",
     "output_type": "stream",
     "text": [
      "Epoch [4/6] - Loss: 0.0745, Accuracy: 97.41%\n",
      "\n",
      "Epoch: 5/6\n"
     ]
    },
    {
     "name": "stderr",
     "output_type": "stream",
     "text": [
      "Train Epoch 5: 100%|██████████| 391/391 [01:21<00:00,  4.77it/s, Loss=0.053, Acc=98.250%]\n"
     ]
    },
    {
     "name": "stdout",
     "output_type": "stream",
     "text": [
      "Epoch [5/6] - Loss: 0.0532, Accuracy: 98.25%\n",
      "\n",
      "Epoch: 6/6\n"
     ]
    },
    {
     "name": "stderr",
     "output_type": "stream",
     "text": [
      "Train Epoch 6: 100%|██████████| 391/391 [01:21<00:00,  4.78it/s, Loss=0.042, Acc=98.730%]"
     ]
    },
    {
     "name": "stdout",
     "output_type": "stream",
     "text": [
      "Epoch [6/6] - Loss: 0.0420, Accuracy: 98.73%\n"
     ]
    },
    {
     "name": "stderr",
     "output_type": "stream",
     "text": [
      "\n"
     ]
    }
   ],
   "source": [
    "model_name=\"mcunet-in4\"\n",
    "model_save_path = f\"C:/Users/96156/OneDrive - nyu.edu/ce/9483/Efficient_ML_mcunet/content/{model_name}_2_cifar10.pth\"\n",
    "model,resolution,desc=build_model(model_name)\n",
    "in_features=model.classifier.in_features\n",
    "model.classifier=nn.Linear(in_features,10)\n",
    "\n",
    "model=model.to(device)\n",
    "summary(model, input_size=(3, 160, 160))\n"
   ]
  },
  {
   "cell_type": "code",
   "execution_count": null,
   "id": "d00edbfe",
   "metadata": {},
   "outputs": [],
   "source": [
    "device = \"cuda\" \n",
    "train(model, dataloader['train'], lr=0.01, epochs=6, device=device)"
   ]
  },
  {
   "cell_type": "code",
   "execution_count": 37,
   "id": "82c61b4c",
   "metadata": {},
   "outputs": [
    {
     "name": "stderr",
     "output_type": "stream",
     "text": [
      "                                                           "
     ]
    },
    {
     "name": "stdout",
     "output_type": "stream",
     "text": [
      "\n",
      " Accuracy: 95.69%\n"
     ]
    },
    {
     "name": "stderr",
     "output_type": "stream",
     "text": [
      "\r"
     ]
    }
   ],
   "source": [
    "accuracy = evaluate(model, dataloader['test'])\n",
    "print(f'\\n Accuracy: {accuracy}%')"
   ]
  },
  {
   "cell_type": "code",
   "execution_count": 38,
   "id": "cd0ea61e",
   "metadata": {},
   "outputs": [
    {
     "name": "stdout",
     "output_type": "stream",
     "text": [
      "Saved to: C:/Users/96156/OneDrive - nyu.edu/ce/9483/Efficient_ML_mcunet/content/mcunet-in4_2_cifar10.pth\n"
     ]
    }
   ],
   "source": [
    "os.makedirs(os.path.dirname(model_save_path), exist_ok=True)\n",
    "torch.save(model.state_dict(), model_save_path)\n",
    "print(\"Saved to:\", model_save_path)"
   ]
  },
  {
   "cell_type": "code",
   "execution_count": 23,
   "id": "a3d54243",
   "metadata": {},
   "outputs": [
    {
     "name": "stdout",
     "output_type": "stream",
     "text": [
      "✅ Model load successful\n"
     ]
    },
    {
     "name": "stderr",
     "output_type": "stream",
     "text": [
      "C:\\Users\\96156\\AppData\\Local\\Temp\\ipykernel_72552\\453617923.py:30: FutureWarning: You are using `torch.load` with `weights_only=False` (the current default value), which uses the default pickle module implicitly. It is possible to construct malicious pickle data which will execute arbitrary code during unpickling (See https://github.com/pytorch/pytorch/blob/main/SECURITY.md#untrusted-models for more details). In a future release, the default value for `weights_only` will be flipped to `True`. This limits the functions that could be executed during unpickling. Arbitrary objects will no longer be allowed to be loaded via this mode unless they are explicitly allowlisted by the user via `torch.serialization.add_safe_globals`. We recommend you start setting `weights_only=True` for any use case where you don't have full control of the loaded file. Please open an issue on GitHub for any issues related to this experimental feature.\n",
      "  state_dict = torch.load(weight_path, map_location=device)\n"
     ]
    }
   ],
   "source": [
    "MODEL_NAME   = 'mcunet-in4'\n",
    "MODEL_PATH   = 'content/mcunet-in4_2_cifar10.pth'\n",
    "def load_pretrained_model(model_name: str, weight_path: str, num_classes=10, device=device):\n",
    "    \"\"\"\n",
    "    Load a pre-trained MCUNet model and prepare it for inference.\n",
    "\n",
    "    Args:\n",
    "        model_name (str): e.g., \"mcunet-in4\"\n",
    "        weight_path (str): Path to the saved .pth file\n",
    "        num_classes (int): Number of output classes (CIFAR-10 -> 10)\n",
    "        device (str): 'cuda' or 'cpu'\n",
    "\n",
    "    Returns:\n",
    "        nn.Module: Loaded model\n",
    "    \"\"\"\n",
    "\n",
    "    model, resolution, desc = build_model(model_name)\n",
    "\n",
    "\n",
    "    if hasattr(model, 'classifier'):\n",
    "        in_features = model.classifier.in_features\n",
    "        model.classifier = nn.Linear(in_features, num_classes)\n",
    "    elif hasattr(model, 'fc'):\n",
    "        in_features = model.fc.in_features\n",
    "        model.fc = nn.Linear(in_features, num_classes)\n",
    "    else:\n",
    "        raise ValueError(\"Cannot find final classification layer in model\")\n",
    "\n",
    "\n",
    "    state_dict = torch.load(weight_path, map_location=device)\n",
    "    model.load_state_dict(state_dict)\n",
    "\n",
    "    model.to(device)\n",
    "    model.eval()\n",
    "\n",
    "    return model\n",
    "\n",
    "model = load_pretrained_model(MODEL_NAME, MODEL_PATH)\n",
    "print(\"✅ Model load successful\")"
   ]
  },
  {
   "cell_type": "code",
   "execution_count": 22,
   "id": "7b8abd02",
   "metadata": {},
   "outputs": [
    {
     "name": "stderr",
     "output_type": "stream",
     "text": [
      "                                                           "
     ]
    },
    {
     "name": "stdout",
     "output_type": "stream",
     "text": [
      "\n",
      " Accuracy: 10.98%\n"
     ]
    },
    {
     "name": "stderr",
     "output_type": "stream",
     "text": [
      "\r"
     ]
    }
   ],
   "source": [
    "accuracy = evaluate(model, dataloader['test'])\n",
    "print(f'\\n Accuracy: {accuracy}%')"
   ]
  },
  {
   "cell_type": "code",
   "execution_count": 10,
   "id": "dd9c9dfa",
   "metadata": {},
   "outputs": [],
   "source": [
    "def evaluate_with_inftime(model: nn.Module, test_dataloader: DataLoader, device=\"cuda\") -> tuple[float, float]:\n",
    "    \"\"\"\n",
    "    Inference function to evaluate the model on a test dataset using the provided dataloader,\n",
    "    with tqdm progress bar for visualization. It also measures average inference time per batch.\n",
    "\n",
    "    Args:\n",
    "        model: The neural network model to be used for inference.\n",
    "        test_dataloader: The dataloader for the test data.\n",
    "        device: Device to use ('cuda' or 'cpu').\n",
    "\n",
    "    Returns:\n",
    "        Tuple of:\n",
    "        - accuracy (float): Top-1 accuracy on the test set (%)\n",
    "        - avg_inference_time (float): Average inference time per batch (ms)\n",
    "    \"\"\"\n",
    "    model = model.to(device)\n",
    "    model.eval()\n",
    "\n",
    "    correct = 0\n",
    "    total = 0\n",
    "    inference_times = []\n",
    "\n",
    "    with torch.no_grad():\n",
    "        for inputs, targets in tqdm(test_dataloader, desc=\"Evaluating\", leave=False):\n",
    "            inputs, targets = inputs.to(device), targets.to(device)\n",
    "\n",
    "            # Start timing\n",
    "            start_time = time.perf_counter()\n",
    "            outputs = model(inputs)\n",
    "            if device == \"cuda\":\n",
    "                torch.cuda.synchronize()  # 等待GPU完成任务\n",
    "            end_time = time.perf_counter()\n",
    "\n",
    "            inference_times.append((end_time - start_time) * 1000)  # 转为毫秒\n",
    "\n",
    "            _, predicted = outputs.max(1)\n",
    "            total += targets.size(0)\n",
    "            correct += predicted.eq(targets).sum().item()\n",
    "\n",
    "    accuracy = 100.0 * correct / total\n",
    "    avg_infer_time = sum(inference_times) / total\n",
    "\n",
    "    return accuracy, avg_infer_time"
   ]
  },
  {
   "cell_type": "code",
   "execution_count": 17,
   "id": "a755ef1f",
   "metadata": {},
   "outputs": [
    {
     "name": "stderr",
     "output_type": "stream",
     "text": [
      "                                                           "
     ]
    },
    {
     "name": "stdout",
     "output_type": "stream",
     "text": [
      "✅ Accuracy: 95.69%\n",
      "⏱️ Avg inference time per batch: 0.42 ms\n"
     ]
    },
    {
     "name": "stderr",
     "output_type": "stream",
     "text": [
      "\r"
     ]
    }
   ],
   "source": [
    "acc, avg_time = evaluate_with_inftime(model, dataloader['test'],device=\"cuda\")\n",
    "print(f\"✅ Accuracy: {acc:.2f}%\")\n",
    "print(f\"⏱️ Avg inference time per batch: {avg_time:.2f} ms\")"
   ]
  },
  {
   "cell_type": "code",
   "execution_count": 104,
   "id": "870dfb9b",
   "metadata": {},
   "outputs": [],
   "source": [
    "def calculate_sparsity(model: nn.Module) -> float:\n",
    "    \"\"\"\n",
    "    Calculate the sparsity of a given model (proportion of zero weights).\n",
    "\n",
    "    Args:\n",
    "        model (nn.Module): The PyTorch model to calculate sparsity for.\n",
    "    Returns:\n",
    "        float: The sparsity of the model (proportion of zero weights).\n",
    "    \"\"\"\n",
    "    total_params = 0\n",
    "    zero_params = 0\n",
    "\n",
    "    # Iterate over each parameter tensor in the model\n",
    "    for param in model.parameters():\n",
    "        total_params += param.numel()  # Total number of parameters\n",
    "        zero_params += (param == 0).sum().item()  # Count of zero weights\n",
    "\n",
    "    sparsity = zero_params / total_params\n",
    "    return sparsity\n",
    "\n",
    "def get_sparsity(tensor: torch.Tensor) -> float:\n",
    "    \"\"\"\n",
    "    Calculate the sparsity of a given tensor (proportion of zero weights).\n",
    "\n",
    "    Args:\n",
    "        model (torch.Tensor): The tensor to calculate sparsity for.\n",
    "\n",
    "    Returns:\n",
    "    \"\"\"\n",
    "    return 1 - float(tensor.count_nonzero()) / tensor.numel()\n",
    "\n",
    "def calculate_total_parameters(model: nn.Module) -> int:\n",
    "    \"\"\"\n",
    "    Calculate the total number of parameters in a model.\n",
    "\n",
    "    Args:\n",
    "        model (nn.Module): The PyTorch model to calculate parameters for.\n",
    "\n",
    "    Returns:\n",
    "        int: The total number of parameters in the model.\n",
    "    \"\"\"\n",
    "    total_params = sum(p.numel() for p in model.parameters())\n",
    "    return total_params\n",
    "\n",
    "def calculate_by_thop(model: nn.Module, input_size: tuple = (1, 3, 32, 32)) -> float:\n",
    "    \"\"\"\n",
    "    Calculate the FLOPs (Floating Point Operations) of a model.\n",
    "\n",
    "    Args:\n",
    "        model (nn.Module): The PyTorch model to calculate FLOPs for.\n",
    "        input_size (tuple): The size of the input tensor, e.g., (1, 3, 32, 32) for CIFAR-10.\n",
    "\n",
    "    Returns:\n",
    "        float: The number of FLOPs for the model.\n",
    "    \"\"\"\n",
    "    # Create a dummy input with the correct input size\n",
    "    dummy_input = torch.randn(*input_size).to(next(model.parameters()).device)\n",
    "\n",
    "    # Use thop to profile the model and calculate FLOPs\n",
    "    flops, params = profile(model, inputs=(dummy_input, ))\n",
    "\n",
    "    flops, params = clever_format([flops, params], \"%.3f\")\n",
    "\n",
    "    return flops, params"
   ]
  },
  {
   "cell_type": "code",
   "execution_count": 25,
   "id": "f4adefff",
   "metadata": {},
   "outputs": [
    {
     "name": "stderr",
     "output_type": "stream",
     "text": [
      "                                                           "
     ]
    },
    {
     "name": "stdout",
     "output_type": "stream",
     "text": [
      "[INFO] Register count_convNd() for <class 'torch.nn.modules.conv.Conv2d'>.\n",
      "[INFO] Register count_normalization() for <class 'torch.nn.modules.batchnorm.BatchNorm2d'>.\n",
      "[INFO] Register zero_ops() for <class 'torch.nn.modules.activation.ReLU6'>.\n",
      "[INFO] Register zero_ops() for <class 'torch.nn.modules.container.Sequential'>.\n",
      "[INFO] Register count_linear() for <class 'torch.nn.modules.linear.Linear'>.\n",
      "Accuracy: 95.69%, FLOPs: 5.474M, Params: 1.415M, Sparsity: 0.0%\n"
     ]
    },
    {
     "name": "stderr",
     "output_type": "stream",
     "text": [
      "\r"
     ]
    }
   ],
   "source": [
    "accuracy = evaluate(model, dataloader['test'])\n",
    "sparsity = calculate_sparsity(model)\n",
    "flops, params = calculate_by_thop(model)\n",
    "print(f'Accuracy: {accuracy}%, FLOPs: {flops}, Params: {params}, Sparsity: {sparsity}%')"
   ]
  },
  {
   "cell_type": "code",
   "execution_count": 26,
   "id": "1cacf592",
   "metadata": {},
   "outputs": [],
   "source": [
    "def magnitude_pruning(tensor: torch.Tensor, sparsity: float) -> torch.Tensor:\n",
    "    \"\"\"\n",
    "    Apply magnitude pruning to a given tensor.\n",
    "\n",
    "    Args:\n",
    "        tensor (torch.Tensor): The input tensor to be pruned.\n",
    "        sparsity (float): The desired spars\n",
    "    Returns:\n",
    "        pruned_tensor (torch.Tensor): The pruned tensor.\n",
    "        mask (torch.Tensor): The pruning mask (where True means the weight is kept, and False means it is pruned).\n",
    "    \"\"\"\n",
    "    sparsity = min(max(0.0, sparsity), 1.0)\n",
    "    pruned_tensor = tensor.clone()\n",
    "    mask = torch.zeros_like(tensor, dtype=torch.bool)\n",
    "\n",
    "    # Step 1: Flatten the tensor\n",
    "    flattened_tensor=pruned_tensor.view(-1)\n",
    "\n",
    "    # Step 2: Calaulate pruning threshold\n",
    "    threshold=torch.quantile(flattened_tensor.abs(),sparsity)\n",
    "\n",
    "    # Step 3: Create a mask\n",
    "    mask=(tensor.abs()>=threshold)\n",
    "\n",
    "    # Step 4: Create the pruned tensor\n",
    "    pruned_tensor=tensor * mask\n",
    "\n",
    "    # Step 5: Ensure the pruned tensor has correct shape\n",
    "    pruned_tensor=pruned_tensor.view(tensor.shape)\n",
    "    mask=mask.view(tensor.shape)\n",
    "\n",
    "    mask = mask.to(tensor.device)\n",
    "    pruned_tensor = pruned_tensor.to(tensor.device)\n",
    "\n",
    "    return pruned_tensor, mask"
   ]
  },
  {
   "cell_type": "code",
   "execution_count": 27,
   "id": "12bc687d",
   "metadata": {},
   "outputs": [],
   "source": [
    "class MagnitudePruner:\n",
    "    def __init__(self, model: nn.Module, sparsity: float):\n",
    "        self.model = model\n",
    "        self.sparsity = sparsity\n",
    "\n",
    "    def _prune_layer(self, layer_name: str, weight_tensor: torch.Tensor):\n",
    "        \"\"\"\n",
    "        Apply magnitude pruning to a specific layer.\n",
    "\n",
    "        Args:\n",
    "            layer_name (str): Name of the layer being pruned.\n",
    "            weight_tensor (torch.Tensor): The weight tensor to prune.\n",
    "        \"\"\"\n",
    "        with torch.no_grad():\n",
    "            pruned_tensor, mask = magnitude_pruning(weight_tensor, self.sparsity)\n",
    "            return pruned_tensor, mask\n",
    "\n",
    "\n",
    "    def prune_selected_layers(self, layer_names: list):\n",
    "        \"\"\"\n",
    "        Apply magnitude pruning to specific layers of the model.\n",
    "\n",
    "        Args:\n",
    "            layer_names (list): A list of parameter names to prune\n",
    "        \"\"\"\n",
    "        masks = {}\n",
    "        for name, param in self.model.named_parameters():\n",
    "          if param.dim() > 1 and 'layer' in name:\n",
    "            if layer_names is None or name in layer_names:\n",
    "                print(f\"Pruning {name}\")\n",
    "                pruned_tensor, mask = self._prune_layer(name, param.data)\n",
    "                masks[name] = mask\n",
    "        return masks"
   ]
  },
  {
   "cell_type": "code",
   "execution_count": 28,
   "id": "868a25da",
   "metadata": {},
   "outputs": [],
   "source": [
    "@torch.no_grad()\n",
    "def sensitivity_scan_per_layer(model: nn.Module, dataloader: torch.utils.data.DataLoader,\n",
    "                               start: float, step: float, end: float,\n",
    "                               device: str = device, verbose=True):\n",
    "    \"\"\"\n",
    "    Perform a sensitivity scan by applying magnitude pruning to each individual layer of the model\n",
    "    and evaluate the accuracy at different levels of sparsity for each layer.\n",
    "\n",
    "    Args:\n",
    "        model (nn.Module): The neural network model to be pruned and evaluated.\n",
    "        dataloader (DataLoader): DataLoader for the test dataset.\n",
    "        start (float): Starting sparsity level.\n",
    "        step (float): Step size for increasing sparsity.\n",
    "        end (float): Ending sparsity level.\n",
    "        device (str): Device to use ('cuda' or 'cpu').\n",
    "        verbose (bool): Whether to print progress and results.\n",
    "\n",
    "    Returns:\n",
    "        dict: Dictionary containing sparsity levels and corresponding accuracies for each layer.\n",
    "    \"\"\"\n",
    "    sparsities = np.arange(start, end, step)\n",
    "\n",
    "    layer_accuracies = {}\n",
    "\n",
    "    model.to(device)\n",
    "    target_keywords = [\n",
    "    'mobile_inverted_conv.point_linear.conv',\n",
    "    'mobile_inverted_conv.depth_conv.conv',\n",
    "    'mobile_inverted_conv.inverted_bottleneck.conv'\n",
    "]\n",
    "\n",
    "    for name, param in model.named_parameters():\n",
    "        if param.dim() > 1 and any(k in name for k in target_keywords):\n",
    "            print(f\"\\nScanning layer: {name}\")\n",
    "            param_clone = param.detach().clone()\n",
    "\n",
    "            accuracy_per_layer = []\n",
    "\n",
    "            for sparsity in sparsities:\n",
    "              ##############################################################################\n",
    "              #TODO: Compute pruned_tensor and corresponding mask           #\n",
    "              ##############################################################################\n",
    "              # Step 1: Initialize a Pruner\n",
    "                pruner=MagnitudePruner(model,sparsity)\n",
    "\n",
    "              # Step 2: Apply exact mask on the weight tensor\n",
    "                pruned_tensor,pruned_mask=pruner._prune_layer(name,param.data)\n",
    "                param.data.copy_(pruned_tensor)\n",
    "\n",
    "              # Step 3: Evaluate model accuracy on test_dataloader\n",
    "                accuracy=evaluate(model,dataloader,device)\n",
    "              ##############################################################################\n",
    "              #END OF YOUR CODE                              #\n",
    "              ##############################################################################\n",
    "                accuracy_per_layer.append(accuracy)\n",
    "\n",
    "                if verbose:\n",
    "                    print(f\"Sparsity: {sparsity:.2f} | Accuracy: {accuracy:.2f}%\")\n",
    "\n",
    "                param.data.copy_(param_clone)\n",
    "\n",
    "            layer_accuracies[name] = accuracy_per_layer\n",
    "    return sparsities, layer_accuracies"
   ]
  },
  {
   "cell_type": "code",
   "execution_count": 29,
   "id": "32ed0b68",
   "metadata": {},
   "outputs": [
    {
     "name": "stdout",
     "output_type": "stream",
     "text": [
      "\n",
      "Scanning layer: blocks.0.mobile_inverted_conv.depth_conv.conv.weight\n"
     ]
    },
    {
     "name": "stderr",
     "output_type": "stream",
     "text": [
      "                                                           \r"
     ]
    },
    {
     "name": "stdout",
     "output_type": "stream",
     "text": [
      "Sparsity: 0.40 | Accuracy: 93.80%\n"
     ]
    },
    {
     "name": "stderr",
     "output_type": "stream",
     "text": [
      "                                                           \r"
     ]
    },
    {
     "name": "stdout",
     "output_type": "stream",
     "text": [
      "Sparsity: 0.50 | Accuracy: 87.36%\n"
     ]
    },
    {
     "name": "stderr",
     "output_type": "stream",
     "text": [
      "                                                           \r"
     ]
    },
    {
     "name": "stdout",
     "output_type": "stream",
     "text": [
      "Sparsity: 0.60 | Accuracy: 46.42%\n"
     ]
    },
    {
     "name": "stderr",
     "output_type": "stream",
     "text": [
      "                                                           \r"
     ]
    },
    {
     "name": "stdout",
     "output_type": "stream",
     "text": [
      "Sparsity: 0.70 | Accuracy: 11.90%\n"
     ]
    },
    {
     "name": "stderr",
     "output_type": "stream",
     "text": [
      "                                                           \r"
     ]
    },
    {
     "name": "stdout",
     "output_type": "stream",
     "text": [
      "Sparsity: 0.80 | Accuracy: 9.29%\n"
     ]
    },
    {
     "name": "stderr",
     "output_type": "stream",
     "text": [
      "                                                           \r"
     ]
    },
    {
     "name": "stdout",
     "output_type": "stream",
     "text": [
      "Sparsity: 0.90 | Accuracy: 11.83%\n",
      "\n",
      "Scanning layer: blocks.0.mobile_inverted_conv.point_linear.conv.weight\n"
     ]
    },
    {
     "name": "stderr",
     "output_type": "stream",
     "text": [
      "                                                           \r"
     ]
    },
    {
     "name": "stdout",
     "output_type": "stream",
     "text": [
      "Sparsity: 0.40 | Accuracy: 95.52%\n"
     ]
    },
    {
     "name": "stderr",
     "output_type": "stream",
     "text": [
      "                                                           \r"
     ]
    },
    {
     "name": "stdout",
     "output_type": "stream",
     "text": [
      "Sparsity: 0.50 | Accuracy: 95.47%\n"
     ]
    },
    {
     "name": "stderr",
     "output_type": "stream",
     "text": [
      "                                                           \r"
     ]
    },
    {
     "name": "stdout",
     "output_type": "stream",
     "text": [
      "Sparsity: 0.60 | Accuracy: 94.91%\n"
     ]
    },
    {
     "name": "stderr",
     "output_type": "stream",
     "text": [
      "                                                           \r"
     ]
    },
    {
     "name": "stdout",
     "output_type": "stream",
     "text": [
      "Sparsity: 0.70 | Accuracy: 93.64%\n"
     ]
    },
    {
     "name": "stderr",
     "output_type": "stream",
     "text": [
      "                                                           \r"
     ]
    },
    {
     "name": "stdout",
     "output_type": "stream",
     "text": [
      "Sparsity: 0.80 | Accuracy: 91.85%\n"
     ]
    },
    {
     "name": "stderr",
     "output_type": "stream",
     "text": [
      "                                                           \r"
     ]
    },
    {
     "name": "stdout",
     "output_type": "stream",
     "text": [
      "Sparsity: 0.90 | Accuracy: 79.32%\n",
      "\n",
      "Scanning layer: blocks.1.mobile_inverted_conv.inverted_bottleneck.conv.weight\n"
     ]
    },
    {
     "name": "stderr",
     "output_type": "stream",
     "text": [
      "                                                           \r"
     ]
    },
    {
     "name": "stdout",
     "output_type": "stream",
     "text": [
      "Sparsity: 0.40 | Accuracy: 95.44%\n"
     ]
    },
    {
     "name": "stderr",
     "output_type": "stream",
     "text": [
      "                                                           \r"
     ]
    },
    {
     "name": "stdout",
     "output_type": "stream",
     "text": [
      "Sparsity: 0.50 | Accuracy: 95.44%\n"
     ]
    },
    {
     "name": "stderr",
     "output_type": "stream",
     "text": [
      "                                                           \r"
     ]
    },
    {
     "name": "stdout",
     "output_type": "stream",
     "text": [
      "Sparsity: 0.60 | Accuracy: 95.18%\n"
     ]
    },
    {
     "name": "stderr",
     "output_type": "stream",
     "text": [
      "                                                           \r"
     ]
    },
    {
     "name": "stdout",
     "output_type": "stream",
     "text": [
      "Sparsity: 0.70 | Accuracy: 94.61%\n"
     ]
    },
    {
     "name": "stderr",
     "output_type": "stream",
     "text": [
      "                                                           \r"
     ]
    },
    {
     "name": "stdout",
     "output_type": "stream",
     "text": [
      "Sparsity: 0.80 | Accuracy: 94.04%\n"
     ]
    },
    {
     "name": "stderr",
     "output_type": "stream",
     "text": [
      "                                                           \r"
     ]
    },
    {
     "name": "stdout",
     "output_type": "stream",
     "text": [
      "Sparsity: 0.90 | Accuracy: 89.70%\n",
      "\n",
      "Scanning layer: blocks.1.mobile_inverted_conv.depth_conv.conv.weight\n"
     ]
    },
    {
     "name": "stderr",
     "output_type": "stream",
     "text": [
      "                                                           \r"
     ]
    },
    {
     "name": "stdout",
     "output_type": "stream",
     "text": [
      "Sparsity: 0.40 | Accuracy: 95.57%\n"
     ]
    },
    {
     "name": "stderr",
     "output_type": "stream",
     "text": [
      "                                                           \r"
     ]
    },
    {
     "name": "stdout",
     "output_type": "stream",
     "text": [
      "Sparsity: 0.50 | Accuracy: 95.50%\n"
     ]
    },
    {
     "name": "stderr",
     "output_type": "stream",
     "text": [
      "                                                           \r"
     ]
    },
    {
     "name": "stdout",
     "output_type": "stream",
     "text": [
      "Sparsity: 0.60 | Accuracy: 95.44%\n"
     ]
    },
    {
     "name": "stderr",
     "output_type": "stream",
     "text": [
      "                                                           \r"
     ]
    },
    {
     "name": "stdout",
     "output_type": "stream",
     "text": [
      "Sparsity: 0.70 | Accuracy: 94.93%\n"
     ]
    },
    {
     "name": "stderr",
     "output_type": "stream",
     "text": [
      "                                                           \r"
     ]
    },
    {
     "name": "stdout",
     "output_type": "stream",
     "text": [
      "Sparsity: 0.80 | Accuracy: 94.04%\n"
     ]
    },
    {
     "name": "stderr",
     "output_type": "stream",
     "text": [
      "                                                           \r"
     ]
    },
    {
     "name": "stdout",
     "output_type": "stream",
     "text": [
      "Sparsity: 0.90 | Accuracy: 91.53%\n",
      "\n",
      "Scanning layer: blocks.1.mobile_inverted_conv.point_linear.conv.weight\n"
     ]
    },
    {
     "name": "stderr",
     "output_type": "stream",
     "text": [
      "                                                           \r"
     ]
    },
    {
     "name": "stdout",
     "output_type": "stream",
     "text": [
      "Sparsity: 0.40 | Accuracy: 94.08%\n"
     ]
    },
    {
     "name": "stderr",
     "output_type": "stream",
     "text": [
      "                                                           \r"
     ]
    },
    {
     "name": "stdout",
     "output_type": "stream",
     "text": [
      "Sparsity: 0.50 | Accuracy: 93.09%\n"
     ]
    },
    {
     "name": "stderr",
     "output_type": "stream",
     "text": [
      "                                                           \r"
     ]
    },
    {
     "name": "stdout",
     "output_type": "stream",
     "text": [
      "Sparsity: 0.60 | Accuracy: 90.37%\n"
     ]
    },
    {
     "name": "stderr",
     "output_type": "stream",
     "text": [
      "                                                           \r"
     ]
    },
    {
     "name": "stdout",
     "output_type": "stream",
     "text": [
      "Sparsity: 0.70 | Accuracy: 75.21%\n"
     ]
    },
    {
     "name": "stderr",
     "output_type": "stream",
     "text": [
      "                                                           \r"
     ]
    },
    {
     "name": "stdout",
     "output_type": "stream",
     "text": [
      "Sparsity: 0.80 | Accuracy: 41.25%\n"
     ]
    },
    {
     "name": "stderr",
     "output_type": "stream",
     "text": [
      "                                                           \r"
     ]
    },
    {
     "name": "stdout",
     "output_type": "stream",
     "text": [
      "Sparsity: 0.90 | Accuracy: 35.39%\n",
      "\n",
      "Scanning layer: blocks.2.mobile_inverted_conv.inverted_bottleneck.conv.weight\n"
     ]
    },
    {
     "name": "stderr",
     "output_type": "stream",
     "text": [
      "                                                           \r"
     ]
    },
    {
     "name": "stdout",
     "output_type": "stream",
     "text": [
      "Sparsity: 0.40 | Accuracy: 95.63%\n"
     ]
    },
    {
     "name": "stderr",
     "output_type": "stream",
     "text": [
      "                                                           \r"
     ]
    },
    {
     "name": "stdout",
     "output_type": "stream",
     "text": [
      "Sparsity: 0.50 | Accuracy: 95.60%\n"
     ]
    },
    {
     "name": "stderr",
     "output_type": "stream",
     "text": [
      "                                                           \r"
     ]
    },
    {
     "name": "stdout",
     "output_type": "stream",
     "text": [
      "Sparsity: 0.60 | Accuracy: 95.57%\n"
     ]
    },
    {
     "name": "stderr",
     "output_type": "stream",
     "text": [
      "                                                           \r"
     ]
    },
    {
     "name": "stdout",
     "output_type": "stream",
     "text": [
      "Sparsity: 0.70 | Accuracy: 95.41%\n"
     ]
    },
    {
     "name": "stderr",
     "output_type": "stream",
     "text": [
      "                                                           \r"
     ]
    },
    {
     "name": "stdout",
     "output_type": "stream",
     "text": [
      "Sparsity: 0.80 | Accuracy: 95.07%\n"
     ]
    },
    {
     "name": "stderr",
     "output_type": "stream",
     "text": [
      "                                                           \r"
     ]
    },
    {
     "name": "stdout",
     "output_type": "stream",
     "text": [
      "Sparsity: 0.90 | Accuracy: 93.40%\n",
      "\n",
      "Scanning layer: blocks.2.mobile_inverted_conv.depth_conv.conv.weight\n"
     ]
    },
    {
     "name": "stderr",
     "output_type": "stream",
     "text": [
      "                                                           \r"
     ]
    },
    {
     "name": "stdout",
     "output_type": "stream",
     "text": [
      "Sparsity: 0.40 | Accuracy: 94.90%\n"
     ]
    },
    {
     "name": "stderr",
     "output_type": "stream",
     "text": [
      "                                                           \r"
     ]
    },
    {
     "name": "stdout",
     "output_type": "stream",
     "text": [
      "Sparsity: 0.50 | Accuracy: 93.36%\n"
     ]
    },
    {
     "name": "stderr",
     "output_type": "stream",
     "text": [
      "                                                           \r"
     ]
    },
    {
     "name": "stdout",
     "output_type": "stream",
     "text": [
      "Sparsity: 0.60 | Accuracy: 83.70%\n"
     ]
    },
    {
     "name": "stderr",
     "output_type": "stream",
     "text": [
      "                                                           \r"
     ]
    },
    {
     "name": "stdout",
     "output_type": "stream",
     "text": [
      "Sparsity: 0.70 | Accuracy: 69.36%\n"
     ]
    },
    {
     "name": "stderr",
     "output_type": "stream",
     "text": [
      "                                                           \r"
     ]
    },
    {
     "name": "stdout",
     "output_type": "stream",
     "text": [
      "Sparsity: 0.80 | Accuracy: 32.18%\n"
     ]
    },
    {
     "name": "stderr",
     "output_type": "stream",
     "text": [
      "                                                           \r"
     ]
    },
    {
     "name": "stdout",
     "output_type": "stream",
     "text": [
      "Sparsity: 0.90 | Accuracy: 27.28%\n",
      "\n",
      "Scanning layer: blocks.2.mobile_inverted_conv.point_linear.conv.weight\n"
     ]
    },
    {
     "name": "stderr",
     "output_type": "stream",
     "text": [
      "                                                           \r"
     ]
    },
    {
     "name": "stdout",
     "output_type": "stream",
     "text": [
      "Sparsity: 0.40 | Accuracy: 95.36%\n"
     ]
    },
    {
     "name": "stderr",
     "output_type": "stream",
     "text": [
      "                                                           \r"
     ]
    },
    {
     "name": "stdout",
     "output_type": "stream",
     "text": [
      "Sparsity: 0.50 | Accuracy: 95.12%\n"
     ]
    },
    {
     "name": "stderr",
     "output_type": "stream",
     "text": [
      "                                                           \r"
     ]
    },
    {
     "name": "stdout",
     "output_type": "stream",
     "text": [
      "Sparsity: 0.60 | Accuracy: 94.30%\n"
     ]
    },
    {
     "name": "stderr",
     "output_type": "stream",
     "text": [
      "                                                           \r"
     ]
    },
    {
     "name": "stdout",
     "output_type": "stream",
     "text": [
      "Sparsity: 0.70 | Accuracy: 91.45%\n"
     ]
    },
    {
     "name": "stderr",
     "output_type": "stream",
     "text": [
      "                                                           \r"
     ]
    },
    {
     "name": "stdout",
     "output_type": "stream",
     "text": [
      "Sparsity: 0.80 | Accuracy: 82.11%\n"
     ]
    },
    {
     "name": "stderr",
     "output_type": "stream",
     "text": [
      "                                                           \r"
     ]
    },
    {
     "name": "stdout",
     "output_type": "stream",
     "text": [
      "Sparsity: 0.90 | Accuracy: 58.67%\n",
      "\n",
      "Scanning layer: blocks.3.mobile_inverted_conv.inverted_bottleneck.conv.weight\n"
     ]
    },
    {
     "name": "stderr",
     "output_type": "stream",
     "text": [
      "                                                           \r"
     ]
    },
    {
     "name": "stdout",
     "output_type": "stream",
     "text": [
      "Sparsity: 0.40 | Accuracy: 95.60%\n"
     ]
    },
    {
     "name": "stderr",
     "output_type": "stream",
     "text": [
      "                                                           \r"
     ]
    },
    {
     "name": "stdout",
     "output_type": "stream",
     "text": [
      "Sparsity: 0.50 | Accuracy: 95.61%\n"
     ]
    },
    {
     "name": "stderr",
     "output_type": "stream",
     "text": [
      "                                                           \r"
     ]
    },
    {
     "name": "stdout",
     "output_type": "stream",
     "text": [
      "Sparsity: 0.60 | Accuracy: 95.46%\n"
     ]
    },
    {
     "name": "stderr",
     "output_type": "stream",
     "text": [
      "                                                           \r"
     ]
    },
    {
     "name": "stdout",
     "output_type": "stream",
     "text": [
      "Sparsity: 0.70 | Accuracy: 95.51%\n"
     ]
    },
    {
     "name": "stderr",
     "output_type": "stream",
     "text": [
      "                                                           \r"
     ]
    },
    {
     "name": "stdout",
     "output_type": "stream",
     "text": [
      "Sparsity: 0.80 | Accuracy: 95.35%\n"
     ]
    },
    {
     "name": "stderr",
     "output_type": "stream",
     "text": [
      "                                                           \r"
     ]
    },
    {
     "name": "stdout",
     "output_type": "stream",
     "text": [
      "Sparsity: 0.90 | Accuracy: 95.07%\n",
      "\n",
      "Scanning layer: blocks.3.mobile_inverted_conv.depth_conv.conv.weight\n"
     ]
    },
    {
     "name": "stderr",
     "output_type": "stream",
     "text": [
      "                                                           \r"
     ]
    },
    {
     "name": "stdout",
     "output_type": "stream",
     "text": [
      "Sparsity: 0.40 | Accuracy: 95.61%\n"
     ]
    },
    {
     "name": "stderr",
     "output_type": "stream",
     "text": [
      "                                                           \r"
     ]
    },
    {
     "name": "stdout",
     "output_type": "stream",
     "text": [
      "Sparsity: 0.50 | Accuracy: 95.37%\n"
     ]
    },
    {
     "name": "stderr",
     "output_type": "stream",
     "text": [
      "                                                           \r"
     ]
    },
    {
     "name": "stdout",
     "output_type": "stream",
     "text": [
      "Sparsity: 0.60 | Accuracy: 95.08%\n"
     ]
    },
    {
     "name": "stderr",
     "output_type": "stream",
     "text": [
      "                                                           \r"
     ]
    },
    {
     "name": "stdout",
     "output_type": "stream",
     "text": [
      "Sparsity: 0.70 | Accuracy: 94.57%\n"
     ]
    },
    {
     "name": "stderr",
     "output_type": "stream",
     "text": [
      "                                                           \r"
     ]
    },
    {
     "name": "stdout",
     "output_type": "stream",
     "text": [
      "Sparsity: 0.80 | Accuracy: 92.88%\n"
     ]
    },
    {
     "name": "stderr",
     "output_type": "stream",
     "text": [
      "                                                           \r"
     ]
    },
    {
     "name": "stdout",
     "output_type": "stream",
     "text": [
      "Sparsity: 0.90 | Accuracy: 54.60%\n",
      "\n",
      "Scanning layer: blocks.3.mobile_inverted_conv.point_linear.conv.weight\n"
     ]
    },
    {
     "name": "stderr",
     "output_type": "stream",
     "text": [
      "                                                           \r"
     ]
    },
    {
     "name": "stdout",
     "output_type": "stream",
     "text": [
      "Sparsity: 0.40 | Accuracy: 95.54%\n"
     ]
    },
    {
     "name": "stderr",
     "output_type": "stream",
     "text": [
      "                                                           \r"
     ]
    },
    {
     "name": "stdout",
     "output_type": "stream",
     "text": [
      "Sparsity: 0.50 | Accuracy: 95.21%\n"
     ]
    },
    {
     "name": "stderr",
     "output_type": "stream",
     "text": [
      "                                                           \r"
     ]
    },
    {
     "name": "stdout",
     "output_type": "stream",
     "text": [
      "Sparsity: 0.60 | Accuracy: 94.95%\n"
     ]
    },
    {
     "name": "stderr",
     "output_type": "stream",
     "text": [
      "                                                           \r"
     ]
    },
    {
     "name": "stdout",
     "output_type": "stream",
     "text": [
      "Sparsity: 0.70 | Accuracy: 94.67%\n"
     ]
    },
    {
     "name": "stderr",
     "output_type": "stream",
     "text": [
      "                                                           \r"
     ]
    },
    {
     "name": "stdout",
     "output_type": "stream",
     "text": [
      "Sparsity: 0.80 | Accuracy: 94.07%\n"
     ]
    },
    {
     "name": "stderr",
     "output_type": "stream",
     "text": [
      "                                                           \r"
     ]
    },
    {
     "name": "stdout",
     "output_type": "stream",
     "text": [
      "Sparsity: 0.90 | Accuracy: 93.73%\n",
      "\n",
      "Scanning layer: blocks.4.mobile_inverted_conv.inverted_bottleneck.conv.weight\n"
     ]
    },
    {
     "name": "stderr",
     "output_type": "stream",
     "text": [
      "                                                           \r"
     ]
    },
    {
     "name": "stdout",
     "output_type": "stream",
     "text": [
      "Sparsity: 0.40 | Accuracy: 95.61%\n"
     ]
    },
    {
     "name": "stderr",
     "output_type": "stream",
     "text": [
      "                                                           \r"
     ]
    },
    {
     "name": "stdout",
     "output_type": "stream",
     "text": [
      "Sparsity: 0.50 | Accuracy: 95.32%\n"
     ]
    },
    {
     "name": "stderr",
     "output_type": "stream",
     "text": [
      "                                                           \r"
     ]
    },
    {
     "name": "stdout",
     "output_type": "stream",
     "text": [
      "Sparsity: 0.60 | Accuracy: 94.93%\n"
     ]
    },
    {
     "name": "stderr",
     "output_type": "stream",
     "text": [
      "                                                           \r"
     ]
    },
    {
     "name": "stdout",
     "output_type": "stream",
     "text": [
      "Sparsity: 0.70 | Accuracy: 93.89%\n"
     ]
    },
    {
     "name": "stderr",
     "output_type": "stream",
     "text": [
      "                                                           \r"
     ]
    },
    {
     "name": "stdout",
     "output_type": "stream",
     "text": [
      "Sparsity: 0.80 | Accuracy: 91.09%\n"
     ]
    },
    {
     "name": "stderr",
     "output_type": "stream",
     "text": [
      "                                                           \r"
     ]
    },
    {
     "name": "stdout",
     "output_type": "stream",
     "text": [
      "Sparsity: 0.90 | Accuracy: 79.48%\n",
      "\n",
      "Scanning layer: blocks.4.mobile_inverted_conv.depth_conv.conv.weight\n"
     ]
    },
    {
     "name": "stderr",
     "output_type": "stream",
     "text": [
      "                                                           \r"
     ]
    },
    {
     "name": "stdout",
     "output_type": "stream",
     "text": [
      "Sparsity: 0.40 | Accuracy: 95.55%\n"
     ]
    },
    {
     "name": "stderr",
     "output_type": "stream",
     "text": [
      "                                                           \r"
     ]
    },
    {
     "name": "stdout",
     "output_type": "stream",
     "text": [
      "Sparsity: 0.50 | Accuracy: 95.51%\n"
     ]
    },
    {
     "name": "stderr",
     "output_type": "stream",
     "text": [
      "                                                           \r"
     ]
    },
    {
     "name": "stdout",
     "output_type": "stream",
     "text": [
      "Sparsity: 0.60 | Accuracy: 95.36%\n"
     ]
    },
    {
     "name": "stderr",
     "output_type": "stream",
     "text": [
      "                                                           \r"
     ]
    },
    {
     "name": "stdout",
     "output_type": "stream",
     "text": [
      "Sparsity: 0.70 | Accuracy: 95.04%\n"
     ]
    },
    {
     "name": "stderr",
     "output_type": "stream",
     "text": [
      "                                                           \r"
     ]
    },
    {
     "name": "stdout",
     "output_type": "stream",
     "text": [
      "Sparsity: 0.80 | Accuracy: 93.33%\n"
     ]
    },
    {
     "name": "stderr",
     "output_type": "stream",
     "text": [
      "                                                           \r"
     ]
    },
    {
     "name": "stdout",
     "output_type": "stream",
     "text": [
      "Sparsity: 0.90 | Accuracy: 81.71%\n",
      "\n",
      "Scanning layer: blocks.4.mobile_inverted_conv.point_linear.conv.weight\n"
     ]
    },
    {
     "name": "stderr",
     "output_type": "stream",
     "text": [
      "                                                           \r"
     ]
    },
    {
     "name": "stdout",
     "output_type": "stream",
     "text": [
      "Sparsity: 0.40 | Accuracy: 95.00%\n"
     ]
    },
    {
     "name": "stderr",
     "output_type": "stream",
     "text": [
      "                                                           \r"
     ]
    },
    {
     "name": "stdout",
     "output_type": "stream",
     "text": [
      "Sparsity: 0.50 | Accuracy: 94.24%\n"
     ]
    },
    {
     "name": "stderr",
     "output_type": "stream",
     "text": [
      "                                                           \r"
     ]
    },
    {
     "name": "stdout",
     "output_type": "stream",
     "text": [
      "Sparsity: 0.60 | Accuracy: 91.77%\n"
     ]
    },
    {
     "name": "stderr",
     "output_type": "stream",
     "text": [
      "                                                           \r"
     ]
    },
    {
     "name": "stdout",
     "output_type": "stream",
     "text": [
      "Sparsity: 0.70 | Accuracy: 87.52%\n"
     ]
    },
    {
     "name": "stderr",
     "output_type": "stream",
     "text": [
      "                                                           \r"
     ]
    },
    {
     "name": "stdout",
     "output_type": "stream",
     "text": [
      "Sparsity: 0.80 | Accuracy: 66.29%\n"
     ]
    },
    {
     "name": "stderr",
     "output_type": "stream",
     "text": [
      "                                                           \r"
     ]
    },
    {
     "name": "stdout",
     "output_type": "stream",
     "text": [
      "Sparsity: 0.90 | Accuracy: 28.30%\n",
      "\n",
      "Scanning layer: blocks.5.mobile_inverted_conv.inverted_bottleneck.conv.weight\n"
     ]
    },
    {
     "name": "stderr",
     "output_type": "stream",
     "text": [
      "                                                           \r"
     ]
    },
    {
     "name": "stdout",
     "output_type": "stream",
     "text": [
      "Sparsity: 0.40 | Accuracy: 95.57%\n"
     ]
    },
    {
     "name": "stderr",
     "output_type": "stream",
     "text": [
      "                                                           \r"
     ]
    },
    {
     "name": "stdout",
     "output_type": "stream",
     "text": [
      "Sparsity: 0.50 | Accuracy: 95.62%\n"
     ]
    },
    {
     "name": "stderr",
     "output_type": "stream",
     "text": [
      "                                                           \r"
     ]
    },
    {
     "name": "stdout",
     "output_type": "stream",
     "text": [
      "Sparsity: 0.60 | Accuracy: 95.35%\n"
     ]
    },
    {
     "name": "stderr",
     "output_type": "stream",
     "text": [
      "                                                           \r"
     ]
    },
    {
     "name": "stdout",
     "output_type": "stream",
     "text": [
      "Sparsity: 0.70 | Accuracy: 95.11%\n"
     ]
    },
    {
     "name": "stderr",
     "output_type": "stream",
     "text": [
      "                                                           \r"
     ]
    },
    {
     "name": "stdout",
     "output_type": "stream",
     "text": [
      "Sparsity: 0.80 | Accuracy: 94.18%\n"
     ]
    },
    {
     "name": "stderr",
     "output_type": "stream",
     "text": [
      "                                                           \r"
     ]
    },
    {
     "name": "stdout",
     "output_type": "stream",
     "text": [
      "Sparsity: 0.90 | Accuracy: 89.01%\n",
      "\n",
      "Scanning layer: blocks.5.mobile_inverted_conv.depth_conv.conv.weight\n"
     ]
    },
    {
     "name": "stderr",
     "output_type": "stream",
     "text": [
      "                                                           \r"
     ]
    },
    {
     "name": "stdout",
     "output_type": "stream",
     "text": [
      "Sparsity: 0.40 | Accuracy: 94.67%\n"
     ]
    },
    {
     "name": "stderr",
     "output_type": "stream",
     "text": [
      "                                                           \r"
     ]
    },
    {
     "name": "stdout",
     "output_type": "stream",
     "text": [
      "Sparsity: 0.50 | Accuracy: 92.88%\n"
     ]
    },
    {
     "name": "stderr",
     "output_type": "stream",
     "text": [
      "                                                           \r"
     ]
    },
    {
     "name": "stdout",
     "output_type": "stream",
     "text": [
      "Sparsity: 0.60 | Accuracy: 85.08%\n"
     ]
    },
    {
     "name": "stderr",
     "output_type": "stream",
     "text": [
      "                                                           \r"
     ]
    },
    {
     "name": "stdout",
     "output_type": "stream",
     "text": [
      "Sparsity: 0.70 | Accuracy: 70.90%\n"
     ]
    },
    {
     "name": "stderr",
     "output_type": "stream",
     "text": [
      "                                                           \r"
     ]
    },
    {
     "name": "stdout",
     "output_type": "stream",
     "text": [
      "Sparsity: 0.80 | Accuracy: 45.62%\n"
     ]
    },
    {
     "name": "stderr",
     "output_type": "stream",
     "text": [
      "                                                           \r"
     ]
    },
    {
     "name": "stdout",
     "output_type": "stream",
     "text": [
      "Sparsity: 0.90 | Accuracy: 14.85%\n",
      "\n",
      "Scanning layer: blocks.5.mobile_inverted_conv.point_linear.conv.weight\n"
     ]
    },
    {
     "name": "stderr",
     "output_type": "stream",
     "text": [
      "                                                           \r"
     ]
    },
    {
     "name": "stdout",
     "output_type": "stream",
     "text": [
      "Sparsity: 0.40 | Accuracy: 95.44%\n"
     ]
    },
    {
     "name": "stderr",
     "output_type": "stream",
     "text": [
      "                                                           \r"
     ]
    },
    {
     "name": "stdout",
     "output_type": "stream",
     "text": [
      "Sparsity: 0.50 | Accuracy: 94.69%\n"
     ]
    },
    {
     "name": "stderr",
     "output_type": "stream",
     "text": [
      "                                                           \r"
     ]
    },
    {
     "name": "stdout",
     "output_type": "stream",
     "text": [
      "Sparsity: 0.60 | Accuracy: 94.43%\n"
     ]
    },
    {
     "name": "stderr",
     "output_type": "stream",
     "text": [
      "                                                           \r"
     ]
    },
    {
     "name": "stdout",
     "output_type": "stream",
     "text": [
      "Sparsity: 0.70 | Accuracy: 93.39%\n"
     ]
    },
    {
     "name": "stderr",
     "output_type": "stream",
     "text": [
      "                                                           \r"
     ]
    },
    {
     "name": "stdout",
     "output_type": "stream",
     "text": [
      "Sparsity: 0.80 | Accuracy: 85.47%\n"
     ]
    },
    {
     "name": "stderr",
     "output_type": "stream",
     "text": [
      "                                                           \r"
     ]
    },
    {
     "name": "stdout",
     "output_type": "stream",
     "text": [
      "Sparsity: 0.90 | Accuracy: 73.46%\n",
      "\n",
      "Scanning layer: blocks.6.mobile_inverted_conv.inverted_bottleneck.conv.weight\n"
     ]
    },
    {
     "name": "stderr",
     "output_type": "stream",
     "text": [
      "                                                           \r"
     ]
    },
    {
     "name": "stdout",
     "output_type": "stream",
     "text": [
      "Sparsity: 0.40 | Accuracy: 95.61%\n"
     ]
    },
    {
     "name": "stderr",
     "output_type": "stream",
     "text": [
      "                                                           \r"
     ]
    },
    {
     "name": "stdout",
     "output_type": "stream",
     "text": [
      "Sparsity: 0.50 | Accuracy: 95.69%\n"
     ]
    },
    {
     "name": "stderr",
     "output_type": "stream",
     "text": [
      "                                                           \r"
     ]
    },
    {
     "name": "stdout",
     "output_type": "stream",
     "text": [
      "Sparsity: 0.60 | Accuracy: 95.64%\n"
     ]
    },
    {
     "name": "stderr",
     "output_type": "stream",
     "text": [
      "                                                           \r"
     ]
    },
    {
     "name": "stdout",
     "output_type": "stream",
     "text": [
      "Sparsity: 0.70 | Accuracy: 95.42%\n"
     ]
    },
    {
     "name": "stderr",
     "output_type": "stream",
     "text": [
      "                                                           \r"
     ]
    },
    {
     "name": "stdout",
     "output_type": "stream",
     "text": [
      "Sparsity: 0.80 | Accuracy: 95.31%\n"
     ]
    },
    {
     "name": "stderr",
     "output_type": "stream",
     "text": [
      "                                                           \r"
     ]
    },
    {
     "name": "stdout",
     "output_type": "stream",
     "text": [
      "Sparsity: 0.90 | Accuracy: 94.47%\n",
      "\n",
      "Scanning layer: blocks.6.mobile_inverted_conv.depth_conv.conv.weight\n"
     ]
    },
    {
     "name": "stderr",
     "output_type": "stream",
     "text": [
      "                                                           \r"
     ]
    },
    {
     "name": "stdout",
     "output_type": "stream",
     "text": [
      "Sparsity: 0.40 | Accuracy: 95.58%\n"
     ]
    },
    {
     "name": "stderr",
     "output_type": "stream",
     "text": [
      "                                                           \r"
     ]
    },
    {
     "name": "stdout",
     "output_type": "stream",
     "text": [
      "Sparsity: 0.50 | Accuracy: 95.51%\n"
     ]
    },
    {
     "name": "stderr",
     "output_type": "stream",
     "text": [
      "                                                           \r"
     ]
    },
    {
     "name": "stdout",
     "output_type": "stream",
     "text": [
      "Sparsity: 0.60 | Accuracy: 95.48%\n"
     ]
    },
    {
     "name": "stderr",
     "output_type": "stream",
     "text": [
      "                                                           \r"
     ]
    },
    {
     "name": "stdout",
     "output_type": "stream",
     "text": [
      "Sparsity: 0.70 | Accuracy: 95.25%\n"
     ]
    },
    {
     "name": "stderr",
     "output_type": "stream",
     "text": [
      "                                                           \r"
     ]
    },
    {
     "name": "stdout",
     "output_type": "stream",
     "text": [
      "Sparsity: 0.80 | Accuracy: 94.88%\n"
     ]
    },
    {
     "name": "stderr",
     "output_type": "stream",
     "text": [
      "                                                           \r"
     ]
    },
    {
     "name": "stdout",
     "output_type": "stream",
     "text": [
      "Sparsity: 0.90 | Accuracy: 92.54%\n",
      "\n",
      "Scanning layer: blocks.6.mobile_inverted_conv.point_linear.conv.weight\n"
     ]
    },
    {
     "name": "stderr",
     "output_type": "stream",
     "text": [
      "                                                           \r"
     ]
    },
    {
     "name": "stdout",
     "output_type": "stream",
     "text": [
      "Sparsity: 0.40 | Accuracy: 95.34%\n"
     ]
    },
    {
     "name": "stderr",
     "output_type": "stream",
     "text": [
      "                                                           \r"
     ]
    },
    {
     "name": "stdout",
     "output_type": "stream",
     "text": [
      "Sparsity: 0.50 | Accuracy: 95.38%\n"
     ]
    },
    {
     "name": "stderr",
     "output_type": "stream",
     "text": [
      "                                                           \r"
     ]
    },
    {
     "name": "stdout",
     "output_type": "stream",
     "text": [
      "Sparsity: 0.60 | Accuracy: 94.98%\n"
     ]
    },
    {
     "name": "stderr",
     "output_type": "stream",
     "text": [
      "                                                           \r"
     ]
    },
    {
     "name": "stdout",
     "output_type": "stream",
     "text": [
      "Sparsity: 0.70 | Accuracy: 94.43%\n"
     ]
    },
    {
     "name": "stderr",
     "output_type": "stream",
     "text": [
      "                                                           \r"
     ]
    },
    {
     "name": "stdout",
     "output_type": "stream",
     "text": [
      "Sparsity: 0.80 | Accuracy: 94.41%\n"
     ]
    },
    {
     "name": "stderr",
     "output_type": "stream",
     "text": [
      "                                                           \r"
     ]
    },
    {
     "name": "stdout",
     "output_type": "stream",
     "text": [
      "Sparsity: 0.90 | Accuracy: 91.68%\n",
      "\n",
      "Scanning layer: blocks.7.mobile_inverted_conv.inverted_bottleneck.conv.weight\n"
     ]
    },
    {
     "name": "stderr",
     "output_type": "stream",
     "text": [
      "                                                           \r"
     ]
    },
    {
     "name": "stdout",
     "output_type": "stream",
     "text": [
      "Sparsity: 0.40 | Accuracy: 95.53%\n"
     ]
    },
    {
     "name": "stderr",
     "output_type": "stream",
     "text": [
      "                                                           \r"
     ]
    },
    {
     "name": "stdout",
     "output_type": "stream",
     "text": [
      "Sparsity: 0.50 | Accuracy: 95.23%\n"
     ]
    },
    {
     "name": "stderr",
     "output_type": "stream",
     "text": [
      "                                                           \r"
     ]
    },
    {
     "name": "stdout",
     "output_type": "stream",
     "text": [
      "Sparsity: 0.60 | Accuracy: 94.53%\n"
     ]
    },
    {
     "name": "stderr",
     "output_type": "stream",
     "text": [
      "                                                           \r"
     ]
    },
    {
     "name": "stdout",
     "output_type": "stream",
     "text": [
      "Sparsity: 0.70 | Accuracy: 91.82%\n"
     ]
    },
    {
     "name": "stderr",
     "output_type": "stream",
     "text": [
      "                                                           \r"
     ]
    },
    {
     "name": "stdout",
     "output_type": "stream",
     "text": [
      "Sparsity: 0.80 | Accuracy: 83.97%\n"
     ]
    },
    {
     "name": "stderr",
     "output_type": "stream",
     "text": [
      "                                                           \r"
     ]
    },
    {
     "name": "stdout",
     "output_type": "stream",
     "text": [
      "Sparsity: 0.90 | Accuracy: 48.40%\n",
      "\n",
      "Scanning layer: blocks.7.mobile_inverted_conv.depth_conv.conv.weight\n"
     ]
    },
    {
     "name": "stderr",
     "output_type": "stream",
     "text": [
      "                                                           \r"
     ]
    },
    {
     "name": "stdout",
     "output_type": "stream",
     "text": [
      "Sparsity: 0.40 | Accuracy: 95.70%\n"
     ]
    },
    {
     "name": "stderr",
     "output_type": "stream",
     "text": [
      "                                                           \r"
     ]
    },
    {
     "name": "stdout",
     "output_type": "stream",
     "text": [
      "Sparsity: 0.50 | Accuracy: 95.72%\n"
     ]
    },
    {
     "name": "stderr",
     "output_type": "stream",
     "text": [
      "                                                           \r"
     ]
    },
    {
     "name": "stdout",
     "output_type": "stream",
     "text": [
      "Sparsity: 0.60 | Accuracy: 95.64%\n"
     ]
    },
    {
     "name": "stderr",
     "output_type": "stream",
     "text": [
      "                                                           \r"
     ]
    },
    {
     "name": "stdout",
     "output_type": "stream",
     "text": [
      "Sparsity: 0.70 | Accuracy: 95.38%\n"
     ]
    },
    {
     "name": "stderr",
     "output_type": "stream",
     "text": [
      "                                                           \r"
     ]
    },
    {
     "name": "stdout",
     "output_type": "stream",
     "text": [
      "Sparsity: 0.80 | Accuracy: 93.04%\n"
     ]
    },
    {
     "name": "stderr",
     "output_type": "stream",
     "text": [
      "                                                           \r"
     ]
    },
    {
     "name": "stdout",
     "output_type": "stream",
     "text": [
      "Sparsity: 0.90 | Accuracy: 29.50%\n",
      "\n",
      "Scanning layer: blocks.7.mobile_inverted_conv.point_linear.conv.weight\n"
     ]
    },
    {
     "name": "stderr",
     "output_type": "stream",
     "text": [
      "                                                           \r"
     ]
    },
    {
     "name": "stdout",
     "output_type": "stream",
     "text": [
      "Sparsity: 0.40 | Accuracy: 94.30%\n"
     ]
    },
    {
     "name": "stderr",
     "output_type": "stream",
     "text": [
      "                                                           \r"
     ]
    },
    {
     "name": "stdout",
     "output_type": "stream",
     "text": [
      "Sparsity: 0.50 | Accuracy: 92.98%\n"
     ]
    },
    {
     "name": "stderr",
     "output_type": "stream",
     "text": [
      "                                                           \r"
     ]
    },
    {
     "name": "stdout",
     "output_type": "stream",
     "text": [
      "Sparsity: 0.60 | Accuracy: 91.05%\n"
     ]
    },
    {
     "name": "stderr",
     "output_type": "stream",
     "text": [
      "                                                           \r"
     ]
    },
    {
     "name": "stdout",
     "output_type": "stream",
     "text": [
      "Sparsity: 0.70 | Accuracy: 86.49%\n"
     ]
    },
    {
     "name": "stderr",
     "output_type": "stream",
     "text": [
      "                                                           \r"
     ]
    },
    {
     "name": "stdout",
     "output_type": "stream",
     "text": [
      "Sparsity: 0.80 | Accuracy: 44.24%\n"
     ]
    },
    {
     "name": "stderr",
     "output_type": "stream",
     "text": [
      "                                                           \r"
     ]
    },
    {
     "name": "stdout",
     "output_type": "stream",
     "text": [
      "Sparsity: 0.90 | Accuracy: 21.49%\n",
      "\n",
      "Scanning layer: blocks.8.mobile_inverted_conv.inverted_bottleneck.conv.weight\n"
     ]
    },
    {
     "name": "stderr",
     "output_type": "stream",
     "text": [
      "                                                           \r"
     ]
    },
    {
     "name": "stdout",
     "output_type": "stream",
     "text": [
      "Sparsity: 0.40 | Accuracy: 95.56%\n"
     ]
    },
    {
     "name": "stderr",
     "output_type": "stream",
     "text": [
      "                                                           \r"
     ]
    },
    {
     "name": "stdout",
     "output_type": "stream",
     "text": [
      "Sparsity: 0.50 | Accuracy: 95.48%\n"
     ]
    },
    {
     "name": "stderr",
     "output_type": "stream",
     "text": [
      "                                                           \r"
     ]
    },
    {
     "name": "stdout",
     "output_type": "stream",
     "text": [
      "Sparsity: 0.60 | Accuracy: 95.32%\n"
     ]
    },
    {
     "name": "stderr",
     "output_type": "stream",
     "text": [
      "                                                           \r"
     ]
    },
    {
     "name": "stdout",
     "output_type": "stream",
     "text": [
      "Sparsity: 0.70 | Accuracy: 95.22%\n"
     ]
    },
    {
     "name": "stderr",
     "output_type": "stream",
     "text": [
      "                                                           \r"
     ]
    },
    {
     "name": "stdout",
     "output_type": "stream",
     "text": [
      "Sparsity: 0.80 | Accuracy: 94.67%\n"
     ]
    },
    {
     "name": "stderr",
     "output_type": "stream",
     "text": [
      "                                                           \r"
     ]
    },
    {
     "name": "stdout",
     "output_type": "stream",
     "text": [
      "Sparsity: 0.90 | Accuracy: 93.18%\n",
      "\n",
      "Scanning layer: blocks.8.mobile_inverted_conv.depth_conv.conv.weight\n"
     ]
    },
    {
     "name": "stderr",
     "output_type": "stream",
     "text": [
      "                                                           \r"
     ]
    },
    {
     "name": "stdout",
     "output_type": "stream",
     "text": [
      "Sparsity: 0.40 | Accuracy: 94.76%\n"
     ]
    },
    {
     "name": "stderr",
     "output_type": "stream",
     "text": [
      "                                                           \r"
     ]
    },
    {
     "name": "stdout",
     "output_type": "stream",
     "text": [
      "Sparsity: 0.50 | Accuracy: 94.40%\n"
     ]
    },
    {
     "name": "stderr",
     "output_type": "stream",
     "text": [
      "                                                           \r"
     ]
    },
    {
     "name": "stdout",
     "output_type": "stream",
     "text": [
      "Sparsity: 0.60 | Accuracy: 93.31%\n"
     ]
    },
    {
     "name": "stderr",
     "output_type": "stream",
     "text": [
      "                                                           \r"
     ]
    },
    {
     "name": "stdout",
     "output_type": "stream",
     "text": [
      "Sparsity: 0.70 | Accuracy: 89.74%\n"
     ]
    },
    {
     "name": "stderr",
     "output_type": "stream",
     "text": [
      "                                                           \r"
     ]
    },
    {
     "name": "stdout",
     "output_type": "stream",
     "text": [
      "Sparsity: 0.80 | Accuracy: 40.56%\n"
     ]
    },
    {
     "name": "stderr",
     "output_type": "stream",
     "text": [
      "                                                           \r"
     ]
    },
    {
     "name": "stdout",
     "output_type": "stream",
     "text": [
      "Sparsity: 0.90 | Accuracy: 18.31%\n",
      "\n",
      "Scanning layer: blocks.8.mobile_inverted_conv.point_linear.conv.weight\n"
     ]
    },
    {
     "name": "stderr",
     "output_type": "stream",
     "text": [
      "                                                           \r"
     ]
    },
    {
     "name": "stdout",
     "output_type": "stream",
     "text": [
      "Sparsity: 0.40 | Accuracy: 95.57%\n"
     ]
    },
    {
     "name": "stderr",
     "output_type": "stream",
     "text": [
      "                                                           \r"
     ]
    },
    {
     "name": "stdout",
     "output_type": "stream",
     "text": [
      "Sparsity: 0.50 | Accuracy: 95.45%\n"
     ]
    },
    {
     "name": "stderr",
     "output_type": "stream",
     "text": [
      "                                                           \r"
     ]
    },
    {
     "name": "stdout",
     "output_type": "stream",
     "text": [
      "Sparsity: 0.60 | Accuracy: 95.00%\n"
     ]
    },
    {
     "name": "stderr",
     "output_type": "stream",
     "text": [
      "                                                           \r"
     ]
    },
    {
     "name": "stdout",
     "output_type": "stream",
     "text": [
      "Sparsity: 0.70 | Accuracy: 94.53%\n"
     ]
    },
    {
     "name": "stderr",
     "output_type": "stream",
     "text": [
      "                                                           \r"
     ]
    },
    {
     "name": "stdout",
     "output_type": "stream",
     "text": [
      "Sparsity: 0.80 | Accuracy: 93.83%\n"
     ]
    },
    {
     "name": "stderr",
     "output_type": "stream",
     "text": [
      "                                                           \r"
     ]
    },
    {
     "name": "stdout",
     "output_type": "stream",
     "text": [
      "Sparsity: 0.90 | Accuracy: 91.40%\n",
      "\n",
      "Scanning layer: blocks.9.mobile_inverted_conv.inverted_bottleneck.conv.weight\n"
     ]
    },
    {
     "name": "stderr",
     "output_type": "stream",
     "text": [
      "                                                           \r"
     ]
    },
    {
     "name": "stdout",
     "output_type": "stream",
     "text": [
      "Sparsity: 0.40 | Accuracy: 95.60%\n"
     ]
    },
    {
     "name": "stderr",
     "output_type": "stream",
     "text": [
      "                                                           \r"
     ]
    },
    {
     "name": "stdout",
     "output_type": "stream",
     "text": [
      "Sparsity: 0.50 | Accuracy: 95.44%\n"
     ]
    },
    {
     "name": "stderr",
     "output_type": "stream",
     "text": [
      "                                                           \r"
     ]
    },
    {
     "name": "stdout",
     "output_type": "stream",
     "text": [
      "Sparsity: 0.60 | Accuracy: 95.41%\n"
     ]
    },
    {
     "name": "stderr",
     "output_type": "stream",
     "text": [
      "                                                           \r"
     ]
    },
    {
     "name": "stdout",
     "output_type": "stream",
     "text": [
      "Sparsity: 0.70 | Accuracy: 95.31%\n"
     ]
    },
    {
     "name": "stderr",
     "output_type": "stream",
     "text": [
      "                                                           \r"
     ]
    },
    {
     "name": "stdout",
     "output_type": "stream",
     "text": [
      "Sparsity: 0.80 | Accuracy: 95.26%\n"
     ]
    },
    {
     "name": "stderr",
     "output_type": "stream",
     "text": [
      "                                                           \r"
     ]
    },
    {
     "name": "stdout",
     "output_type": "stream",
     "text": [
      "Sparsity: 0.90 | Accuracy: 95.15%\n",
      "\n",
      "Scanning layer: blocks.9.mobile_inverted_conv.depth_conv.conv.weight\n"
     ]
    },
    {
     "name": "stderr",
     "output_type": "stream",
     "text": [
      "                                                           \r"
     ]
    },
    {
     "name": "stdout",
     "output_type": "stream",
     "text": [
      "Sparsity: 0.40 | Accuracy: 95.63%\n"
     ]
    },
    {
     "name": "stderr",
     "output_type": "stream",
     "text": [
      "                                                           \r"
     ]
    },
    {
     "name": "stdout",
     "output_type": "stream",
     "text": [
      "Sparsity: 0.50 | Accuracy: 95.60%\n"
     ]
    },
    {
     "name": "stderr",
     "output_type": "stream",
     "text": [
      "                                                           \r"
     ]
    },
    {
     "name": "stdout",
     "output_type": "stream",
     "text": [
      "Sparsity: 0.60 | Accuracy: 95.57%\n"
     ]
    },
    {
     "name": "stderr",
     "output_type": "stream",
     "text": [
      "                                                           \r"
     ]
    },
    {
     "name": "stdout",
     "output_type": "stream",
     "text": [
      "Sparsity: 0.70 | Accuracy: 95.50%\n"
     ]
    },
    {
     "name": "stderr",
     "output_type": "stream",
     "text": [
      "                                                           \r"
     ]
    },
    {
     "name": "stdout",
     "output_type": "stream",
     "text": [
      "Sparsity: 0.80 | Accuracy: 95.27%\n"
     ]
    },
    {
     "name": "stderr",
     "output_type": "stream",
     "text": [
      "                                                           \r"
     ]
    },
    {
     "name": "stdout",
     "output_type": "stream",
     "text": [
      "Sparsity: 0.90 | Accuracy: 93.97%\n",
      "\n",
      "Scanning layer: blocks.9.mobile_inverted_conv.point_linear.conv.weight\n"
     ]
    },
    {
     "name": "stderr",
     "output_type": "stream",
     "text": [
      "                                                           \r"
     ]
    },
    {
     "name": "stdout",
     "output_type": "stream",
     "text": [
      "Sparsity: 0.40 | Accuracy: 95.51%\n"
     ]
    },
    {
     "name": "stderr",
     "output_type": "stream",
     "text": [
      "                                                           \r"
     ]
    },
    {
     "name": "stdout",
     "output_type": "stream",
     "text": [
      "Sparsity: 0.50 | Accuracy: 95.48%\n"
     ]
    },
    {
     "name": "stderr",
     "output_type": "stream",
     "text": [
      "                                                           \r"
     ]
    },
    {
     "name": "stdout",
     "output_type": "stream",
     "text": [
      "Sparsity: 0.60 | Accuracy: 95.33%\n"
     ]
    },
    {
     "name": "stderr",
     "output_type": "stream",
     "text": [
      "                                                           \r"
     ]
    },
    {
     "name": "stdout",
     "output_type": "stream",
     "text": [
      "Sparsity: 0.70 | Accuracy: 95.24%\n"
     ]
    },
    {
     "name": "stderr",
     "output_type": "stream",
     "text": [
      "                                                           \r"
     ]
    },
    {
     "name": "stdout",
     "output_type": "stream",
     "text": [
      "Sparsity: 0.80 | Accuracy: 94.77%\n"
     ]
    },
    {
     "name": "stderr",
     "output_type": "stream",
     "text": [
      "                                                           \r"
     ]
    },
    {
     "name": "stdout",
     "output_type": "stream",
     "text": [
      "Sparsity: 0.90 | Accuracy: 93.91%\n",
      "\n",
      "Scanning layer: blocks.10.mobile_inverted_conv.inverted_bottleneck.conv.weight\n"
     ]
    },
    {
     "name": "stderr",
     "output_type": "stream",
     "text": [
      "                                                           \r"
     ]
    },
    {
     "name": "stdout",
     "output_type": "stream",
     "text": [
      "Sparsity: 0.40 | Accuracy: 95.59%\n"
     ]
    },
    {
     "name": "stderr",
     "output_type": "stream",
     "text": [
      "                                                           \r"
     ]
    },
    {
     "name": "stdout",
     "output_type": "stream",
     "text": [
      "Sparsity: 0.50 | Accuracy: 95.30%\n"
     ]
    },
    {
     "name": "stderr",
     "output_type": "stream",
     "text": [
      "                                                           \r"
     ]
    },
    {
     "name": "stdout",
     "output_type": "stream",
     "text": [
      "Sparsity: 0.60 | Accuracy: 95.25%\n"
     ]
    },
    {
     "name": "stderr",
     "output_type": "stream",
     "text": [
      "                                                           \r"
     ]
    },
    {
     "name": "stdout",
     "output_type": "stream",
     "text": [
      "Sparsity: 0.70 | Accuracy: 94.56%\n"
     ]
    },
    {
     "name": "stderr",
     "output_type": "stream",
     "text": [
      "                                                           \r"
     ]
    },
    {
     "name": "stdout",
     "output_type": "stream",
     "text": [
      "Sparsity: 0.80 | Accuracy: 93.44%\n"
     ]
    },
    {
     "name": "stderr",
     "output_type": "stream",
     "text": [
      "                                                           \r"
     ]
    },
    {
     "name": "stdout",
     "output_type": "stream",
     "text": [
      "Sparsity: 0.90 | Accuracy: 88.75%\n",
      "\n",
      "Scanning layer: blocks.10.mobile_inverted_conv.depth_conv.conv.weight\n"
     ]
    },
    {
     "name": "stderr",
     "output_type": "stream",
     "text": [
      "                                                           \r"
     ]
    },
    {
     "name": "stdout",
     "output_type": "stream",
     "text": [
      "Sparsity: 0.40 | Accuracy: 95.43%\n"
     ]
    },
    {
     "name": "stderr",
     "output_type": "stream",
     "text": [
      "                                                           \r"
     ]
    },
    {
     "name": "stdout",
     "output_type": "stream",
     "text": [
      "Sparsity: 0.50 | Accuracy: 95.36%\n"
     ]
    },
    {
     "name": "stderr",
     "output_type": "stream",
     "text": [
      "                                                           \r"
     ]
    },
    {
     "name": "stdout",
     "output_type": "stream",
     "text": [
      "Sparsity: 0.60 | Accuracy: 95.09%\n"
     ]
    },
    {
     "name": "stderr",
     "output_type": "stream",
     "text": [
      "                                                           \r"
     ]
    },
    {
     "name": "stdout",
     "output_type": "stream",
     "text": [
      "Sparsity: 0.70 | Accuracy: 94.11%\n"
     ]
    },
    {
     "name": "stderr",
     "output_type": "stream",
     "text": [
      "                                                           \r"
     ]
    },
    {
     "name": "stdout",
     "output_type": "stream",
     "text": [
      "Sparsity: 0.80 | Accuracy: 92.40%\n"
     ]
    },
    {
     "name": "stderr",
     "output_type": "stream",
     "text": [
      "                                                           \r"
     ]
    },
    {
     "name": "stdout",
     "output_type": "stream",
     "text": [
      "Sparsity: 0.90 | Accuracy: 61.79%\n",
      "\n",
      "Scanning layer: blocks.10.mobile_inverted_conv.point_linear.conv.weight\n"
     ]
    },
    {
     "name": "stderr",
     "output_type": "stream",
     "text": [
      "                                                           \r"
     ]
    },
    {
     "name": "stdout",
     "output_type": "stream",
     "text": [
      "Sparsity: 0.40 | Accuracy: 95.27%\n"
     ]
    },
    {
     "name": "stderr",
     "output_type": "stream",
     "text": [
      "                                                           \r"
     ]
    },
    {
     "name": "stdout",
     "output_type": "stream",
     "text": [
      "Sparsity: 0.50 | Accuracy: 94.73%\n"
     ]
    },
    {
     "name": "stderr",
     "output_type": "stream",
     "text": [
      "                                                           \r"
     ]
    },
    {
     "name": "stdout",
     "output_type": "stream",
     "text": [
      "Sparsity: 0.60 | Accuracy: 93.68%\n"
     ]
    },
    {
     "name": "stderr",
     "output_type": "stream",
     "text": [
      "                                                           \r"
     ]
    },
    {
     "name": "stdout",
     "output_type": "stream",
     "text": [
      "Sparsity: 0.70 | Accuracy: 92.39%\n"
     ]
    },
    {
     "name": "stderr",
     "output_type": "stream",
     "text": [
      "                                                           \r"
     ]
    },
    {
     "name": "stdout",
     "output_type": "stream",
     "text": [
      "Sparsity: 0.80 | Accuracy: 88.52%\n"
     ]
    },
    {
     "name": "stderr",
     "output_type": "stream",
     "text": [
      "                                                           \r"
     ]
    },
    {
     "name": "stdout",
     "output_type": "stream",
     "text": [
      "Sparsity: 0.90 | Accuracy: 39.04%\n",
      "\n",
      "Scanning layer: blocks.11.mobile_inverted_conv.inverted_bottleneck.conv.weight\n"
     ]
    },
    {
     "name": "stderr",
     "output_type": "stream",
     "text": [
      "                                                           \r"
     ]
    },
    {
     "name": "stdout",
     "output_type": "stream",
     "text": [
      "Sparsity: 0.40 | Accuracy: 95.60%\n"
     ]
    },
    {
     "name": "stderr",
     "output_type": "stream",
     "text": [
      "                                                           \r"
     ]
    },
    {
     "name": "stdout",
     "output_type": "stream",
     "text": [
      "Sparsity: 0.50 | Accuracy: 95.53%\n"
     ]
    },
    {
     "name": "stderr",
     "output_type": "stream",
     "text": [
      "                                                           \r"
     ]
    },
    {
     "name": "stdout",
     "output_type": "stream",
     "text": [
      "Sparsity: 0.60 | Accuracy: 95.42%\n"
     ]
    },
    {
     "name": "stderr",
     "output_type": "stream",
     "text": [
      "                                                           \r"
     ]
    },
    {
     "name": "stdout",
     "output_type": "stream",
     "text": [
      "Sparsity: 0.70 | Accuracy: 95.14%\n"
     ]
    },
    {
     "name": "stderr",
     "output_type": "stream",
     "text": [
      "                                                           \r"
     ]
    },
    {
     "name": "stdout",
     "output_type": "stream",
     "text": [
      "Sparsity: 0.80 | Accuracy: 94.85%\n"
     ]
    },
    {
     "name": "stderr",
     "output_type": "stream",
     "text": [
      "                                                           \r"
     ]
    },
    {
     "name": "stdout",
     "output_type": "stream",
     "text": [
      "Sparsity: 0.90 | Accuracy: 93.52%\n",
      "\n",
      "Scanning layer: blocks.11.mobile_inverted_conv.depth_conv.conv.weight\n"
     ]
    },
    {
     "name": "stderr",
     "output_type": "stream",
     "text": [
      "                                                           \r"
     ]
    },
    {
     "name": "stdout",
     "output_type": "stream",
     "text": [
      "Sparsity: 0.40 | Accuracy: 95.51%\n"
     ]
    },
    {
     "name": "stderr",
     "output_type": "stream",
     "text": [
      "                                                           \r"
     ]
    },
    {
     "name": "stdout",
     "output_type": "stream",
     "text": [
      "Sparsity: 0.50 | Accuracy: 95.51%\n"
     ]
    },
    {
     "name": "stderr",
     "output_type": "stream",
     "text": [
      "                                                           \r"
     ]
    },
    {
     "name": "stdout",
     "output_type": "stream",
     "text": [
      "Sparsity: 0.60 | Accuracy: 95.51%\n"
     ]
    },
    {
     "name": "stderr",
     "output_type": "stream",
     "text": [
      "                                                           \r"
     ]
    },
    {
     "name": "stdout",
     "output_type": "stream",
     "text": [
      "Sparsity: 0.70 | Accuracy: 95.27%\n"
     ]
    },
    {
     "name": "stderr",
     "output_type": "stream",
     "text": [
      "                                                           \r"
     ]
    },
    {
     "name": "stdout",
     "output_type": "stream",
     "text": [
      "Sparsity: 0.80 | Accuracy: 94.45%\n"
     ]
    },
    {
     "name": "stderr",
     "output_type": "stream",
     "text": [
      "                                                           \r"
     ]
    },
    {
     "name": "stdout",
     "output_type": "stream",
     "text": [
      "Sparsity: 0.90 | Accuracy: 91.23%\n",
      "\n",
      "Scanning layer: blocks.11.mobile_inverted_conv.point_linear.conv.weight\n"
     ]
    },
    {
     "name": "stderr",
     "output_type": "stream",
     "text": [
      "                                                           \r"
     ]
    },
    {
     "name": "stdout",
     "output_type": "stream",
     "text": [
      "Sparsity: 0.40 | Accuracy: 95.40%\n"
     ]
    },
    {
     "name": "stderr",
     "output_type": "stream",
     "text": [
      "                                                           \r"
     ]
    },
    {
     "name": "stdout",
     "output_type": "stream",
     "text": [
      "Sparsity: 0.50 | Accuracy: 95.31%\n"
     ]
    },
    {
     "name": "stderr",
     "output_type": "stream",
     "text": [
      "                                                           \r"
     ]
    },
    {
     "name": "stdout",
     "output_type": "stream",
     "text": [
      "Sparsity: 0.60 | Accuracy: 94.88%\n"
     ]
    },
    {
     "name": "stderr",
     "output_type": "stream",
     "text": [
      "                                                           \r"
     ]
    },
    {
     "name": "stdout",
     "output_type": "stream",
     "text": [
      "Sparsity: 0.70 | Accuracy: 94.45%\n"
     ]
    },
    {
     "name": "stderr",
     "output_type": "stream",
     "text": [
      "                                                           \r"
     ]
    },
    {
     "name": "stdout",
     "output_type": "stream",
     "text": [
      "Sparsity: 0.80 | Accuracy: 92.48%\n"
     ]
    },
    {
     "name": "stderr",
     "output_type": "stream",
     "text": [
      "                                                           \r"
     ]
    },
    {
     "name": "stdout",
     "output_type": "stream",
     "text": [
      "Sparsity: 0.90 | Accuracy: 88.51%\n",
      "\n",
      "Scanning layer: blocks.12.mobile_inverted_conv.inverted_bottleneck.conv.weight\n"
     ]
    },
    {
     "name": "stderr",
     "output_type": "stream",
     "text": [
      "                                                           \r"
     ]
    },
    {
     "name": "stdout",
     "output_type": "stream",
     "text": [
      "Sparsity: 0.40 | Accuracy: 95.61%\n"
     ]
    },
    {
     "name": "stderr",
     "output_type": "stream",
     "text": [
      "                                                           \r"
     ]
    },
    {
     "name": "stdout",
     "output_type": "stream",
     "text": [
      "Sparsity: 0.50 | Accuracy: 95.54%\n"
     ]
    },
    {
     "name": "stderr",
     "output_type": "stream",
     "text": [
      "                                                           \r"
     ]
    },
    {
     "name": "stdout",
     "output_type": "stream",
     "text": [
      "Sparsity: 0.60 | Accuracy: 95.40%\n"
     ]
    },
    {
     "name": "stderr",
     "output_type": "stream",
     "text": [
      "                                                           \r"
     ]
    },
    {
     "name": "stdout",
     "output_type": "stream",
     "text": [
      "Sparsity: 0.70 | Accuracy: 95.41%\n"
     ]
    },
    {
     "name": "stderr",
     "output_type": "stream",
     "text": [
      "                                                           \r"
     ]
    },
    {
     "name": "stdout",
     "output_type": "stream",
     "text": [
      "Sparsity: 0.80 | Accuracy: 95.15%\n"
     ]
    },
    {
     "name": "stderr",
     "output_type": "stream",
     "text": [
      "                                                           \r"
     ]
    },
    {
     "name": "stdout",
     "output_type": "stream",
     "text": [
      "Sparsity: 0.90 | Accuracy: 94.72%\n",
      "\n",
      "Scanning layer: blocks.12.mobile_inverted_conv.depth_conv.conv.weight\n"
     ]
    },
    {
     "name": "stderr",
     "output_type": "stream",
     "text": [
      "                                                           \r"
     ]
    },
    {
     "name": "stdout",
     "output_type": "stream",
     "text": [
      "Sparsity: 0.40 | Accuracy: 95.71%\n"
     ]
    },
    {
     "name": "stderr",
     "output_type": "stream",
     "text": [
      "                                                           \r"
     ]
    },
    {
     "name": "stdout",
     "output_type": "stream",
     "text": [
      "Sparsity: 0.50 | Accuracy: 95.64%\n"
     ]
    },
    {
     "name": "stderr",
     "output_type": "stream",
     "text": [
      "                                                           \r"
     ]
    },
    {
     "name": "stdout",
     "output_type": "stream",
     "text": [
      "Sparsity: 0.60 | Accuracy: 95.49%\n"
     ]
    },
    {
     "name": "stderr",
     "output_type": "stream",
     "text": [
      "                                                           \r"
     ]
    },
    {
     "name": "stdout",
     "output_type": "stream",
     "text": [
      "Sparsity: 0.70 | Accuracy: 95.37%\n"
     ]
    },
    {
     "name": "stderr",
     "output_type": "stream",
     "text": [
      "                                                           \r"
     ]
    },
    {
     "name": "stdout",
     "output_type": "stream",
     "text": [
      "Sparsity: 0.80 | Accuracy: 95.09%\n"
     ]
    },
    {
     "name": "stderr",
     "output_type": "stream",
     "text": [
      "                                                           \r"
     ]
    },
    {
     "name": "stdout",
     "output_type": "stream",
     "text": [
      "Sparsity: 0.90 | Accuracy: 94.03%\n",
      "\n",
      "Scanning layer: blocks.12.mobile_inverted_conv.point_linear.conv.weight\n"
     ]
    },
    {
     "name": "stderr",
     "output_type": "stream",
     "text": [
      "                                                           \r"
     ]
    },
    {
     "name": "stdout",
     "output_type": "stream",
     "text": [
      "Sparsity: 0.40 | Accuracy: 95.47%\n"
     ]
    },
    {
     "name": "stderr",
     "output_type": "stream",
     "text": [
      "                                                           \r"
     ]
    },
    {
     "name": "stdout",
     "output_type": "stream",
     "text": [
      "Sparsity: 0.50 | Accuracy: 95.29%\n"
     ]
    },
    {
     "name": "stderr",
     "output_type": "stream",
     "text": [
      "                                                           \r"
     ]
    },
    {
     "name": "stdout",
     "output_type": "stream",
     "text": [
      "Sparsity: 0.60 | Accuracy: 95.19%\n"
     ]
    },
    {
     "name": "stderr",
     "output_type": "stream",
     "text": [
      "                                                           \r"
     ]
    },
    {
     "name": "stdout",
     "output_type": "stream",
     "text": [
      "Sparsity: 0.70 | Accuracy: 94.75%\n"
     ]
    },
    {
     "name": "stderr",
     "output_type": "stream",
     "text": [
      "                                                           \r"
     ]
    },
    {
     "name": "stdout",
     "output_type": "stream",
     "text": [
      "Sparsity: 0.80 | Accuracy: 94.47%\n"
     ]
    },
    {
     "name": "stderr",
     "output_type": "stream",
     "text": [
      "                                                           \r"
     ]
    },
    {
     "name": "stdout",
     "output_type": "stream",
     "text": [
      "Sparsity: 0.90 | Accuracy: 92.96%\n",
      "\n",
      "Scanning layer: blocks.13.mobile_inverted_conv.inverted_bottleneck.conv.weight\n"
     ]
    },
    {
     "name": "stderr",
     "output_type": "stream",
     "text": [
      "                                                           \r"
     ]
    },
    {
     "name": "stdout",
     "output_type": "stream",
     "text": [
      "Sparsity: 0.40 | Accuracy: 95.63%\n"
     ]
    },
    {
     "name": "stderr",
     "output_type": "stream",
     "text": [
      "                                                           \r"
     ]
    },
    {
     "name": "stdout",
     "output_type": "stream",
     "text": [
      "Sparsity: 0.50 | Accuracy: 95.52%\n"
     ]
    },
    {
     "name": "stderr",
     "output_type": "stream",
     "text": [
      "                                                           \r"
     ]
    },
    {
     "name": "stdout",
     "output_type": "stream",
     "text": [
      "Sparsity: 0.60 | Accuracy: 95.05%\n"
     ]
    },
    {
     "name": "stderr",
     "output_type": "stream",
     "text": [
      "                                                           \r"
     ]
    },
    {
     "name": "stdout",
     "output_type": "stream",
     "text": [
      "Sparsity: 0.70 | Accuracy: 94.06%\n"
     ]
    },
    {
     "name": "stderr",
     "output_type": "stream",
     "text": [
      "                                                           \r"
     ]
    },
    {
     "name": "stdout",
     "output_type": "stream",
     "text": [
      "Sparsity: 0.80 | Accuracy: 89.62%\n"
     ]
    },
    {
     "name": "stderr",
     "output_type": "stream",
     "text": [
      "                                                           \r"
     ]
    },
    {
     "name": "stdout",
     "output_type": "stream",
     "text": [
      "Sparsity: 0.90 | Accuracy: 71.11%\n",
      "\n",
      "Scanning layer: blocks.13.mobile_inverted_conv.depth_conv.conv.weight\n"
     ]
    },
    {
     "name": "stderr",
     "output_type": "stream",
     "text": [
      "                                                           \r"
     ]
    },
    {
     "name": "stdout",
     "output_type": "stream",
     "text": [
      "Sparsity: 0.40 | Accuracy: 95.73%\n"
     ]
    },
    {
     "name": "stderr",
     "output_type": "stream",
     "text": [
      "                                                           \r"
     ]
    },
    {
     "name": "stdout",
     "output_type": "stream",
     "text": [
      "Sparsity: 0.50 | Accuracy: 95.61%\n"
     ]
    },
    {
     "name": "stderr",
     "output_type": "stream",
     "text": [
      "                                                           \r"
     ]
    },
    {
     "name": "stdout",
     "output_type": "stream",
     "text": [
      "Sparsity: 0.60 | Accuracy: 95.56%\n"
     ]
    },
    {
     "name": "stderr",
     "output_type": "stream",
     "text": [
      "                                                           \r"
     ]
    },
    {
     "name": "stdout",
     "output_type": "stream",
     "text": [
      "Sparsity: 0.70 | Accuracy: 95.47%\n"
     ]
    },
    {
     "name": "stderr",
     "output_type": "stream",
     "text": [
      "                                                           \r"
     ]
    },
    {
     "name": "stdout",
     "output_type": "stream",
     "text": [
      "Sparsity: 0.80 | Accuracy: 95.13%\n"
     ]
    },
    {
     "name": "stderr",
     "output_type": "stream",
     "text": [
      "                                                           \r"
     ]
    },
    {
     "name": "stdout",
     "output_type": "stream",
     "text": [
      "Sparsity: 0.90 | Accuracy: 93.67%\n",
      "\n",
      "Scanning layer: blocks.13.mobile_inverted_conv.point_linear.conv.weight\n"
     ]
    },
    {
     "name": "stderr",
     "output_type": "stream",
     "text": [
      "                                                           \r"
     ]
    },
    {
     "name": "stdout",
     "output_type": "stream",
     "text": [
      "Sparsity: 0.40 | Accuracy: 94.66%\n"
     ]
    },
    {
     "name": "stderr",
     "output_type": "stream",
     "text": [
      "                                                           \r"
     ]
    },
    {
     "name": "stdout",
     "output_type": "stream",
     "text": [
      "Sparsity: 0.50 | Accuracy: 94.67%\n"
     ]
    },
    {
     "name": "stderr",
     "output_type": "stream",
     "text": [
      "                                                           \r"
     ]
    },
    {
     "name": "stdout",
     "output_type": "stream",
     "text": [
      "Sparsity: 0.60 | Accuracy: 93.38%\n"
     ]
    },
    {
     "name": "stderr",
     "output_type": "stream",
     "text": [
      "                                                           \r"
     ]
    },
    {
     "name": "stdout",
     "output_type": "stream",
     "text": [
      "Sparsity: 0.70 | Accuracy: 86.38%\n"
     ]
    },
    {
     "name": "stderr",
     "output_type": "stream",
     "text": [
      "                                                           \r"
     ]
    },
    {
     "name": "stdout",
     "output_type": "stream",
     "text": [
      "Sparsity: 0.80 | Accuracy: 79.76%\n"
     ]
    },
    {
     "name": "stderr",
     "output_type": "stream",
     "text": [
      "                                                           \r"
     ]
    },
    {
     "name": "stdout",
     "output_type": "stream",
     "text": [
      "Sparsity: 0.90 | Accuracy: 54.36%\n",
      "\n",
      "Scanning layer: blocks.14.mobile_inverted_conv.inverted_bottleneck.conv.weight\n"
     ]
    },
    {
     "name": "stderr",
     "output_type": "stream",
     "text": [
      "                                                           \r"
     ]
    },
    {
     "name": "stdout",
     "output_type": "stream",
     "text": [
      "Sparsity: 0.40 | Accuracy: 95.56%\n"
     ]
    },
    {
     "name": "stderr",
     "output_type": "stream",
     "text": [
      "                                                           \r"
     ]
    },
    {
     "name": "stdout",
     "output_type": "stream",
     "text": [
      "Sparsity: 0.50 | Accuracy: 95.48%\n"
     ]
    },
    {
     "name": "stderr",
     "output_type": "stream",
     "text": [
      "                                                           \r"
     ]
    },
    {
     "name": "stdout",
     "output_type": "stream",
     "text": [
      "Sparsity: 0.60 | Accuracy: 95.47%\n"
     ]
    },
    {
     "name": "stderr",
     "output_type": "stream",
     "text": [
      "                                                           \r"
     ]
    },
    {
     "name": "stdout",
     "output_type": "stream",
     "text": [
      "Sparsity: 0.70 | Accuracy: 95.07%\n"
     ]
    },
    {
     "name": "stderr",
     "output_type": "stream",
     "text": [
      "                                                           \r"
     ]
    },
    {
     "name": "stdout",
     "output_type": "stream",
     "text": [
      "Sparsity: 0.80 | Accuracy: 94.35%\n"
     ]
    },
    {
     "name": "stderr",
     "output_type": "stream",
     "text": [
      "                                                           \r"
     ]
    },
    {
     "name": "stdout",
     "output_type": "stream",
     "text": [
      "Sparsity: 0.90 | Accuracy: 92.39%\n",
      "\n",
      "Scanning layer: blocks.14.mobile_inverted_conv.depth_conv.conv.weight\n"
     ]
    },
    {
     "name": "stderr",
     "output_type": "stream",
     "text": [
      "                                                           \r"
     ]
    },
    {
     "name": "stdout",
     "output_type": "stream",
     "text": [
      "Sparsity: 0.40 | Accuracy: 95.68%\n"
     ]
    },
    {
     "name": "stderr",
     "output_type": "stream",
     "text": [
      "                                                           \r"
     ]
    },
    {
     "name": "stdout",
     "output_type": "stream",
     "text": [
      "Sparsity: 0.50 | Accuracy: 95.67%\n"
     ]
    },
    {
     "name": "stderr",
     "output_type": "stream",
     "text": [
      "                                                           \r"
     ]
    },
    {
     "name": "stdout",
     "output_type": "stream",
     "text": [
      "Sparsity: 0.60 | Accuracy: 95.71%\n"
     ]
    },
    {
     "name": "stderr",
     "output_type": "stream",
     "text": [
      "                                                           \r"
     ]
    },
    {
     "name": "stdout",
     "output_type": "stream",
     "text": [
      "Sparsity: 0.70 | Accuracy: 95.45%\n"
     ]
    },
    {
     "name": "stderr",
     "output_type": "stream",
     "text": [
      "                                                           \r"
     ]
    },
    {
     "name": "stdout",
     "output_type": "stream",
     "text": [
      "Sparsity: 0.80 | Accuracy: 94.71%\n"
     ]
    },
    {
     "name": "stderr",
     "output_type": "stream",
     "text": [
      "                                                           \r"
     ]
    },
    {
     "name": "stdout",
     "output_type": "stream",
     "text": [
      "Sparsity: 0.90 | Accuracy: 85.07%\n",
      "\n",
      "Scanning layer: blocks.14.mobile_inverted_conv.point_linear.conv.weight\n"
     ]
    },
    {
     "name": "stderr",
     "output_type": "stream",
     "text": [
      "                                                           \r"
     ]
    },
    {
     "name": "stdout",
     "output_type": "stream",
     "text": [
      "Sparsity: 0.40 | Accuracy: 95.44%\n"
     ]
    },
    {
     "name": "stderr",
     "output_type": "stream",
     "text": [
      "                                                           \r"
     ]
    },
    {
     "name": "stdout",
     "output_type": "stream",
     "text": [
      "Sparsity: 0.50 | Accuracy: 95.33%\n"
     ]
    },
    {
     "name": "stderr",
     "output_type": "stream",
     "text": [
      "                                                           \r"
     ]
    },
    {
     "name": "stdout",
     "output_type": "stream",
     "text": [
      "Sparsity: 0.60 | Accuracy: 94.61%\n"
     ]
    },
    {
     "name": "stderr",
     "output_type": "stream",
     "text": [
      "                                                           \r"
     ]
    },
    {
     "name": "stdout",
     "output_type": "stream",
     "text": [
      "Sparsity: 0.70 | Accuracy: 93.79%\n"
     ]
    },
    {
     "name": "stderr",
     "output_type": "stream",
     "text": [
      "                                                           \r"
     ]
    },
    {
     "name": "stdout",
     "output_type": "stream",
     "text": [
      "Sparsity: 0.80 | Accuracy: 92.30%\n"
     ]
    },
    {
     "name": "stderr",
     "output_type": "stream",
     "text": [
      "                                                           \r"
     ]
    },
    {
     "name": "stdout",
     "output_type": "stream",
     "text": [
      "Sparsity: 0.90 | Accuracy: 89.20%\n",
      "\n",
      "Scanning layer: blocks.15.mobile_inverted_conv.inverted_bottleneck.conv.weight\n"
     ]
    },
    {
     "name": "stderr",
     "output_type": "stream",
     "text": [
      "                                                           \r"
     ]
    },
    {
     "name": "stdout",
     "output_type": "stream",
     "text": [
      "Sparsity: 0.40 | Accuracy: 95.62%\n"
     ]
    },
    {
     "name": "stderr",
     "output_type": "stream",
     "text": [
      "                                                           \r"
     ]
    },
    {
     "name": "stdout",
     "output_type": "stream",
     "text": [
      "Sparsity: 0.50 | Accuracy: 95.64%\n"
     ]
    },
    {
     "name": "stderr",
     "output_type": "stream",
     "text": [
      "                                                           \r"
     ]
    },
    {
     "name": "stdout",
     "output_type": "stream",
     "text": [
      "Sparsity: 0.60 | Accuracy: 95.49%\n"
     ]
    },
    {
     "name": "stderr",
     "output_type": "stream",
     "text": [
      "                                                           \r"
     ]
    },
    {
     "name": "stdout",
     "output_type": "stream",
     "text": [
      "Sparsity: 0.70 | Accuracy: 95.39%\n"
     ]
    },
    {
     "name": "stderr",
     "output_type": "stream",
     "text": [
      "                                                           \r"
     ]
    },
    {
     "name": "stdout",
     "output_type": "stream",
     "text": [
      "Sparsity: 0.80 | Accuracy: 95.22%\n"
     ]
    },
    {
     "name": "stderr",
     "output_type": "stream",
     "text": [
      "                                                           \r"
     ]
    },
    {
     "name": "stdout",
     "output_type": "stream",
     "text": [
      "Sparsity: 0.90 | Accuracy: 94.91%\n",
      "\n",
      "Scanning layer: blocks.15.mobile_inverted_conv.depth_conv.conv.weight\n"
     ]
    },
    {
     "name": "stderr",
     "output_type": "stream",
     "text": [
      "                                                           \r"
     ]
    },
    {
     "name": "stdout",
     "output_type": "stream",
     "text": [
      "Sparsity: 0.40 | Accuracy: 95.64%\n"
     ]
    },
    {
     "name": "stderr",
     "output_type": "stream",
     "text": [
      "                                                           \r"
     ]
    },
    {
     "name": "stdout",
     "output_type": "stream",
     "text": [
      "Sparsity: 0.50 | Accuracy: 95.66%\n"
     ]
    },
    {
     "name": "stderr",
     "output_type": "stream",
     "text": [
      "                                                           \r"
     ]
    },
    {
     "name": "stdout",
     "output_type": "stream",
     "text": [
      "Sparsity: 0.60 | Accuracy: 95.58%\n"
     ]
    },
    {
     "name": "stderr",
     "output_type": "stream",
     "text": [
      "                                                           \r"
     ]
    },
    {
     "name": "stdout",
     "output_type": "stream",
     "text": [
      "Sparsity: 0.70 | Accuracy: 95.50%\n"
     ]
    },
    {
     "name": "stderr",
     "output_type": "stream",
     "text": [
      "                                                           \r"
     ]
    },
    {
     "name": "stdout",
     "output_type": "stream",
     "text": [
      "Sparsity: 0.80 | Accuracy: 95.08%\n"
     ]
    },
    {
     "name": "stderr",
     "output_type": "stream",
     "text": [
      "                                                           \r"
     ]
    },
    {
     "name": "stdout",
     "output_type": "stream",
     "text": [
      "Sparsity: 0.90 | Accuracy: 94.09%\n",
      "\n",
      "Scanning layer: blocks.15.mobile_inverted_conv.point_linear.conv.weight\n"
     ]
    },
    {
     "name": "stderr",
     "output_type": "stream",
     "text": [
      "                                                           \r"
     ]
    },
    {
     "name": "stdout",
     "output_type": "stream",
     "text": [
      "Sparsity: 0.40 | Accuracy: 95.54%\n"
     ]
    },
    {
     "name": "stderr",
     "output_type": "stream",
     "text": [
      "                                                           \r"
     ]
    },
    {
     "name": "stdout",
     "output_type": "stream",
     "text": [
      "Sparsity: 0.50 | Accuracy: 95.47%\n"
     ]
    },
    {
     "name": "stderr",
     "output_type": "stream",
     "text": [
      "                                                           \r"
     ]
    },
    {
     "name": "stdout",
     "output_type": "stream",
     "text": [
      "Sparsity: 0.60 | Accuracy: 95.27%\n"
     ]
    },
    {
     "name": "stderr",
     "output_type": "stream",
     "text": [
      "                                                           \r"
     ]
    },
    {
     "name": "stdout",
     "output_type": "stream",
     "text": [
      "Sparsity: 0.70 | Accuracy: 95.02%\n"
     ]
    },
    {
     "name": "stderr",
     "output_type": "stream",
     "text": [
      "                                                           \r"
     ]
    },
    {
     "name": "stdout",
     "output_type": "stream",
     "text": [
      "Sparsity: 0.80 | Accuracy: 94.73%\n"
     ]
    },
    {
     "name": "stderr",
     "output_type": "stream",
     "text": [
      "                                                           \r"
     ]
    },
    {
     "name": "stdout",
     "output_type": "stream",
     "text": [
      "Sparsity: 0.90 | Accuracy: 93.51%\n",
      "\n",
      "Scanning layer: blocks.16.mobile_inverted_conv.inverted_bottleneck.conv.weight\n"
     ]
    },
    {
     "name": "stderr",
     "output_type": "stream",
     "text": [
      "                                                           \r"
     ]
    },
    {
     "name": "stdout",
     "output_type": "stream",
     "text": [
      "Sparsity: 0.40 | Accuracy: 95.55%\n"
     ]
    },
    {
     "name": "stderr",
     "output_type": "stream",
     "text": [
      "                                                           \r"
     ]
    },
    {
     "name": "stdout",
     "output_type": "stream",
     "text": [
      "Sparsity: 0.50 | Accuracy: 95.41%\n"
     ]
    },
    {
     "name": "stderr",
     "output_type": "stream",
     "text": [
      "                                                           \r"
     ]
    },
    {
     "name": "stdout",
     "output_type": "stream",
     "text": [
      "Sparsity: 0.60 | Accuracy: 95.18%\n"
     ]
    },
    {
     "name": "stderr",
     "output_type": "stream",
     "text": [
      "                                                           \r"
     ]
    },
    {
     "name": "stdout",
     "output_type": "stream",
     "text": [
      "Sparsity: 0.70 | Accuracy: 94.57%\n"
     ]
    },
    {
     "name": "stderr",
     "output_type": "stream",
     "text": [
      "                                                           \r"
     ]
    },
    {
     "name": "stdout",
     "output_type": "stream",
     "text": [
      "Sparsity: 0.80 | Accuracy: 93.47%\n"
     ]
    },
    {
     "name": "stderr",
     "output_type": "stream",
     "text": [
      "                                                           \r"
     ]
    },
    {
     "name": "stdout",
     "output_type": "stream",
     "text": [
      "Sparsity: 0.90 | Accuracy: 83.45%\n",
      "\n",
      "Scanning layer: blocks.16.mobile_inverted_conv.depth_conv.conv.weight\n"
     ]
    },
    {
     "name": "stderr",
     "output_type": "stream",
     "text": [
      "                                                           \r"
     ]
    },
    {
     "name": "stdout",
     "output_type": "stream",
     "text": [
      "Sparsity: 0.40 | Accuracy: 95.61%\n"
     ]
    },
    {
     "name": "stderr",
     "output_type": "stream",
     "text": [
      "                                                           \r"
     ]
    },
    {
     "name": "stdout",
     "output_type": "stream",
     "text": [
      "Sparsity: 0.50 | Accuracy: 95.18%\n"
     ]
    },
    {
     "name": "stderr",
     "output_type": "stream",
     "text": [
      "                                                           \r"
     ]
    },
    {
     "name": "stdout",
     "output_type": "stream",
     "text": [
      "Sparsity: 0.60 | Accuracy: 94.57%\n"
     ]
    },
    {
     "name": "stderr",
     "output_type": "stream",
     "text": [
      "                                                           \r"
     ]
    },
    {
     "name": "stdout",
     "output_type": "stream",
     "text": [
      "Sparsity: 0.70 | Accuracy: 94.20%\n"
     ]
    },
    {
     "name": "stderr",
     "output_type": "stream",
     "text": [
      "                                                           \r"
     ]
    },
    {
     "name": "stdout",
     "output_type": "stream",
     "text": [
      "Sparsity: 0.80 | Accuracy: 88.97%\n"
     ]
    },
    {
     "name": "stderr",
     "output_type": "stream",
     "text": [
      "                                                           \r"
     ]
    },
    {
     "name": "stdout",
     "output_type": "stream",
     "text": [
      "Sparsity: 0.90 | Accuracy: 56.81%\n",
      "\n",
      "Scanning layer: blocks.16.mobile_inverted_conv.point_linear.conv.weight\n"
     ]
    },
    {
     "name": "stderr",
     "output_type": "stream",
     "text": [
      "                                                           \r"
     ]
    },
    {
     "name": "stdout",
     "output_type": "stream",
     "text": [
      "Sparsity: 0.40 | Accuracy: 95.52%\n"
     ]
    },
    {
     "name": "stderr",
     "output_type": "stream",
     "text": [
      "                                                           \r"
     ]
    },
    {
     "name": "stdout",
     "output_type": "stream",
     "text": [
      "Sparsity: 0.50 | Accuracy: 95.23%\n"
     ]
    },
    {
     "name": "stderr",
     "output_type": "stream",
     "text": [
      "                                                           \r"
     ]
    },
    {
     "name": "stdout",
     "output_type": "stream",
     "text": [
      "Sparsity: 0.60 | Accuracy: 94.21%\n"
     ]
    },
    {
     "name": "stderr",
     "output_type": "stream",
     "text": [
      "                                                           \r"
     ]
    },
    {
     "name": "stdout",
     "output_type": "stream",
     "text": [
      "Sparsity: 0.70 | Accuracy: 94.05%\n"
     ]
    },
    {
     "name": "stderr",
     "output_type": "stream",
     "text": [
      "                                                           \r"
     ]
    },
    {
     "name": "stdout",
     "output_type": "stream",
     "text": [
      "Sparsity: 0.80 | Accuracy: 93.71%\n"
     ]
    },
    {
     "name": "stderr",
     "output_type": "stream",
     "text": [
      "                                                           "
     ]
    },
    {
     "name": "stdout",
     "output_type": "stream",
     "text": [
      "Sparsity: 0.90 | Accuracy: 82.07%\n"
     ]
    },
    {
     "name": "stderr",
     "output_type": "stream",
     "text": [
      "\r"
     ]
    }
   ],
   "source": [
    "sparsities, layer_accuracies = sensitivity_scan_per_layer(model, dataloader['test'], 0.4, 0.1, 1.0)"
   ]
  },
  {
   "cell_type": "code",
   "execution_count": 109,
   "id": "de27feeb",
   "metadata": {},
   "outputs": [],
   "source": [
    "layer_dict = {\n",
    "    # Block 0\n",
    "    'blocks.0.mobile_inverted_conv.inverted_bottleneck.conv.weight': 0,\n",
    "    'blocks.0.mobile_inverted_conv.depth_conv.conv.weight': 0,\n",
    "    'blocks.0.mobile_inverted_conv.point_linear.conv.weight': 0,\n",
    "\n",
    "    # Block 1\n",
    "    'blocks.1.mobile_inverted_conv.inverted_bottleneck.conv.weight': 0,\n",
    "    'blocks.1.mobile_inverted_conv.depth_conv.conv.weight': 0,\n",
    "    'blocks.1.mobile_inverted_conv.point_linear.conv.weight': 0,\n",
    "\n",
    "    # Block 2\n",
    "    'blocks.2.mobile_inverted_conv.inverted_bottleneck.conv.weight': 0,\n",
    "    'blocks.2.mobile_inverted_conv.depth_conv.conv.weight': 0,\n",
    "    'blocks.2.mobile_inverted_conv.point_linear.conv.weight': 0,\n",
    "\n",
    "    # Block 3\n",
    "    'blocks.3.mobile_inverted_conv.inverted_bottleneck.conv.weight': 0,\n",
    "    'blocks.3.mobile_inverted_conv.depth_conv.conv.weight': 0,\n",
    "    'blocks.3.mobile_inverted_conv.point_linear.conv.weight': 0,\n",
    "\n",
    "    # Block 4\n",
    "    'blocks.4.mobile_inverted_conv.inverted_bottleneck.conv.weight': 0,\n",
    "    'blocks.4.mobile_inverted_conv.depth_conv.conv.weight': 0,\n",
    "    'blocks.4.mobile_inverted_conv.point_linear.conv.weight': 0,\n",
    "\n",
    "    # Block 5\n",
    "    'blocks.5.mobile_inverted_conv.inverted_bottleneck.conv.weight': 0,\n",
    "    'blocks.5.mobile_inverted_conv.depth_conv.conv.weight': 0,\n",
    "    'blocks.5.mobile_inverted_conv.point_linear.conv.weight': 0,\n",
    "\n",
    "    # Block 6\n",
    "    'blocks.6.mobile_inverted_conv.inverted_bottleneck.conv.weight': 0,\n",
    "    'blocks.6.mobile_inverted_conv.depth_conv.conv.weight': 0,\n",
    "    'blocks.6.mobile_inverted_conv.point_linear.conv.weight': 0,\n",
    "\n",
    "    # Block 7\n",
    "    'blocks.7.mobile_inverted_conv.inverted_bottleneck.conv.weight': 0,\n",
    "    'blocks.7.mobile_inverted_conv.depth_conv.conv.weight': 0,\n",
    "    'blocks.7.mobile_inverted_conv.point_linear.conv.weight': 0,\n",
    "\n",
    "    # Block 8\n",
    "    'blocks.8.mobile_inverted_conv.inverted_bottleneck.conv.weight': 0,\n",
    "    'blocks.8.mobile_inverted_conv.depth_conv.conv.weight': 0,\n",
    "    'blocks.8.mobile_inverted_conv.point_linear.conv.weight': 0,\n",
    "\n",
    "    # Block 9\n",
    "    'blocks.9.mobile_inverted_conv.inverted_bottleneck.conv.weight': 0,\n",
    "    'blocks.9.mobile_inverted_conv.depth_conv.conv.weight': 0,\n",
    "    'blocks.9.mobile_inverted_conv.point_linear.conv.weight': 0,\n",
    "\n",
    "    # Block 10\n",
    "    'blocks.10.mobile_inverted_conv.inverted_bottleneck.conv.weight': 0,\n",
    "    'blocks.10.mobile_inverted_conv.depth_conv.conv.weight': 0,\n",
    "    'blocks.10.mobile_inverted_conv.point_linear.conv.weight': 0,\n",
    "\n",
    "    # Block 11\n",
    "    'blocks.11.mobile_inverted_conv.inverted_bottleneck.conv.weight': 0.4,\n",
    "    'blocks.11.mobile_inverted_conv.depth_conv.conv.weight': 0.4,\n",
    "    'blocks.11.mobile_inverted_conv.point_linear.conv.weight': 0.4,\n",
    "\n",
    "    # Block 12\n",
    "    'blocks.12.mobile_inverted_conv.inverted_bottleneck.conv.weight': 0.4,\n",
    "    'blocks.12.mobile_inverted_conv.depth_conv.conv.weight': 0.4,\n",
    "    'blocks.12.mobile_inverted_conv.point_linear.conv.weight': 0.4,\n",
    "\n",
    "    # Block 13\n",
    "    'blocks.13.mobile_inverted_conv.inverted_bottleneck.conv.weight': 0.4,\n",
    "    'blocks.13.mobile_inverted_conv.depth_conv.conv.weight': 0.4,\n",
    "    'blocks.13.mobile_inverted_conv.point_linear.conv.weight': 0.4,\n",
    "\n",
    "    # Block 14\n",
    "    'blocks.14.mobile_inverted_conv.inverted_bottleneck.conv.weight': 0.4,\n",
    "    'blocks.14.mobile_inverted_conv.depth_conv.conv.weight': 0.4,\n",
    "    'blocks.14.mobile_inverted_conv.point_linear.conv.weight': 0.4,\n",
    "\n",
    "    # Block 15\n",
    "    'blocks.15.mobile_inverted_conv.inverted_bottleneck.conv.weight': 0.4,\n",
    "    'blocks.15.mobile_inverted_conv.depth_conv.conv.weight': 0.4,\n",
    "    'blocks.15.mobile_inverted_conv.point_linear.conv.weight': 0.4,\n",
    "\n",
    "    # Block 16\n",
    "    'blocks.16.mobile_inverted_conv.inverted_bottleneck.conv.weight': 0.4,\n",
    "    'blocks.16.mobile_inverted_conv.depth_conv.conv.weight': 0.4,\n",
    "    'blocks.16.mobile_inverted_conv.point_linear.conv.weight': 0.4,\n",
    "}\n"
   ]
  },
  {
   "cell_type": "code",
   "execution_count": 30,
   "id": "d85e1730",
   "metadata": {},
   "outputs": [],
   "source": [
    "def prune_layer_with_sparsity(weight_tensor: torch.Tensor, sparsity: float):\n",
    "    \"\"\"\n",
    "    Apply magnitude pruning to a specific layer with a specified sparsity.\n",
    "\n",
    "    Args:\n",
    "        weight_tensor (torch.Tensor): The weight tensor to prune.\n",
    "        sparsity: (float): The desired sparsity level.\n",
    "    \"\"\"\n",
    "    with torch.no_grad():\n",
    "\n",
    "        # 1. Flattened tensor as 1D array\n",
    "        flattened_tensor=weight_tensor.view(-1)\n",
    "        # 2. Calculate threshold\n",
    "        threshold=torch.quantile(flattened_tensor.abs(),sparsity)\n",
    "        # 3. Calculate mask\n",
    "        mask=(weight_tensor.abs()>=threshold)\n",
    "        # 4. Get pruned tensor\n",
    "        pruned_tensor=mask * weight_tensor\n",
    "        # 5. reshape pruned tensor and mask\n",
    "        pruned_tensor=pruned_tensor.view(weight_tensor.shape)\n",
    "        mask=mask.view(weight_tensor.shape)\n",
    "\n",
    "\n",
    "        return pruned_tensor, mask"
   ]
  },
  {
   "cell_type": "code",
   "execution_count": 110,
   "id": "310fce40",
   "metadata": {},
   "outputs": [
    {
     "name": "stderr",
     "output_type": "stream",
     "text": [
      "c:\\Users\\96156\\OneDrive - nyu.edu\\ce\\9483\\Efficient_ML_mcunet\\mcunet\\model_zoo.py:82: FutureWarning: You are using `torch.load` with `weights_only=False` (the current default value), which uses the default pickle module implicitly. It is possible to construct malicious pickle data which will execute arbitrary code during unpickling (See https://github.com/pytorch/pytorch/blob/main/SECURITY.md#untrusted-models for more details). In a future release, the default value for `weights_only` will be flipped to `True`. This limits the functions that could be executed during unpickling. Arbitrary objects will no longer be allowed to be loaded via this mode unless they are explicitly allowlisted by the user via `torch.serialization.add_safe_globals`. We recommend you start setting `weights_only=True` for any use case where you don't have full control of the loaded file. Please open an issue on GitHub for any issues related to this experimental feature.\n",
      "  sd = torch.load(download_url(sd_url), map_location='cpu')\n",
      "C:\\Users\\96156\\AppData\\Local\\Temp\\ipykernel_72552\\453617923.py:30: FutureWarning: You are using `torch.load` with `weights_only=False` (the current default value), which uses the default pickle module implicitly. It is possible to construct malicious pickle data which will execute arbitrary code during unpickling (See https://github.com/pytorch/pytorch/blob/main/SECURITY.md#untrusted-models for more details). In a future release, the default value for `weights_only` will be flipped to `True`. This limits the functions that could be executed during unpickling. Arbitrary objects will no longer be allowed to be loaded via this mode unless they are explicitly allowlisted by the user via `torch.serialization.add_safe_globals`. We recommend you start setting `weights_only=True` for any use case where you don't have full control of the loaded file. Please open an issue on GitHub for any issues related to this experimental feature.\n",
      "  state_dict = torch.load(weight_path, map_location=device)\n"
     ]
    },
    {
     "name": "stdout",
     "output_type": "stream",
     "text": [
      "🔁 Model recovered to original (pre-pruning) state.\n",
      "Sparsity before pruning: 0.0\n",
      "❌ [Not Found] blocks.0.mobile_inverted_conv.inverted_bottleneck.conv.weight\n",
      "✅ [Pruning] blocks.0.mobile_inverted_conv.depth_conv.conv.weight with sparsity 0\n",
      "✅ [Pruning] blocks.0.mobile_inverted_conv.point_linear.conv.weight with sparsity 0\n",
      "✅ [Pruning] blocks.1.mobile_inverted_conv.inverted_bottleneck.conv.weight with sparsity 0\n",
      "✅ [Pruning] blocks.1.mobile_inverted_conv.depth_conv.conv.weight with sparsity 0\n",
      "✅ [Pruning] blocks.1.mobile_inverted_conv.point_linear.conv.weight with sparsity 0\n",
      "✅ [Pruning] blocks.2.mobile_inverted_conv.inverted_bottleneck.conv.weight with sparsity 0\n",
      "✅ [Pruning] blocks.2.mobile_inverted_conv.depth_conv.conv.weight with sparsity 0\n",
      "✅ [Pruning] blocks.2.mobile_inverted_conv.point_linear.conv.weight with sparsity 0\n",
      "✅ [Pruning] blocks.3.mobile_inverted_conv.inverted_bottleneck.conv.weight with sparsity 0\n",
      "✅ [Pruning] blocks.3.mobile_inverted_conv.depth_conv.conv.weight with sparsity 0\n",
      "✅ [Pruning] blocks.3.mobile_inverted_conv.point_linear.conv.weight with sparsity 0\n",
      "✅ [Pruning] blocks.4.mobile_inverted_conv.inverted_bottleneck.conv.weight with sparsity 0\n",
      "✅ [Pruning] blocks.4.mobile_inverted_conv.depth_conv.conv.weight with sparsity 0\n",
      "✅ [Pruning] blocks.4.mobile_inverted_conv.point_linear.conv.weight with sparsity 0\n",
      "✅ [Pruning] blocks.5.mobile_inverted_conv.inverted_bottleneck.conv.weight with sparsity 0\n",
      "✅ [Pruning] blocks.5.mobile_inverted_conv.depth_conv.conv.weight with sparsity 0\n",
      "✅ [Pruning] blocks.5.mobile_inverted_conv.point_linear.conv.weight with sparsity 0\n",
      "✅ [Pruning] blocks.6.mobile_inverted_conv.inverted_bottleneck.conv.weight with sparsity 0\n",
      "✅ [Pruning] blocks.6.mobile_inverted_conv.depth_conv.conv.weight with sparsity 0\n",
      "✅ [Pruning] blocks.6.mobile_inverted_conv.point_linear.conv.weight with sparsity 0\n",
      "✅ [Pruning] blocks.7.mobile_inverted_conv.inverted_bottleneck.conv.weight with sparsity 0\n",
      "✅ [Pruning] blocks.7.mobile_inverted_conv.depth_conv.conv.weight with sparsity 0\n",
      "✅ [Pruning] blocks.7.mobile_inverted_conv.point_linear.conv.weight with sparsity 0\n",
      "✅ [Pruning] blocks.8.mobile_inverted_conv.inverted_bottleneck.conv.weight with sparsity 0\n",
      "✅ [Pruning] blocks.8.mobile_inverted_conv.depth_conv.conv.weight with sparsity 0\n",
      "✅ [Pruning] blocks.8.mobile_inverted_conv.point_linear.conv.weight with sparsity 0\n",
      "✅ [Pruning] blocks.9.mobile_inverted_conv.inverted_bottleneck.conv.weight with sparsity 0\n",
      "✅ [Pruning] blocks.9.mobile_inverted_conv.depth_conv.conv.weight with sparsity 0\n",
      "✅ [Pruning] blocks.9.mobile_inverted_conv.point_linear.conv.weight with sparsity 0\n",
      "✅ [Pruning] blocks.10.mobile_inverted_conv.inverted_bottleneck.conv.weight with sparsity 0\n",
      "✅ [Pruning] blocks.10.mobile_inverted_conv.depth_conv.conv.weight with sparsity 0\n",
      "✅ [Pruning] blocks.10.mobile_inverted_conv.point_linear.conv.weight with sparsity 0\n",
      "✅ [Pruning] blocks.11.mobile_inverted_conv.inverted_bottleneck.conv.weight with sparsity 0.4\n",
      "✅ [Pruning] blocks.11.mobile_inverted_conv.depth_conv.conv.weight with sparsity 0.4\n",
      "✅ [Pruning] blocks.11.mobile_inverted_conv.point_linear.conv.weight with sparsity 0.4\n",
      "✅ [Pruning] blocks.12.mobile_inverted_conv.inverted_bottleneck.conv.weight with sparsity 0.4\n",
      "✅ [Pruning] blocks.12.mobile_inverted_conv.depth_conv.conv.weight with sparsity 0.4\n",
      "✅ [Pruning] blocks.12.mobile_inverted_conv.point_linear.conv.weight with sparsity 0.4\n",
      "✅ [Pruning] blocks.13.mobile_inverted_conv.inverted_bottleneck.conv.weight with sparsity 0.4\n",
      "✅ [Pruning] blocks.13.mobile_inverted_conv.depth_conv.conv.weight with sparsity 0.4\n",
      "✅ [Pruning] blocks.13.mobile_inverted_conv.point_linear.conv.weight with sparsity 0.4\n",
      "✅ [Pruning] blocks.14.mobile_inverted_conv.inverted_bottleneck.conv.weight with sparsity 0.4\n",
      "✅ [Pruning] blocks.14.mobile_inverted_conv.depth_conv.conv.weight with sparsity 0.4\n",
      "✅ [Pruning] blocks.14.mobile_inverted_conv.point_linear.conv.weight with sparsity 0.4\n",
      "✅ [Pruning] blocks.15.mobile_inverted_conv.inverted_bottleneck.conv.weight with sparsity 0.4\n",
      "✅ [Pruning] blocks.15.mobile_inverted_conv.depth_conv.conv.weight with sparsity 0.4\n",
      "✅ [Pruning] blocks.15.mobile_inverted_conv.point_linear.conv.weight with sparsity 0.4\n",
      "✅ [Pruning] blocks.16.mobile_inverted_conv.inverted_bottleneck.conv.weight with sparsity 0.4\n",
      "✅ [Pruning] blocks.16.mobile_inverted_conv.depth_conv.conv.weight with sparsity 0.4\n",
      "✅ [Pruning] blocks.16.mobile_inverted_conv.point_linear.conv.weight with sparsity 0.4\n"
     ]
    },
    {
     "name": "stderr",
     "output_type": "stream",
     "text": [
      "                                                           "
     ]
    },
    {
     "name": "stdout",
     "output_type": "stream",
     "text": [
      "\n",
      "after pruning: 0.3256338127716719, acuracy: 92.66%\n"
     ]
    },
    {
     "name": "stderr",
     "output_type": "stream",
     "text": [
      "\r"
     ]
    }
   ],
   "source": [
    "def recover_model():\n",
    "    \"\"\"\n",
    "    Reload the original pretrained model from disk.\n",
    "    \"\"\"\n",
    "    global model\n",
    "    model = load_pretrained_model('mcunet-in4', 'content/mcunet-in4_2_cifar10.pth')\n",
    "    print(\"🔁 Model recovered to original (pre-pruning) state.\")\n",
    "\n",
    "\n",
    "recover_model()\n",
    "print(f'Sparsity before pruning: {calculate_sparsity(model)}')\n",
    "for layer_name, sparsity in layer_dict.items():\n",
    "    if layer_name not in dict(model.named_parameters()):\n",
    "        print(f\"❌ [Not Found] {layer_name}\")\n",
    "        continue\n",
    "    print(f\"✅ [Pruning] {layer_name} with sparsity {sparsity}\")\n",
    "\n",
    "    param = dict(model.named_parameters())[layer_name]\n",
    "    pruned_tensor, mask = prune_layer_with_sparsity(param.data, sparsity)\n",
    "    param.data.copy_(pruned_tensor)\n",
    "acc = evaluate(model, dataloader['test'])\n",
    "print()\n",
    "print(f'after pruning: {calculate_sparsity(model)}, acuracy: {acc}%')"
   ]
  },
  {
   "cell_type": "code",
   "execution_count": 108,
   "id": "f0f87b87",
   "metadata": {},
   "outputs": [
    {
     "name": "stdout",
     "output_type": "stream",
     "text": [
      "Saved to: C:/Users/96156/OneDrive - nyu.edu/ce/9483/Efficient_ML_mcunet/content/pruned.pth\n"
     ]
    }
   ],
   "source": [
    "import os\n",
    "model_save_path = f\"C:/Users/96156/OneDrive - nyu.edu/ce/9483/Efficient_ML_mcunet/content/pruned.pth\"\n",
    "os.makedirs(os.path.dirname(model_save_path), exist_ok=True)\n",
    "torch.save(model.state_dict(), model_save_path)\n",
    "print(\"Saved to:\", model_save_path)"
   ]
  },
  {
   "cell_type": "code",
   "execution_count": 58,
   "id": "0b8859fb",
   "metadata": {},
   "outputs": [
    {
     "name": "stderr",
     "output_type": "stream",
     "text": [
      "C:\\Users\\96156\\AppData\\Local\\Temp\\ipykernel_72552\\453617923.py:30: FutureWarning: You are using `torch.load` with `weights_only=False` (the current default value), which uses the default pickle module implicitly. It is possible to construct malicious pickle data which will execute arbitrary code during unpickling (See https://github.com/pytorch/pytorch/blob/main/SECURITY.md#untrusted-models for more details). In a future release, the default value for `weights_only` will be flipped to `True`. This limits the functions that could be executed during unpickling. Arbitrary objects will no longer be allowed to be loaded via this mode unless they are explicitly allowlisted by the user via `torch.serialization.add_safe_globals`. We recommend you start setting `weights_only=True` for any use case where you don't have full control of the loaded file. Please open an issue on GitHub for any issues related to this experimental feature.\n",
      "  state_dict = torch.load(weight_path, map_location=device)\n"
     ]
    },
    {
     "name": "stdout",
     "output_type": "stream",
     "text": [
      "🔁 Model recovered to original (pre-pruning) state.\n"
     ]
    },
    {
     "name": "stderr",
     "output_type": "stream",
     "text": [
      "                                                           \r"
     ]
    }
   ],
   "source": [
    "recover_model()\n",
    "evaluate(model, dataloader['test'])\n",
    "model = model.to(device)"
   ]
  },
  {
   "cell_type": "code",
   "execution_count": 65,
   "id": "84a1d28d",
   "metadata": {},
   "outputs": [],
   "source": [
    "import torch\n",
    "import torch.nn as nn\n",
    "import torch_pruning as tp\n",
    "import copy\n",
    "\n",
    "class MCUNetHardPruner:\n",
    "    def __init__(self, model: nn.Module, layer_dict: dict, example_input: torch.Tensor):\n",
    "        \"\"\"\n",
    "        Hard pruner for MCUNet using torch_pruning, with per-layer control.\n",
    "\n",
    "        Args:\n",
    "            model (nn.Module): The model to be pruned.\n",
    "            layer_dict (dict): Dictionary of {layer_name: prune_ratio}.\n",
    "            example_input (torch.Tensor): A sample input for dependency graph analysis.\n",
    "        \"\"\"\n",
    "        self.model = copy.deepcopy(model)\n",
    "        self.layer_dict = layer_dict\n",
    "        self.example_input = example_input\n",
    "        self.masks = {}\n",
    "\n",
    "        self.DG = tp.DependencyGraph()\n",
    "        self.DG.build_dependency(self.model, example_inputs=self.example_input)\n",
    "\n",
    "    def prune_conv_layer(self, name: str, conv_layer: nn.Conv2d, amount: float):\n",
    "        \"\"\"\n",
    "        Perform structured channel pruning on a single Conv2D layer.\n",
    "\n",
    "        Args:\n",
    "            name (str): Name of the layer.\n",
    "            conv_layer (nn.Conv2d): The Conv2D layer to prune.\n",
    "            amount (float): Ratio of channels to prune.\n",
    "        \"\"\"\n",
    "        weight = conv_layer.weight.data\n",
    "        out_channels = weight.shape[0]\n",
    "        # compute L1 norm of each filter\n",
    "        l1_norm = weight.abs().view(out_channels, -1).sum(dim=1)\n",
    "        # number of channels to prune\n",
    "        k = int(amount * out_channels)\n",
    "        # pick the k smallest\n",
    "        pruning_idxs = torch.argsort(l1_norm)[:k].tolist()\n",
    "\n",
    "        group = self.DG.get_pruning_group(\n",
    "            conv_layer,\n",
    "            tp.prune_conv_out_channels,  # 注意：这里是 prune_conv_out_channels\n",
    "            idxs=pruning_idxs\n",
    "        )\n",
    "        if self.DG.check_pruning_group(group):  # 可选：避免把整个通道都删光\n",
    "            group.prune()\n",
    "        self.masks[name] = True\n",
    "\n",
    "    def prune_model(self):\n",
    "        \"\"\"\n",
    "        Apply hard pruning only to specified layers in layer_dict.\n",
    "\n",
    "        Returns:\n",
    "            pruned_model (nn.Module): The structurally pruned model.\n",
    "        \"\"\"\n",
    "        for name, module in self.model.named_modules():\n",
    "            if not isinstance(module, nn.Conv2d):\n",
    "                continue\n",
    "\n",
    "            if name in self.layer_dict:\n",
    "                amount = self.layer_dict[name]\n",
    "                if module.out_channels >= 4 and amount > 0.0:\n",
    "                    self.prune_conv_layer(name, module, amount)\n",
    "\n",
    "        return self.model, self.masks"
   ]
  },
  {
   "cell_type": "code",
   "execution_count": 92,
   "id": "952e014c",
   "metadata": {},
   "outputs": [],
   "source": [
    "def calculate_sparsity_hp(original_model: nn.Module, pruned_model: nn.Module) -> float:\n",
    "    \"\"\"\n",
    "    Compute the global sparsity introduced by hard pruning,\n",
    "    i.e. the fraction of weights (parameters) removed.\n",
    "\n",
    "    Args:\n",
    "        original_model (nn.Module): the unpruned, pretrained model\n",
    "        pruned_model   (nn.Module): the model after hard pruning\n",
    "\n",
    "    Returns:\n",
    "        sparsity (float): (orig_params - pruned_params) / orig_params\n",
    "    \"\"\"\n",
    "    orig_params = sum(p.numel() for p in original_model.parameters())\n",
    "    pruned_params = sum(p.numel() for p in pruned_model.parameters())\n",
    "    return (orig_params - pruned_params) / orig_params"
   ]
  },
  {
   "cell_type": "code",
   "execution_count": 90,
   "id": "87647a0a",
   "metadata": {},
   "outputs": [
    {
     "name": "stderr",
     "output_type": "stream",
     "text": [
      "C:\\Users\\96156\\AppData\\Local\\Temp\\ipykernel_72552\\453617923.py:30: FutureWarning: You are using `torch.load` with `weights_only=False` (the current default value), which uses the default pickle module implicitly. It is possible to construct malicious pickle data which will execute arbitrary code during unpickling (See https://github.com/pytorch/pytorch/blob/main/SECURITY.md#untrusted-models for more details). In a future release, the default value for `weights_only` will be flipped to `True`. This limits the functions that could be executed during unpickling. Arbitrary objects will no longer be allowed to be loaded via this mode unless they are explicitly allowlisted by the user via `torch.serialization.add_safe_globals`. We recommend you start setting `weights_only=True` for any use case where you don't have full control of the loaded file. Please open an issue on GitHub for any issues related to this experimental feature.\n",
      "  state_dict = torch.load(weight_path, map_location=device)\n"
     ]
    },
    {
     "name": "stdout",
     "output_type": "stream",
     "text": [
      "🔁 Model recovered to original (pre-pruning) state.\n"
     ]
    }
   ],
   "source": [
    "layer_dict = {\n",
    "    # Blocks 0–10: 完全保留，不剪枝\n",
    "    **{f'blocks.{i}.mobile_inverted_conv.inverted_bottleneck.conv': 0.0 for i in range(13)},\n",
    "    **{f'blocks.{i}.mobile_inverted_conv.depth_conv.conv':          0.0 for i in range(13)},\n",
    "    **{f'blocks.{i}.mobile_inverted_conv.point_linear.conv':        0.0 for i in range(13)},\n",
    "\n",
    "\n",
    "    # Block 13\n",
    "    'blocks.13.mobile_inverted_conv.inverted_bottleneck.conv': 0.1,\n",
    "    'blocks.13.mobile_inverted_conv.depth_conv.conv':          0.1,\n",
    "    'blocks.13.mobile_inverted_conv.point_linear.conv':        0.1,\n",
    "\n",
    "    # Block 14\n",
    "    'blocks.14.mobile_inverted_conv.inverted_bottleneck.conv': 0.1,\n",
    "    'blocks.14.mobile_inverted_conv.depth_conv.conv':          0.10,\n",
    "    'blocks.14.mobile_inverted_conv.point_linear.conv':        0.1,\n",
    "\n",
    "    # Block 15\n",
    "    'blocks.15.mobile_inverted_conv.inverted_bottleneck.conv': 0.1,\n",
    "    'blocks.15.mobile_inverted_conv.depth_conv.conv':          0.1,\n",
    "    'blocks.15.mobile_inverted_conv.point_linear.conv':        0.1,\n",
    "\n",
    "    # Block 16\n",
    "    'blocks.16.mobile_inverted_conv.inverted_bottleneck.conv': 0.1,\n",
    "    'blocks.16.mobile_inverted_conv.depth_conv.conv':          0.1,\n",
    "    'blocks.16.mobile_inverted_conv.point_linear.conv':        0.1,\n",
    "}\n",
    "\n",
    "\n",
    "\n",
    "recover_model()\n",
    "example_input = torch.randn(1, 3, 160, 160, device=device)\n",
    "pruner = MCUNetHardPruner(model, layer_dict, example_input)\n",
    "pruned_model, masks = pruner.prune_model()"
   ]
  },
  {
   "cell_type": "code",
   "execution_count": 98,
   "id": "ce695f72",
   "metadata": {},
   "outputs": [],
   "source": [
    "def iterative_prune_and_finetune(\n",
    "    model: nn.Module,\n",
    "    layer_dict: dict[str, float],\n",
    "    example_input: torch.Tensor,\n",
    "    dataloaders: dict[str, DataLoader],\n",
    "    device: str = 'cuda',\n",
    "    prune_steps: list[float] = [0.05, 0.10, 0.15, 0.20],\n",
    "    finetune_epochs_per_step: int = 5,\n",
    "    lr: float = 1e-3\n",
    ") -> nn.Module:\n",
    "\n",
    "    model = copy.deepcopy(model).to(device)\n",
    "\n",
    "    for step_ratio, epochs in zip(prune_steps, finetune_epochs_per_step):\n",
    "        # 本轮实际剪枝比例，不能超过 layer_dict 中的最大值\n",
    "        this_round = {\n",
    "            name: min(step_ratio, layer_dict[name])\n",
    "            for name in layer_dict\n",
    "        }\n",
    "\n",
    "        # 硬剪枝\n",
    "        pruner = MCUNetHardPruner(model, this_round, example_input)\n",
    "        model, _ = pruner.prune_model()\n",
    "        model.to(device)\n",
    "\n",
    "        # 短期微调\n",
    "        optimizer = torch.optim.SGD(model.parameters(), lr=lr, momentum=0.9)\n",
    "        for epoch in range(epochs):\n",
    "            model.train()\n",
    "            for xb, yb in dataloaders['train']:\n",
    "                xb, yb = xb.to(device), yb.to(device)\n",
    "                optimizer.zero_grad()\n",
    "                loss = F.cross_entropy(model(xb), yb)\n",
    "                loss.backward()\n",
    "                optimizer.step()\n",
    "\n",
    "            # 验证\n",
    "            model.eval()\n",
    "            total, correct = 0, 0\n",
    "            with torch.no_grad():\n",
    "                for xb, yb in dataloaders['test']:\n",
    "                    xb, yb = xb.to(device), yb.to(device)\n",
    "                    pred = model(xb).argmax(dim=1)\n",
    "                    correct += (pred == yb).sum().item()\n",
    "                    total += yb.size(0)\n",
    "            acc = correct / total * 100\n",
    "            print(f\"[Step {step_ratio:.2f}] Epoch {epoch+1}/{epochs} — Acc: {acc:.2f}%\")\n",
    "\n",
    "    return model\n"
   ]
  },
  {
   "cell_type": "code",
   "execution_count": 99,
   "id": "821902e0",
   "metadata": {},
   "outputs": [
    {
     "name": "stderr",
     "output_type": "stream",
     "text": [
      "c:\\Users\\96156\\OneDrive - nyu.edu\\ce\\9483\\Efficient_ML_mcunet\\mcunet\\model_zoo.py:82: FutureWarning: You are using `torch.load` with `weights_only=False` (the current default value), which uses the default pickle module implicitly. It is possible to construct malicious pickle data which will execute arbitrary code during unpickling (See https://github.com/pytorch/pytorch/blob/main/SECURITY.md#untrusted-models for more details). In a future release, the default value for `weights_only` will be flipped to `True`. This limits the functions that could be executed during unpickling. Arbitrary objects will no longer be allowed to be loaded via this mode unless they are explicitly allowlisted by the user via `torch.serialization.add_safe_globals`. We recommend you start setting `weights_only=True` for any use case where you don't have full control of the loaded file. Please open an issue on GitHub for any issues related to this experimental feature.\n",
      "  sd = torch.load(download_url(sd_url), map_location='cpu')\n",
      "C:\\Users\\96156\\AppData\\Local\\Temp\\ipykernel_72552\\453617923.py:30: FutureWarning: You are using `torch.load` with `weights_only=False` (the current default value), which uses the default pickle module implicitly. It is possible to construct malicious pickle data which will execute arbitrary code during unpickling (See https://github.com/pytorch/pytorch/blob/main/SECURITY.md#untrusted-models for more details). In a future release, the default value for `weights_only` will be flipped to `True`. This limits the functions that could be executed during unpickling. Arbitrary objects will no longer be allowed to be loaded via this mode unless they are explicitly allowlisted by the user via `torch.serialization.add_safe_globals`. We recommend you start setting `weights_only=True` for any use case where you don't have full control of the loaded file. Please open an issue on GitHub for any issues related to this experimental feature.\n",
      "  state_dict = torch.load(weight_path, map_location=device)\n"
     ]
    },
    {
     "name": "stdout",
     "output_type": "stream",
     "text": [
      "🔁 Model recovered to original (pre-pruning) state.\n",
      "[Step 0.05] Epoch 1/2 — Acc: 94.53%\n",
      "[Step 0.05] Epoch 2/2 — Acc: 94.79%\n",
      "[Step 0.10] Epoch 1/2 — Acc: 92.59%\n",
      "[Step 0.10] Epoch 2/2 — Acc: 93.28%\n",
      "[Step 0.15] Epoch 1/3 — Acc: 90.43%\n",
      "[Step 0.15] Epoch 2/3 — Acc: 91.57%\n",
      "[Step 0.15] Epoch 3/3 — Acc: 92.00%\n",
      "🔁 Model recovered to original (pre-pruning) state.\n"
     ]
    },
    {
     "name": "stderr",
     "output_type": "stream",
     "text": [
      "                                                           "
     ]
    },
    {
     "name": "stdout",
     "output_type": "stream",
     "text": [
      "Final Acc: 92.0\n",
      "Final Sparsity: 0.5660077039968902\n"
     ]
    },
    {
     "name": "stderr",
     "output_type": "stream",
     "text": [
      "\r"
     ]
    }
   ],
   "source": [
    "recover_model()\n",
    "\n",
    "layer_dict = {\n",
    "    # Blocks 0–11: 不剪枝\n",
    "    **{f'blocks.{i}.mobile_inverted_conv.inverted_bottleneck.conv': 0.0 for i in range(12)},\n",
    "    **{f'blocks.{i}.mobile_inverted_conv.depth_conv.conv':          0.0 for i in range(12)},\n",
    "    **{f'blocks.{i}.mobile_inverted_conv.point_linear.conv':        0.0 for i in range(12)},\n",
    "\n",
    "    # Blocks 12–16: 最多 20%\n",
    "    **{f'blocks.{i}.mobile_inverted_conv.inverted_bottleneck.conv': 0.2 for i in range(12, 17)},\n",
    "    **{f'blocks.{i}.mobile_inverted_conv.depth_conv.conv':          0.2 for i in range(12, 17)},\n",
    "    **{f'blocks.{i}.mobile_inverted_conv.point_linear.conv':        0.2 for i in range(12, 17)},\n",
    "}\n",
    "\n",
    "finetuned_model = iterative_prune_and_finetune(\n",
    "    model=load_pretrained_model('mcunet-in4', 'content/mcunet-in4_2_cifar10.pth'),\n",
    "    layer_dict=layer_dict,\n",
    "    example_input=torch.randn(1, 3, 160, 160).to(device),\n",
    "    dataloaders={'train': dataloader['train'], 'test': dataloader['test']},\n",
    "    device=device,\n",
    "    prune_steps=[0.05, 0.10, 0.15],\n",
    "    finetune_epochs_per_step=[2, 2, 3],\n",
    "    lr=1e-3\n",
    ")\n",
    "\n",
    "recover_model()\n",
    "print(\"Final Acc:\", evaluate(finetuned_model, dataloader['test'], device=device))\n",
    "print(\"Final Sparsity:\", calculate_sparsity_hp(model, finetuned_model))"
   ]
  },
  {
   "cell_type": "code",
   "execution_count": 102,
   "id": "287d58b5",
   "metadata": {},
   "outputs": [
    {
     "name": "stdout",
     "output_type": "stream",
     "text": [
      "Saved to: C:/Users/96156/OneDrive - nyu.edu/ce/9483/Efficient_ML_mcunet/content/hardpruned.pth\n"
     ]
    }
   ],
   "source": [
    "import os\n",
    "model_save_path = f\"C:/Users/96156/OneDrive - nyu.edu/ce/9483/Efficient_ML_mcunet/content/hardpruned.pth\"\n",
    "os.makedirs(os.path.dirname(model_save_path), exist_ok=True)\n",
    "torch.save(finetuned_model.state_dict(), model_save_path)\n",
    "print(\"Saved to:\", model_save_path)"
   ]
  },
  {
   "cell_type": "code",
   "execution_count": 111,
   "id": "c811565a",
   "metadata": {},
   "outputs": [],
   "source": [
    "torch.save(finetuned_model, \"hardpruned_.pth\")"
   ]
  },
  {
   "cell_type": "code",
   "execution_count": null,
   "id": "ebee70d8",
   "metadata": {},
   "outputs": [
    {
     "name": "stdout",
     "output_type": "stream",
     "text": [
      "sparsity: 0.2534402940241015\n"
     ]
    },
    {
     "name": "stderr",
     "output_type": "stream",
     "text": [
      "                                                           "
     ]
    },
    {
     "name": "stdout",
     "output_type": "stream",
     "text": [
      "acc: 80.73\n"
     ]
    },
    {
     "name": "stderr",
     "output_type": "stream",
     "text": [
      "\r"
     ]
    }
   ],
   "source": [
    "print(\"sparsity:\", calculate_sparsity_hp(model,pruned_model))\n",
    "print(\"acc:\", evaluate(pruned_model, dataloader['test']))"
   ]
  }
 ],
 "metadata": {
  "kernelspec": {
   "display_name": "base",
   "language": "python",
   "name": "python3"
  },
  "language_info": {
   "codemirror_mode": {
    "name": "ipython",
    "version": 3
   },
   "file_extension": ".py",
   "mimetype": "text/x-python",
   "name": "python",
   "nbconvert_exporter": "python",
   "pygments_lexer": "ipython3",
   "version": "3.11.7"
  }
 },
 "nbformat": 4,
 "nbformat_minor": 5
}
